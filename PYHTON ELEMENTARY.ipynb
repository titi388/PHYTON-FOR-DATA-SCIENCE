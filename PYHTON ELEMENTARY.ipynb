{
 "cells": [
  {
   "cell_type": "markdown",
   "id": "72cef34f",
   "metadata": {},
   "source": [
    "# This is introduction to jupyter notebook\n",
    "## This is a bit smaller\n",
    "\n",
    "###### This is the last header\n",
    "\n",
    "\n",
    "\n",
    "\n",
    "\n",
    "This is python, it is fun and easy to learn\n",
    "\n",
    "# How to create list\n",
    "1. your point\n",
    "2. step two\n",
    "3. step three\n",
    "\n",
    "\n",
    "- point one\n",
    "- point two\n",
    "- point iii\n",
    "\n"
   ]
  },
  {
   "cell_type": "code",
   "execution_count": null,
   "id": "cfb50dec",
   "metadata": {},
   "outputs": [],
   "source": []
  },
  {
   "attachments": {
    "laptop.jpg": {
     "image/jpeg": "[encoded data removed]"
    }
   },
   "cell_type": "markdown",
   "id": "618cfc30",
   "metadata": {},
   "source": [
    "![laptop.jpg](attachment:laptop.jpg)"
   ]
  },
  {
   "cell_type": "code",
   "execution_count": 1,
   "id": "77ce6557",
   "metadata": {},
   "outputs": [
    {
     "name": "stdout",
     "output_type": "stream",
     "text": [
      "Hello!, am learning how to create robot using python.\n"
     ]
    }
   ],
   "source": [
    "# am about to write my first python code\n",
    "print(\"Hello!, am learning how to create robot using python.\")"
   ]
  },
  {
   "cell_type": "code",
   "execution_count": null,
   "id": "2b36a6dc",
   "metadata": {},
   "outputs": [],
   "source": []
  },
  {
   "cell_type": "markdown",
   "id": "f970882a",
   "metadata": {},
   "source": [
    "# Variable and Identifier"
   ]
  },
  {
   "cell_type": "code",
   "execution_count": 1,
   "id": "55f88108",
   "metadata": {},
   "outputs": [],
   "source": [
    "num1=2"
   ]
  },
  {
   "cell_type": "code",
   "execution_count": 5,
   "id": "39fb7cc5",
   "metadata": {},
   "outputs": [
    {
     "data": {
      "text/plain": [
       "1368820705616"
      ]
     },
     "execution_count": 5,
     "metadata": {},
     "output_type": "execute_result"
    }
   ],
   "source": [
    "id(2)"
   ]
  },
  {
   "cell_type": "code",
   "execution_count": 7,
   "id": "c60f47f6",
   "metadata": {},
   "outputs": [
    {
     "name": "stdout",
     "output_type": "stream",
     "text": [
      "2\n"
     ]
    }
   ],
   "source": [
    "print(num1)"
   ]
  },
  {
   "cell_type": "markdown",
   "id": "f7d86866",
   "metadata": {},
   "source": [
    "# Rules for naming variable\n",
    "1. variable name can not start with a number, though, number can be find anywhere else\n",
    "2. Any special character can not be included in variable name, except underscore\n",
    "3. space can not be used to join two words together, use, underscore instead\n",
    "4. variable name should descriptive"
   ]
  },
  {
   "cell_type": "code",
   "execution_count": 2,
   "id": "e4e4636d",
   "metadata": {},
   "outputs": [
    {
     "name": "stdout",
     "output_type": "stream",
     "text": [
      "Titilayo\n",
      "layo\n"
     ]
    }
   ],
   "source": [
    "num_1 =\"Titilayo\"\n",
    "print(num_1)\n",
    "\n",
    "num_2 = \"layo\"\n",
    "print(num_2)"
   ]
  },
  {
   "cell_type": "code",
   "execution_count": 3,
   "id": "6604fa56",
   "metadata": {},
   "outputs": [
    {
     "name": "stdout",
     "output_type": "stream",
     "text": [
      "Bukky\n",
      "Esther\n"
     ]
    }
   ],
   "source": [
    "first_name = \"Bukky\"\n",
    "print(first_name)\n",
    "\n",
    "last_name = \"Esther\"\n",
    "print(last_name)"
   ]
  },
  {
   "cell_type": "code",
   "execution_count": 7,
   "id": "cdae1763",
   "metadata": {},
   "outputs": [
    {
     "name": "stdout",
     "output_type": "stream",
     "text": [
      "Hello everyone, my name is Titlayo Ogodan I am 46 years old from Ekiti State\n",
      "hello everyone, my name is Bola Ade I am 10 years old from Lagos State\n"
     ]
    }
   ],
   "source": [
    "first_name = \"Titlayo\"\n",
    "last_name = \"Ogodan\"\n",
    "age = 46\n",
    "origin = \"Ekiti\"\n",
    "\n",
    "print(\"Hello everyone, my name is\", first_name, last_name, \"I am\", age, \"years old\", \"from\", origin, \"State\")\n",
    "\n",
    "\n",
    "first_name = \"Bola\"\n",
    "last_name = \"Ade\"\n",
    "age = 10\n",
    "origin = \"Lagos\"\n",
    "print(\"hello everyone, my name is\", first_name, last_name, \"I am\", age, \"years old\", \"from\", origin, \"State\")"
   ]
  },
  {
   "cell_type": "code",
   "execution_count": null,
   "id": "3a05a5c4",
   "metadata": {},
   "outputs": [
    {
     "name": "stdout",
     "output_type": "stream",
     "text": [
      "please enter your first nameTitilayo\n",
      "enter your last nameOgodan\n",
      "enter your age46\n"
     ]
    }
   ],
   "source": [
    "first_name = input(\"please enter your first name\")\n",
    "last_name = input(\"enter your last name\")\n",
    "age = input(\"enter your age\")\n",
    "origin = input(\"please what is your state of origin\")\n",
    "\n",
    "print(\"Hello everyone, my name is\", first_name, last_name, \"I am\", age, \"years old\", \"from\", origin, \"State\")"
   ]
  },
  {
   "cell_type": "code",
   "execution_count": 11,
   "id": "13aeb97f",
   "metadata": {},
   "outputs": [
    {
     "data": {
      "text/plain": [
       "'Titilayo'"
      ]
     },
     "execution_count": 11,
     "metadata": {},
     "output_type": "execute_result"
    }
   ],
   "source": [
    "'Titi' + 'layo'\n"
   ]
  },
  {
   "cell_type": "code",
   "execution_count": 21,
   "id": "54ace1ec",
   "metadata": {},
   "outputs": [
    {
     "name": "stdout",
     "output_type": "stream",
     "text": [
      "please enter the first number 7\n",
      "please enter the second number 6\n",
      "the sum of the two number entered is 13\n"
     ]
    }
   ],
   "source": [
    "num_1 = int(input('please enter the first number '))\n",
    "num_2 = int(input('please enter the second number '))\n",
    "total = num_1 + num_2\n",
    "print(\"the sum of the two number entered is\", total)\n",
    "\n"
   ]
  },
  {
   "cell_type": "markdown",
   "id": "241cff21",
   "metadata": {},
   "source": [
    "# Type of data type:\n",
    "- int\n",
    "- float\n",
    "- str\n",
    "- complex"
   ]
  },
  {
   "cell_type": "code",
   "execution_count": 10,
   "id": "e91df6c1",
   "metadata": {},
   "outputs": [
    {
     "name": "stdout",
     "output_type": "stream",
     "text": [
      "7\n"
     ]
    }
   ],
   "source": [
    "y = int(\"2\")\n",
    "x = int(\"5\")\n",
    "total = y + x\n",
    "print(total)"
   ]
  },
  {
   "cell_type": "code",
   "execution_count": null,
   "id": "654abf6e",
   "metadata": {},
   "outputs": [],
   "source": [
    "# the keyword to check datatype in python is type"
   ]
  },
  {
   "cell_type": "code",
   "execution_count": 23,
   "id": "6682559e",
   "metadata": {},
   "outputs": [
    {
     "data": {
      "text/plain": [
       "int"
      ]
     },
     "execution_count": 23,
     "metadata": {},
     "output_type": "execute_result"
    }
   ],
   "source": [
    "type(y)"
   ]
  },
  {
   "cell_type": "code",
   "execution_count": 24,
   "id": "a540b600",
   "metadata": {},
   "outputs": [],
   "source": [
    "x = 2.7"
   ]
  },
  {
   "cell_type": "code",
   "execution_count": 25,
   "id": "d91a4f26",
   "metadata": {},
   "outputs": [
    {
     "data": {
      "text/plain": [
       "float"
      ]
     },
     "execution_count": 25,
     "metadata": {},
     "output_type": "execute_result"
    }
   ],
   "source": [
    "type(x)"
   ]
  },
  {
   "cell_type": "code",
   "execution_count": 18,
   "id": "9aca2fef",
   "metadata": {},
   "outputs": [],
   "source": [
    "x = 1j"
   ]
  },
  {
   "cell_type": "code",
   "execution_count": 19,
   "id": "c488d0a6",
   "metadata": {},
   "outputs": [
    {
     "data": {
      "text/plain": [
       "complex"
      ]
     },
     "execution_count": 19,
     "metadata": {},
     "output_type": "execute_result"
    }
   ],
   "source": [
    "type(x)"
   ]
  },
  {
   "cell_type": "code",
   "execution_count": 17,
   "id": "0fee60ae",
   "metadata": {},
   "outputs": [
    {
     "name": "stdout",
     "output_type": "stream",
     "text": [
      "1j\n"
     ]
    }
   ],
   "source": [
    "# example of complex type\n",
    "\n",
    "x = 1j\n",
    "#display x:\n",
    "print(x)"
   ]
  },
  {
   "cell_type": "markdown",
   "id": "d7b9bafc",
   "metadata": {},
   "source": [
    "# OPERATORS IN PYTHON\n",
    "1. Arithmetic\n",
    "2. Comparison\n",
    "3. Assignment\n",
    "4. Logical\n",
    "5. Membership\n",
    "6. Identity\n",
    "7. Bitwise"
   ]
  },
  {
   "cell_type": "markdown",
   "id": "083a6f48",
   "metadata": {},
   "source": [
    "# Arithmetic Operator"
   ]
  },
  {
   "cell_type": "code",
   "execution_count": 26,
   "id": "52a089ae",
   "metadata": {},
   "outputs": [
    {
     "name": "stdout",
     "output_type": "stream",
     "text": [
      "13\n"
     ]
    }
   ],
   "source": [
    "# plus (+)\n",
    "a = 6\n",
    "b = 7\n",
    "total = a + b\n",
    "print(total)"
   ]
  },
  {
   "cell_type": "code",
   "execution_count": 27,
   "id": "b3da3845",
   "metadata": {},
   "outputs": [
    {
     "name": "stdout",
     "output_type": "stream",
     "text": [
      "-1\n"
     ]
    }
   ],
   "source": [
    "# minus (-)\n",
    "a = 6\n",
    "b = 7\n",
    "total = a - b\n",
    "print(total)"
   ]
  },
  {
   "cell_type": "code",
   "execution_count": 28,
   "id": "53fb233f",
   "metadata": {},
   "outputs": [
    {
     "name": "stdout",
     "output_type": "stream",
     "text": [
      "42\n"
     ]
    }
   ],
   "source": [
    "# multiplication (*)\n",
    "a = 6\n",
    "b = 7\n",
    "total = a * b\n",
    "print(total)"
   ]
  },
  {
   "cell_type": "code",
   "execution_count": 30,
   "id": "0744f0a6",
   "metadata": {},
   "outputs": [
    {
     "name": "stdout",
     "output_type": "stream",
     "text": [
      "36\n"
     ]
    }
   ],
   "source": [
    "# power (**)\n",
    "a = 6\n",
    "b = 2\n",
    "total = a ** b\n",
    "print(total)"
   ]
  },
  {
   "cell_type": "code",
   "execution_count": 1,
   "id": "55643e84",
   "metadata": {},
   "outputs": [
    {
     "name": "stdout",
     "output_type": "stream",
     "text": [
      "0.8571428571428571\n"
     ]
    }
   ],
   "source": [
    "# division (/)\n",
    "a = 6\n",
    "b = 7\n",
    "total = a / b\n",
    "print(total)"
   ]
  },
  {
   "cell_type": "code",
   "execution_count": 2,
   "id": "ec5428de",
   "metadata": {},
   "outputs": [
    {
     "name": "stdout",
     "output_type": "stream",
     "text": [
      "0\n"
     ]
    }
   ],
   "source": [
    "# division (/) to convert to integer (int)\n",
    "a = 6\n",
    "b = 7\n",
    "total = a // b\n",
    "print(total)"
   ]
  },
  {
   "cell_type": "code",
   "execution_count": 32,
   "id": "6c6c66ad",
   "metadata": {},
   "outputs": [
    {
     "name": "stdout",
     "output_type": "stream",
     "text": [
      "1\n"
     ]
    }
   ],
   "source": [
    "# modulus (%): it used to return remainder of division operation\n",
    "a = 10\n",
    "b = 3\n",
    "total = a % b\n",
    "print(total)"
   ]
  },
  {
   "cell_type": "markdown",
   "id": "000957ca",
   "metadata": {},
   "source": [
    "# Comparison operator\n",
    "Its used to compare two or more variables. And it return boolean (boolean means true or false)"
   ]
  },
  {
   "cell_type": "code",
   "execution_count": 33,
   "id": "ec047911",
   "metadata": {},
   "outputs": [
    {
     "data": {
      "text/plain": [
       "True"
      ]
     },
     "execution_count": 33,
     "metadata": {},
     "output_type": "execute_result"
    }
   ],
   "source": [
    "# greater (>)\n",
    "a = 12\n",
    "b = 10\n",
    "a>b"
   ]
  },
  {
   "cell_type": "code",
   "execution_count": 34,
   "id": "a2071506",
   "metadata": {},
   "outputs": [
    {
     "data": {
      "text/plain": [
       "True"
      ]
     },
     "execution_count": 34,
     "metadata": {},
     "output_type": "execute_result"
    }
   ],
   "source": [
    "# greater or equals to(>=)\n",
    "a = 12\n",
    "b = 12\n",
    "a>=b"
   ]
  },
  {
   "cell_type": "code",
   "execution_count": 35,
   "id": "e15f01e9",
   "metadata": {},
   "outputs": [
    {
     "data": {
      "text/plain": [
       "False"
      ]
     },
     "execution_count": 35,
     "metadata": {},
     "output_type": "execute_result"
    }
   ],
   "source": [
    "# greater or equals to(>=)\n",
    "a = 12\n",
    "b = 17\n",
    "a>=b"
   ]
  },
  {
   "cell_type": "code",
   "execution_count": 36,
   "id": "5797bac5",
   "metadata": {},
   "outputs": [
    {
     "data": {
      "text/plain": [
       "True"
      ]
     },
     "execution_count": 36,
     "metadata": {},
     "output_type": "execute_result"
    }
   ],
   "source": [
    "# lesser than (<)\n",
    "a = 12\n",
    "b = 17\n",
    "a<b"
   ]
  },
  {
   "cell_type": "code",
   "execution_count": 37,
   "id": "650c0a5e",
   "metadata": {},
   "outputs": [
    {
     "data": {
      "text/plain": [
       "False"
      ]
     },
     "execution_count": 37,
     "metadata": {},
     "output_type": "execute_result"
    }
   ],
   "source": [
    "# lesser than (<)\n",
    "a = 20\n",
    "b = 17\n",
    "a<b"
   ]
  },
  {
   "cell_type": "code",
   "execution_count": 38,
   "id": "7e0f624a",
   "metadata": {},
   "outputs": [
    {
     "data": {
      "text/plain": [
       "False"
      ]
     },
     "execution_count": 38,
     "metadata": {},
     "output_type": "execute_result"
    }
   ],
   "source": [
    "# lesser than or equal to (<=)\n",
    "a = 20\n",
    "b = 17\n",
    "a<=b"
   ]
  },
  {
   "cell_type": "code",
   "execution_count": 39,
   "id": "0a532792",
   "metadata": {},
   "outputs": [
    {
     "data": {
      "text/plain": [
       "True"
      ]
     },
     "execution_count": 39,
     "metadata": {},
     "output_type": "execute_result"
    }
   ],
   "source": [
    "# lesser than or equal to (<=)\n",
    "a = 20\n",
    "b = 20\n",
    "a<=b"
   ]
  },
  {
   "cell_type": "code",
   "execution_count": 13,
   "id": "8b362f50",
   "metadata": {},
   "outputs": [
    {
     "data": {
      "text/plain": [
       "True"
      ]
     },
     "execution_count": 13,
     "metadata": {},
     "output_type": "execute_result"
    }
   ],
   "source": [
    "# equal to (==)\n",
    "a = 17\n",
    "b = 17\n",
    "a == b # Comparing two variables"
   ]
  },
  {
   "cell_type": "code",
   "execution_count": 41,
   "id": "5623b624",
   "metadata": {},
   "outputs": [
    {
     "data": {
      "text/plain": [
       "True"
      ]
     },
     "execution_count": 41,
     "metadata": {},
     "output_type": "execute_result"
    }
   ],
   "source": [
    "# not equal to (!=)\n",
    "a = 1\n",
    "b = 17\n",
    "a !=b # comparing two variables"
   ]
  },
  {
   "cell_type": "markdown",
   "id": "ba2f915b",
   "metadata": {},
   "source": [
    "# Assigment"
   ]
  },
  {
   "cell_type": "code",
   "execution_count": 2,
   "id": "181f95e4",
   "metadata": {},
   "outputs": [
    {
     "name": "stdout",
     "output_type": "stream",
     "text": [
      "2\n",
      "3\n"
     ]
    }
   ],
   "source": [
    "# equal sign\n",
    "a = 2 # assigning 2 to a\n",
    "print(a)\n",
    "\n",
    "b = 3\n",
    "print(b)"
   ]
  },
  {
   "cell_type": "code",
   "execution_count": 3,
   "id": "40f69fca",
   "metadata": {},
   "outputs": [
    {
     "name": "stdout",
     "output_type": "stream",
     "text": [
      "7\n",
      "9\n"
     ]
    }
   ],
   "source": [
    "# increment \n",
    "a = 2\n",
    "a+=5 # increase the value of a by five\n",
    "print(a)\n",
    "\n",
    "b = 3\n",
    "b+=6\n",
    "print(b)"
   ]
  },
  {
   "cell_type": "code",
   "execution_count": 43,
   "id": "cec4fc99",
   "metadata": {},
   "outputs": [
    {
     "name": "stdout",
     "output_type": "stream",
     "text": [
      "-3\n"
     ]
    }
   ],
   "source": [
    "# decreament \n",
    "a = 2\n",
    "a-=5 # decrease the value of a by five\n",
    "print(a)"
   ]
  },
  {
   "cell_type": "code",
   "execution_count": 46,
   "id": "6aec8ae1",
   "metadata": {},
   "outputs": [
    {
     "name": "stdout",
     "output_type": "stream",
     "text": [
      "10\n"
     ]
    }
   ],
   "source": [
    "# multiply increament \n",
    "a = 2\n",
    "a*=5 # increase the value of a by five\n",
    "print(a)"
   ]
  },
  {
   "cell_type": "markdown",
   "id": "ba8604db",
   "metadata": {},
   "source": [
    "# Logical operator (and/or)"
   ]
  },
  {
   "cell_type": "code",
   "execution_count": 47,
   "id": "03c4f7b4",
   "metadata": {},
   "outputs": [
    {
     "data": {
      "text/plain": [
       "False"
      ]
     },
     "execution_count": 47,
     "metadata": {},
     "output_type": "execute_result"
    }
   ],
   "source": [
    "a = 5\n",
    "b = 10\n",
    "c = 15\n",
    "(a>b) and (b<c)"
   ]
  },
  {
   "cell_type": "code",
   "execution_count": 48,
   "id": "609613b7",
   "metadata": {},
   "outputs": [
    {
     "data": {
      "text/plain": [
       "True"
      ]
     },
     "execution_count": 48,
     "metadata": {},
     "output_type": "execute_result"
    }
   ],
   "source": [
    "a = 5\n",
    "b = 10\n",
    "c = 15\n",
    "(a<b) and (b<c)"
   ]
  },
  {
   "cell_type": "code",
   "execution_count": 5,
   "id": "95f46252",
   "metadata": {},
   "outputs": [
    {
     "data": {
      "text/plain": [
       "True"
      ]
     },
     "execution_count": 5,
     "metadata": {},
     "output_type": "execute_result"
    }
   ],
   "source": [
    "a = 5\n",
    "b = 10\n",
    "c = 15\n",
    "(a>b) or (b<c)"
   ]
  },
  {
   "cell_type": "markdown",
   "id": "594d9eb7",
   "metadata": {},
   "source": [
    "# Membership Operator"
   ]
  },
  {
   "cell_type": "markdown",
   "id": "ba2b21d2",
   "metadata": {},
   "source": [
    "# Membership: (in/not in) .. it return boolean result"
   ]
  },
  {
   "cell_type": "code",
   "execution_count": null,
   "id": "a0ef39dc",
   "metadata": {},
   "outputs": [],
   "source": []
  },
  {
   "cell_type": "code",
   "execution_count": 50,
   "id": "ae30302e",
   "metadata": {},
   "outputs": [
    {
     "data": {
      "text/plain": [
       "True"
      ]
     },
     "execution_count": 50,
     "metadata": {},
     "output_type": "execute_result"
    }
   ],
   "source": [
    "name_list = [\"olaitan\", \"james\", \"kemi\", \"ada\"]\n",
    "\"ade\" not in name_list"
   ]
  },
  {
   "cell_type": "code",
   "execution_count": 51,
   "id": "e779b640",
   "metadata": {},
   "outputs": [
    {
     "data": {
      "text/plain": [
       "False"
      ]
     },
     "execution_count": 51,
     "metadata": {},
     "output_type": "execute_result"
    }
   ],
   "source": [
    "name_list = [\"olaitan\", \"james\", \"kemi\", \"ada\"]\n",
    "\"ade\" in name_list"
   ]
  },
  {
   "cell_type": "code",
   "execution_count": 52,
   "id": "0eff6436",
   "metadata": {},
   "outputs": [
    {
     "data": {
      "text/plain": [
       "True"
      ]
     },
     "execution_count": 52,
     "metadata": {},
     "output_type": "execute_result"
    }
   ],
   "source": [
    "name_list = [\"olaitan\", \"james\", \"kemi\", \"ada\"]\n",
    "\"ada\" in name_list"
   ]
  },
  {
   "cell_type": "markdown",
   "id": "aa892946",
   "metadata": {},
   "source": [
    "# Identity Operator (is, is not)"
   ]
  },
  {
   "cell_type": "code",
   "execution_count": 14,
   "id": "d1cca3eb",
   "metadata": {},
   "outputs": [
    {
     "name": "stdout",
     "output_type": "stream",
     "text": [
      "True\n",
      "False\n",
      "True\n"
     ]
    }
   ],
   "source": [
    "a = 4\n",
    "b = 3\n",
    "c = 3\n",
    "print(a is not b)\n",
    "print(b is not c)\n",
    "print(b is c)"
   ]
  },
  {
   "cell_type": "code",
   "execution_count": 55,
   "id": "a16d50fb",
   "metadata": {},
   "outputs": [
    {
     "name": "stdout",
     "output_type": "stream",
     "text": [
      "please enter your born year to know your age2000\n",
      "your age is 24\n"
     ]
    }
   ],
   "source": [
    "born_year = int(input(\"please enter your born year to know your age\"))\n",
    "age = 2024 - born_year\n",
    "print(\"your age is\", age)\n",
    "\n",
    "\n"
   ]
  },
  {
   "cell_type": "code",
   "execution_count": 15,
   "id": "57535f04",
   "metadata": {},
   "outputs": [
    {
     "name": "stdout",
     "output_type": "stream",
     "text": [
      "please enter your born year to know your age1978\n",
      "my age is 46\n"
     ]
    }
   ],
   "source": [
    "born_year = int(input(\"please enter your born year to know your age\"))\n",
    "age = 2024 - born_year\n",
    "print(\"my age is\", age)"
   ]
  },
  {
   "cell_type": "markdown",
   "id": "11609a10",
   "metadata": {},
   "source": [
    "# Bitwise Operators"
   ]
  },
  {
   "cell_type": "code",
   "execution_count": null,
   "id": "412beaf6",
   "metadata": {},
   "outputs": [],
   "source": [
    " # Bitwise operators are used to compare (binary) numbers:\n",
    "\n",
    "Operator\t Name\t  Description\n",
    "\n",
    "& \t        AND\t      Sets each bit to 1 if both bits are 1\n",
    "\n",
    "|\t        OR\t     Sets each bit to 1 if one of two bits is 1\n",
    "\n",
    " ^\t        XOR\t     Sets each bit to 1 if only one of two bits is 1\n",
    "    \n",
    "~ \t        NOT\t     Inverts all the bits\n",
    "\n",
    "<<\t        Zero fill left shift\tShift left by pushing zeros in from the right and let the leftmost bits fall off\n",
    "\n",
    ">>\t       Signed right shift\tShift right by pushing copies of the leftmost bit in from the left, and let the rightmost bits fall off"
   ]
  },
  {
   "cell_type": "code",
   "execution_count": 26,
   "id": "51f3a0bd",
   "metadata": {},
   "outputs": [
    {
     "name": "stdout",
     "output_type": "stream",
     "text": [
      "12\n"
     ]
    }
   ],
   "source": [
    "# example of bitwise:\n",
    "# XOR operation of 10 and 6\n",
    "x = 10^6\n",
    "print(x)"
   ]
  },
  {
   "cell_type": "code",
   "execution_count": 23,
   "id": "98242c63",
   "metadata": {},
   "outputs": [],
   "source": [
    "\n"
   ]
  },
  {
   "cell_type": "code",
   "execution_count": null,
   "id": "98be918f",
   "metadata": {},
   "outputs": [],
   "source": []
  },
  {
   "cell_type": "markdown",
   "id": "1df88ed5",
   "metadata": {},
   "source": [
    "Note: all datatype  in is been group into mutable or immutable datatype:\n",
    "\n",
    "- Mutable datatype are dataype that can be modify after declaration;\n",
    "- Immutable datatype are datatype that cannot be modify after declaration"
   ]
  },
  {
   "cell_type": "markdown",
   "id": "751c3ae4",
   "metadata": {},
   "source": [
    "# Types of Data type:\n",
    "1. Basic data type:\n",
    "    a. Numeric:\n",
    "        i.   int\n",
    "        ii.  float\n",
    "        iii. complex\n",
    "    \n",
    "    b. Character\n",
    "       i. str\n",
    "    \n",
    "    c. Boolean\n",
    "      i. True\n",
    "     ii. False\n",
    "    \n",
    "2. Collection Datatype\n",
    "      a. list\n",
    "      b. tuple\n",
    "      c. set\n",
    "      d. dictionary\n",
    "    \n",
    "3. Special Datatype\n",
    "      a. None\n",
    "    \n",
    "    \n",
    "    "
   ]
  },
  {
   "cell_type": "code",
   "execution_count": null,
   "id": "dd6df93e",
   "metadata": {},
   "outputs": [],
   "source": []
  },
  {
   "cell_type": "code",
   "execution_count": null,
   "id": "ba80b55e",
   "metadata": {},
   "outputs": [],
   "source": [
    "# Numerics (Immutable): Are combination of numbers in different format"
   ]
  },
  {
   "cell_type": "code",
   "execution_count": 1,
   "id": "526c6f56",
   "metadata": {},
   "outputs": [
    {
     "data": {
      "text/plain": [
       "int"
      ]
     },
     "execution_count": 1,
     "metadata": {},
     "output_type": "execute_result"
    }
   ],
   "source": [
    "# int datatype\n",
    "num_1 = 9279273 # int\n",
    "type(num_1) # check the datatype"
   ]
  },
  {
   "cell_type": "code",
   "execution_count": 2,
   "id": "da86b4a5",
   "metadata": {},
   "outputs": [
    {
     "data": {
      "text/plain": [
       "float"
      ]
     },
     "execution_count": 2,
     "metadata": {},
     "output_type": "execute_result"
    }
   ],
   "source": [
    "# float\n",
    "num_2 = 3839.937\n",
    "type(num_2)"
   ]
  },
  {
   "cell_type": "code",
   "execution_count": null,
   "id": "2a38018d",
   "metadata": {},
   "outputs": [],
   "source": []
  },
  {
   "cell_type": "code",
   "execution_count": 3,
   "id": "b32b0fc5",
   "metadata": {},
   "outputs": [
    {
     "data": {
      "text/plain": [
       "complex"
      ]
     },
     "execution_count": 3,
     "metadata": {},
     "output_type": "execute_result"
    }
   ],
   "source": [
    "# Complex: combines reel and maginary \n",
    "num_3 = 2 + 61j\n",
    "type(num_3)"
   ]
  },
  {
   "cell_type": "markdown",
   "id": "bf7e0806",
   "metadata": {},
   "source": [
    "# Character/text datatype (Immutable):\n",
    "They ae sequent of character stacked together"
   ]
  },
  {
   "cell_type": "code",
   "execution_count": null,
   "id": "90a3177c",
   "metadata": {},
   "outputs": [],
   "source": [
    "str_1 = \"Olaitan\"\n",
    "str_2 = 'Olaitan'\n",
    "long_str = \"\"\"    this is very long\n",
    "    text that equire to \n",
    "    come to next\n",
    "    line\"\"\""
   ]
  },
  {
   "cell_type": "markdown",
   "id": "92fb8436",
   "metadata": {},
   "source": [
    "indexing and slicing\n",
    "- indexing: is the process of getting data in a given position (index can only return one thing)\n",
    "- slicing: is the process of getting data with a given range (slicing can return more than one thing)\n",
    "    \n",
    "NOTE: All datatype in python has zero base index"
   ]
  },
  {
   "cell_type": "code",
   "execution_count": null,
   "id": "4852f4c7",
   "metadata": {},
   "outputs": [],
   "source": [
    "name = \"olaitan\""
   ]
  },
  {
   "cell_type": "code",
   "execution_count": 4,
   "id": "e2ab3829",
   "metadata": {},
   "outputs": [
    {
     "data": {
      "text/plain": [
       "'i'"
      ]
     },
     "execution_count": 4,
     "metadata": {},
     "output_type": "execute_result"
    }
   ],
   "source": [
    "# Use forward indexing to return i from name below\n",
    "name = \"olaitan\"\n",
    "name[3]"
   ]
  },
  {
   "cell_type": "code",
   "execution_count": null,
   "id": "85101cd3",
   "metadata": {},
   "outputs": [],
   "source": [
    "# Use backward indexing to return t from name below"
   ]
  },
  {
   "cell_type": "code",
   "execution_count": 5,
   "id": "c8a200e9",
   "metadata": {},
   "outputs": [
    {
     "data": {
      "text/plain": [
       "'t'"
      ]
     },
     "execution_count": 5,
     "metadata": {},
     "output_type": "execute_result"
    }
   ],
   "source": [
    "name = \"olaitan\"\n",
    "name[-3]"
   ]
  },
  {
   "cell_type": "code",
   "execution_count": null,
   "id": "34f2bf4d",
   "metadata": {},
   "outputs": [],
   "source": [
    "# Exercise:\n",
    "str_4 = \"python is fun to learn, i am enjoying it\""
   ]
  },
  {
   "cell_type": "code",
   "execution_count": 9,
   "id": "1ca8bd5f",
   "metadata": {},
   "outputs": [
    {
     "data": {
      "text/plain": [
       "'f'"
      ]
     },
     "execution_count": 9,
     "metadata": {},
     "output_type": "execute_result"
    }
   ],
   "source": [
    "# use forward indexing to retun \"f\"\n",
    "# Use backward indexing to return \"j\" \n",
    "str_4 = \"python is fun to learn, i am enjoying it\"\n",
    "str_4[10]"
   ]
  },
  {
   "cell_type": "code",
   "execution_count": 11,
   "id": "6ede0055",
   "metadata": {},
   "outputs": [
    {
     "data": {
      "text/plain": [
       "'j'"
      ]
     },
     "execution_count": 11,
     "metadata": {},
     "output_type": "execute_result"
    }
   ],
   "source": [
    "str_4 = \"python is fun to learn, i am enjoying it\"\n",
    "str_4[-9]"
   ]
  },
  {
   "cell_type": "code",
   "execution_count": null,
   "id": "a2d4f577",
   "metadata": {},
   "outputs": [],
   "source": [
    "# formular for slicing:\n",
    "[Start:Stop:Step]"
   ]
  },
  {
   "cell_type": "code",
   "execution_count": 16,
   "id": "c4308ca4",
   "metadata": {},
   "outputs": [
    {
     "data": {
      "text/plain": [
       "'is fun to learn'"
      ]
     },
     "execution_count": 16,
     "metadata": {},
     "output_type": "execute_result"
    }
   ],
   "source": [
    "str_4 = \"python is fun to learn, i am enjoying it\"\n",
    "# from str_4 return \"is fun to learn\"\n",
    "str_4[7:22]"
   ]
  },
  {
   "cell_type": "code",
   "execution_count": 17,
   "id": "898471c0",
   "metadata": {},
   "outputs": [
    {
     "data": {
      "text/plain": [
       "'is fun to learn'"
      ]
     },
     "execution_count": 17,
     "metadata": {},
     "output_type": "execute_result"
    }
   ],
   "source": [
    "# from str_4 return \"is fun to learn\"\n",
    "str_4[7:22]"
   ]
  },
  {
   "cell_type": "code",
   "execution_count": 18,
   "id": "c673df4a",
   "metadata": {},
   "outputs": [
    {
     "data": {
      "text/plain": [
       "'i am enjoying it'"
      ]
     },
     "execution_count": 18,
     "metadata": {},
     "output_type": "execute_result"
    }
   ],
   "source": [
    "# i am enjoying it\n",
    "str_4[24:40]"
   ]
  },
  {
   "cell_type": "code",
   "execution_count": 19,
   "id": "8e700fb4",
   "metadata": {},
   "outputs": [
    {
     "data": {
      "text/plain": [
       "'python is fun'"
      ]
     },
     "execution_count": 19,
     "metadata": {},
     "output_type": "execute_result"
    }
   ],
   "source": [
    "str_4 = \"python is fun to learn, i am enjoying it\"\n",
    "# Using backward slicing return \"python is fun\"\n",
    "str_4[-40:-27]"
   ]
  },
  {
   "cell_type": "code",
   "execution_count": 29,
   "id": "feb9c3fc",
   "metadata": {},
   "outputs": [
    {
     "data": {
      "text/plain": [
       "'is fun to learn, i am enjoying it'"
      ]
     },
     "execution_count": 29,
     "metadata": {},
     "output_type": "execute_result"
    }
   ],
   "source": [
    "str_4[7:]"
   ]
  },
  {
   "cell_type": "code",
   "execution_count": 30,
   "id": "51df46ee",
   "metadata": {
    "scrolled": true
   },
   "outputs": [
    {
     "data": {
      "text/plain": [
       "'python is '"
      ]
     },
     "execution_count": 30,
     "metadata": {},
     "output_type": "execute_result"
    }
   ],
   "source": [
    "str_4[:10]"
   ]
  },
  {
   "cell_type": "code",
   "execution_count": 32,
   "id": "5c9a5db7",
   "metadata": {},
   "outputs": [
    {
     "data": {
      "text/plain": [
       "'is fun to learn'"
      ]
     },
     "execution_count": 32,
     "metadata": {},
     "output_type": "execute_result"
    }
   ],
   "source": [
    "# from str_4 return \"is fun to learn\"\n",
    "str_4 = \"python is fun to learn, i am enjoying it\"\n",
    "str_4[7:22:1]"
   ]
  },
  {
   "cell_type": "code",
   "execution_count": 31,
   "id": "1bba752d",
   "metadata": {},
   "outputs": [
    {
     "data": {
      "text/plain": [
       "'i u olan'"
      ]
     },
     "execution_count": 31,
     "metadata": {},
     "output_type": "execute_result"
    }
   ],
   "source": [
    "# from str_4 return \"is fun to learn\" (skipping)\n",
    "str_4 = \"python is fun to learn, i am enjoying it\"\n",
    "str_4[7:22:2]"
   ]
  },
  {
   "cell_type": "code",
   "execution_count": 23,
   "id": "f4c02e2b",
   "metadata": {},
   "outputs": [
    {
     "data": {
      "text/plain": [
       "'ln ey '"
      ]
     },
     "execution_count": 23,
     "metadata": {},
     "output_type": "execute_result"
    }
   ],
   "source": [
    "# \"ln ey it\"\"\n",
    "str_4[17::4]"
   ]
  },
  {
   "cell_type": "markdown",
   "id": "422150c5",
   "metadata": {},
   "source": [
    "# String Method: Method are functions used to manipulate datatype\n",
    "\n",
    "1. upper\n",
    "2. lower\n",
    "3. strip \n",
    "4. find\n",
    "5. replace\n",
    "6. endswitch\n",
    "7. startwith\n",
    "8. format\n",
    "9.split\n",
    "\n",
    "\n",
    "# All datatype have their own unique method"
   ]
  },
  {
   "cell_type": "code",
   "execution_count": 48,
   "id": "86f7d892",
   "metadata": {},
   "outputs": [
    {
     "data": {
      "text/plain": [
       "'OLAITAN'"
      ]
     },
     "execution_count": 48,
     "metadata": {},
     "output_type": "execute_result"
    }
   ],
   "source": [
    "# string method\n",
    "name = \"olaitan\"\n",
    "name.upper()"
   ]
  },
  {
   "cell_type": "code",
   "execution_count": 45,
   "id": "32da1aef",
   "metadata": {},
   "outputs": [
    {
     "data": {
      "text/plain": [
       "'OLAITAN'"
      ]
     },
     "execution_count": 45,
     "metadata": {},
     "output_type": "execute_result"
    }
   ],
   "source": [
    "# Upper method:\n",
    "name_upper=name.upper()\n",
    "name_upper"
   ]
  },
  {
   "cell_type": "code",
   "execution_count": 47,
   "id": "9cc71b15",
   "metadata": {},
   "outputs": [
    {
     "data": {
      "text/plain": [
       "'olaitan'"
      ]
     },
     "execution_count": 47,
     "metadata": {},
     "output_type": "execute_result"
    }
   ],
   "source": [
    "# Lower method:\n",
    "name_upper.lower()"
   ]
  },
  {
   "cell_type": "code",
   "execution_count": 54,
   "id": "73385730",
   "metadata": {},
   "outputs": [
    {
     "data": {
      "text/plain": [
       "'          olaitan       '"
      ]
     },
     "execution_count": 54,
     "metadata": {},
     "output_type": "execute_result"
    }
   ],
   "source": [
    "# strip:: is used to remove excessive white space before or after string\n",
    "name =\"          olaitan       \"\n",
    "name \n"
   ]
  },
  {
   "cell_type": "code",
   "execution_count": 50,
   "id": "ec6c104e",
   "metadata": {},
   "outputs": [
    {
     "data": {
      "text/plain": [
       "'olaitan'"
      ]
     },
     "execution_count": 50,
     "metadata": {},
     "output_type": "execute_result"
    }
   ],
   "source": [
    "name.strip()"
   ]
  },
  {
   "cell_type": "code",
   "execution_count": 53,
   "id": "5431b261",
   "metadata": {},
   "outputs": [
    {
     "data": {
      "text/plain": [
       "'<<<<,???????//olaitan ))))))))>>>>>>>    '"
      ]
     },
     "execution_count": 53,
     "metadata": {},
     "output_type": "execute_result"
    }
   ],
   "source": [
    "name = \"<<<<,???????//olaitan ))))))))>>>>>>>    \"\n",
    "name"
   ]
  },
  {
   "cell_type": "code",
   "execution_count": 55,
   "id": "6e4f0dca",
   "metadata": {},
   "outputs": [
    {
     "data": {
      "text/plain": [
       "'olaitan'"
      ]
     },
     "execution_count": 55,
     "metadata": {},
     "output_type": "execute_result"
    }
   ],
   "source": [
    "name.strip().strip(\"<\").strip(\"?\").strip(\">\").strip(\"/\").strip(\")\").strip()"
   ]
  },
  {
   "cell_type": "code",
   "execution_count": 56,
   "id": "0b2c4e86",
   "metadata": {},
   "outputs": [
    {
     "data": {
      "text/plain": [
       "0"
      ]
     },
     "execution_count": 56,
     "metadata": {},
     "output_type": "execute_result"
    }
   ],
   "source": [
    "# Find Method: Is used to find character(s) within string, then return the index number; \n",
    "# if its return -1 it means the index number is not within the index or number\n",
    "name = \"olaitan\"\n",
    "name.find(\"o\")\n"
   ]
  },
  {
   "cell_type": "code",
   "execution_count": 57,
   "id": "abf94c0e",
   "metadata": {},
   "outputs": [
    {
     "data": {
      "text/plain": [
       "3"
      ]
     },
     "execution_count": 57,
     "metadata": {},
     "output_type": "execute_result"
    }
   ],
   "source": [
    "name = \"olaitan\"\n",
    "name.find(\"it\")"
   ]
  },
  {
   "cell_type": "code",
   "execution_count": 25,
   "id": "29ee6ff4",
   "metadata": {},
   "outputs": [
    {
     "data": {
      "text/plain": [
       "-1"
      ]
     },
     "execution_count": 25,
     "metadata": {},
     "output_type": "execute_result"
    }
   ],
   "source": [
    "# kw is not within the index\n",
    "name = \"olaitan\"\n",
    "name.find(\"kw\")"
   ]
  },
  {
   "cell_type": "code",
   "execution_count": 58,
   "id": "01697e74",
   "metadata": {},
   "outputs": [
    {
     "data": {
      "text/plain": [
       "'olayyytan'"
      ]
     },
     "execution_count": 58,
     "metadata": {},
     "output_type": "execute_result"
    }
   ],
   "source": [
    "# Replace method:\n",
    "name.replace(\"i\", \"yyy\")"
   ]
  },
  {
   "cell_type": "code",
   "execution_count": 63,
   "id": "7ef9890b",
   "metadata": {},
   "outputs": [
    {
     "data": {
      "text/plain": [
       "False"
      ]
     },
     "execution_count": 63,
     "metadata": {},
     "output_type": "execute_result"
    }
   ],
   "source": [
    "name.endswith(\"z\")"
   ]
  },
  {
   "cell_type": "code",
   "execution_count": 26,
   "id": "df981b2a",
   "metadata": {},
   "outputs": [
    {
     "data": {
      "text/plain": [
       "True"
      ]
     },
     "execution_count": 26,
     "metadata": {},
     "output_type": "execute_result"
    }
   ],
   "source": [
    "name.endswith(\"n\")"
   ]
  },
  {
   "cell_type": "code",
   "execution_count": 65,
   "id": "c113bde3",
   "metadata": {},
   "outputs": [
    {
     "data": {
      "text/plain": [
       "'Titilayo'"
      ]
     },
     "execution_count": 65,
     "metadata": {},
     "output_type": "execute_result"
    }
   ],
   "source": [
    "name"
   ]
  },
  {
   "cell_type": "code",
   "execution_count": 67,
   "id": "020ac9dc",
   "metadata": {},
   "outputs": [
    {
     "data": {
      "text/plain": [
       "True"
      ]
     },
     "execution_count": 67,
     "metadata": {},
     "output_type": "execute_result"
    }
   ],
   "source": [
    "name.startswith(\"T\")"
   ]
  },
  {
   "cell_type": "code",
   "execution_count": 71,
   "id": "a55ec1ce",
   "metadata": {},
   "outputs": [
    {
     "name": "stdout",
     "output_type": "stream",
     "text": [
      "please enter your first nameTitilayo \n",
      "enter your last nameOgodan\n",
      "enter your age46\n",
      "please what is your state of originEkiti\n",
      "Hello everyone, my name is Titilayo  Ogodan I am 46 years old from Ekiti state\n"
     ]
    }
   ],
   "source": [
    "first_name = input(\"please enter your first name\")\n",
    "last_name = input(\"enter your last name\")\n",
    "age = input(\"enter your age\")\n",
    "origin = input(\"please what is your state of origin\")\n",
    "\n",
    "print(\"Hello everyone, my name is\", first_name, last_name, \"I am\", age, \"years old\", \"from\", origin, \"state\")"
   ]
  },
  {
   "cell_type": "code",
   "execution_count": 73,
   "id": "1b86cc99",
   "metadata": {},
   "outputs": [
    {
     "name": "stdout",
     "output_type": "stream",
     "text": [
      "Hello everyone, my name is Titilayo  Ogodan and I am 46 years old from Ekiti state\n"
     ]
    }
   ],
   "source": [
    "print(\"Hello everyone, my name is {} {} and I am {} years old from {} state\".format(first_name, last_name, age, origin))"
   ]
  },
  {
   "cell_type": "code",
   "execution_count": 78,
   "id": "dc40f93c",
   "metadata": {},
   "outputs": [
    {
     "name": "stdout",
     "output_type": "stream",
     "text": [
      "I like java, because i fun to learn\n"
     ]
    }
   ],
   "source": [
    "i = \"java\"\n",
    "y = \"learn\"\n",
    "like = \"I like {}, because i fun to {}\".format(i, y)\n",
    "print (like)"
   ]
  },
  {
   "cell_type": "markdown",
   "id": "d21f74a4",
   "metadata": {},
   "source": [
    "i = \"java\"\n",
    "like = \"I like {}\".format(i)\n",
    "print (like)"
   ]
  },
  {
   "cell_type": "code",
   "execution_count": 86,
   "id": "995ba378",
   "metadata": {},
   "outputs": [
    {
     "name": "stdout",
     "output_type": "stream",
     "text": [
      "I like myself\n"
     ]
    }
   ],
   "source": [
    "i = \"myself\"\n",
    "like = \"I like {}\".format(i)\n",
    "print (like)"
   ]
  },
  {
   "cell_type": "code",
   "execution_count": 33,
   "id": "74450162",
   "metadata": {},
   "outputs": [
    {
     "name": "stdout",
     "output_type": "stream",
     "text": [
      "I love reading\n"
     ]
    }
   ],
   "source": [
    "a = \"reading\"\n",
    "love = \"I love {}\".format(a)\n",
    "print(love)"
   ]
  },
  {
   "cell_type": "code",
   "execution_count": null,
   "id": "6dde56fa",
   "metadata": {},
   "outputs": [],
   "source": []
  },
  {
   "cell_type": "markdown",
   "id": "ff5c36d4",
   "metadata": {},
   "source": [
    "# SPLIT: Refers to a method that splits a string into a list of substrings based on a specified delimiter"
   ]
  },
  {
   "cell_type": "markdown",
   "id": "dc67b8a0",
   "metadata": {},
   "source": [
    "# str: This is the string that you want to split.\n",
    "\n",
    "- separator (optional): This is the delimiter string. The string is split at each occurrence of this delimiter. \n",
    "If the separator is not specified, any whitespace (spaces, tabs, newlines) is used as the delimiter.\n",
    "\n",
    "\n",
    "- maxsplit (optional): This specifies the maximum number of splits to be done. \n",
    "If not specified or -1, there is no limit on the number of splits (all possible splits are made)."
   ]
  },
  {
   "cell_type": "code",
   "execution_count": 38,
   "id": "c8499232",
   "metadata": {},
   "outputs": [
    {
     "data": {
      "text/plain": [
       "['separator']"
      ]
     },
     "execution_count": 38,
     "metadata": {},
     "output_type": "execute_result"
    }
   ],
   "source": [
    "\"split\"\n",
    "str.split(\"separator\", \"maxsplit\")"
   ]
  },
  {
   "cell_type": "code",
   "execution_count": 39,
   "id": "3398ce0b",
   "metadata": {},
   "outputs": [
    {
     "name": "stdout",
     "output_type": "stream",
     "text": [
      "['Hello', 'world']\n"
     ]
    }
   ],
   "source": [
    "# Splitting by Space (default behavior):\n",
    "\n",
    "sentence = \"Hello world\"\n",
    "words = sentence.split()  # splits by whitespace by default\n",
    "print(words)  # Output: ['Hello', 'world']"
   ]
  },
  {
   "cell_type": "code",
   "execution_count": 40,
   "id": "575696cf",
   "metadata": {},
   "outputs": [
    {
     "name": "stdout",
     "output_type": "stream",
     "text": [
      "['apple', 'orange', 'banana', 'grape']\n"
     ]
    }
   ],
   "source": [
    "# Splitting by a Specific Character:\n",
    "\n",
    "csv_data = \"apple,orange,banana,grape\"\n",
    "fruits = csv_data.split(',')  # split by comma\n",
    "print(fruits)  # Output: ['apple', 'orange', 'banana', 'grape']"
   ]
  },
  {
   "cell_type": "code",
   "execution_count": 41,
   "id": "f6cd1889",
   "metadata": {},
   "outputs": [
    {
     "name": "stdout",
     "output_type": "stream",
     "text": [
      "['one', 'two', 'three four five']\n"
     ]
    }
   ],
   "source": [
    "# Limiting the Number of Splits:\n",
    "\n",
    "sentence = \"one two three four five\"\n",
    "words = sentence.split(maxsplit=2)  # limit splits to 2\n",
    "print(words)  # Output: ['one', 'two', 'three four five']"
   ]
  },
  {
   "cell_type": "code",
   "execution_count": 42,
   "id": "95cb12d1",
   "metadata": {},
   "outputs": [
    {
     "name": "stdout",
     "output_type": "stream",
     "text": [
      "['This', 'is', 'a', 'sentence', 'with', 'spaces']\n"
     ]
    }
   ],
   "source": [
    "# Handling Multiple Spaces:\n",
    "\n",
    "sentence = \"This  is   a  sentence   with   spaces\"\n",
    "words = sentence.split()\n",
    "print(words)  # Output: ['This', 'is', 'a', 'sentence', 'with', 'spaces'"
   ]
  },
  {
   "cell_type": "markdown",
   "id": "2ad5de26",
   "metadata": {},
   "source": [
    "# Notes:\n",
    "\n",
    "- If the delimiter is not found in the string, split() returns a list with the original string as the only element.\n",
    "\n",
    "- If maxsplit is provided and positive, the string is split at most maxsplit times.\n",
    "\n",
    "- If maxsplit is zero, split() behaves as if it were not specified, and there is no limit on the number of splits.\n",
    "\n",
    "- In summary, split() is a powerful method in Python for breaking down strings into manageable parts based on specified criteria, such as characters or whitespace.\n"
   ]
  },
  {
   "cell_type": "markdown",
   "id": "c478a981",
   "metadata": {},
   "source": [
    "# Differences between List and tuple:\n",
    "\n",
    "- List is mutable whereas Tuple is immutable\n",
    "\n",
    "- List uses square [] brackets while tuple may or may not use parentheses."
   ]
  },
  {
   "cell_type": "markdown",
   "id": "7b20a53d",
   "metadata": {},
   "source": []
  },
  {
   "cell_type": "code",
   "execution_count": null,
   "id": "f259fe04",
   "metadata": {},
   "outputs": [],
   "source": []
  },
  {
   "cell_type": "code",
   "execution_count": null,
   "id": "40afb4b8",
   "metadata": {},
   "outputs": [],
   "source": []
  },
  {
   "cell_type": "code",
   "execution_count": null,
   "id": "4e8be0b1",
   "metadata": {},
   "outputs": [],
   "source": [
    "# lIST\"\n",
    "# Empty list\n",
    "list1 = [  ]"
   ]
  },
  {
   "cell_type": "code",
   "execution_count": 2,
   "id": "e5c3366b",
   "metadata": {},
   "outputs": [
    {
     "data": {
      "text/plain": [
       "type"
      ]
     },
     "execution_count": 2,
     "metadata": {},
     "output_type": "execute_result"
    }
   ],
   "source": [
    "type(list)"
   ]
  },
  {
   "cell_type": "code",
   "execution_count": 7,
   "id": "9530b7e9",
   "metadata": {},
   "outputs": [],
   "source": [
    "# List with element\n",
    "lis = [\"cow\", \"goat\", \"elephant\", \"eagle\", \"ram\"]"
   ]
  },
  {
   "cell_type": "code",
   "execution_count": 9,
   "id": "63ca5e72",
   "metadata": {},
   "outputs": [
    {
     "data": {
      "text/plain": [
       "'cow'"
      ]
     },
     "execution_count": 9,
     "metadata": {},
     "output_type": "execute_result"
    }
   ],
   "source": [
    "lis[0]"
   ]
  },
  {
   "cell_type": "code",
   "execution_count": 11,
   "id": "4d47ce1b",
   "metadata": {
    "scrolled": true
   },
   "outputs": [
    {
     "data": {
      "text/plain": [
       "'elephant'"
      ]
     },
     "execution_count": 11,
     "metadata": {},
     "output_type": "execute_result"
    }
   ],
   "source": [
    "lis[2]"
   ]
  },
  {
   "cell_type": "code",
   "execution_count": 13,
   "id": "0334da08",
   "metadata": {},
   "outputs": [],
   "source": [
    "# NESTED\"\n",
    "\n",
    "ls1 = [67, \"james\", [9, 8, 6]]"
   ]
  },
  {
   "cell_type": "code",
   "execution_count": 14,
   "id": "5ebad90d",
   "metadata": {
    "scrolled": false
   },
   "outputs": [
    {
     "data": {
      "text/plain": [
       "3"
      ]
     },
     "execution_count": 14,
     "metadata": {},
     "output_type": "execute_result"
    }
   ],
   "source": [
    "len(ls1)"
   ]
  },
  {
   "cell_type": "code",
   "execution_count": 15,
   "id": "899c98ae",
   "metadata": {},
   "outputs": [
    {
     "data": {
      "text/plain": [
       "8"
      ]
     },
     "execution_count": 15,
     "metadata": {},
     "output_type": "execute_result"
    }
   ],
   "source": [
    "# length\n",
    "name = \"Titilayo\"\n",
    "len(name)"
   ]
  },
  {
   "cell_type": "code",
   "execution_count": 16,
   "id": "e5d6cfe2",
   "metadata": {},
   "outputs": [
    {
     "data": {
      "text/plain": [
       "[67, 'james', [9, 11, 6]]"
      ]
     },
     "execution_count": 16,
     "metadata": {},
     "output_type": "execute_result"
    }
   ],
   "source": [
    "# change 8 to 11\n",
    "ls1 = [67, \"james\", [9, 8, 6]]\n",
    "ls1[2][1] = 11\n",
    "ls1"
   ]
  },
  {
   "cell_type": "code",
   "execution_count": 17,
   "id": "9ea4554a",
   "metadata": {},
   "outputs": [],
   "source": [
    "alpha = [\"a\", 'b', 'c', 'd', 'e', 'f', 'g', 'h', \"i\"]"
   ]
  },
  {
   "cell_type": "code",
   "execution_count": null,
   "id": "5fe78af7",
   "metadata": {},
   "outputs": [],
   "source": [
    "# retrieve defg from the list above\n",
    "# retrieve bdfh from the list above\n",
    "# using backward indexing using f"
   ]
  },
  {
   "cell_type": "code",
   "execution_count": 26,
   "id": "4c446a04",
   "metadata": {},
   "outputs": [
    {
     "data": {
      "text/plain": [
       "['d', 'e', 'f', 'g']"
      ]
     },
     "execution_count": 26,
     "metadata": {},
     "output_type": "execute_result"
    }
   ],
   "source": [
    "# retrieve defg from the list above\n",
    "alpha[3:7]"
   ]
  },
  {
   "cell_type": "code",
   "execution_count": 29,
   "id": "ec0b4cfd",
   "metadata": {},
   "outputs": [
    {
     "data": {
      "text/plain": [
       "['b', 'd', 'f', 'h']"
      ]
     },
     "execution_count": 29,
     "metadata": {},
     "output_type": "execute_result"
    }
   ],
   "source": [
    "# retrieve bdfh from the list above\n",
    "alpha[1:8:2]"
   ]
  },
  {
   "cell_type": "code",
   "execution_count": 30,
   "id": "2c4d5837",
   "metadata": {},
   "outputs": [
    {
     "data": {
      "text/plain": [
       "'f'"
      ]
     },
     "execution_count": 30,
     "metadata": {},
     "output_type": "execute_result"
    }
   ],
   "source": [
    "# using backward indexing using f\n",
    "alpha[-4]"
   ]
  },
  {
   "cell_type": "code",
   "execution_count": null,
   "id": "3abe65a5",
   "metadata": {},
   "outputs": [],
   "source": []
  },
  {
   "cell_type": "markdown",
   "id": "389e8cb5",
   "metadata": {},
   "source": [
    "# List Method:\n",
    "1. Append\n",
    "2. Extend\n",
    "3. Pop"
   ]
  },
  {
   "cell_type": "markdown",
   "id": "236cdafc",
   "metadata": {},
   "source": [
    "# Append : Is used to add an element at end of the list"
   ]
  },
  {
   "cell_type": "code",
   "execution_count": 35,
   "id": "d204a726",
   "metadata": {},
   "outputs": [
    {
     "data": {
      "text/plain": [
       "['james', 'kemi', 'titi', 'ade']"
      ]
     },
     "execution_count": 35,
     "metadata": {},
     "output_type": "execute_result"
    }
   ],
   "source": [
    "names = [\"james\", \"kemi\", \"titi\"]\n",
    "# add 'ade' to the list above\n",
    "names.append(\"ade\")\n",
    "names"
   ]
  },
  {
   "cell_type": "code",
   "execution_count": 37,
   "id": "24606edc",
   "metadata": {},
   "outputs": [
    {
     "data": {
      "text/plain": [
       "['james', 'kemi', 'titi', 'ade', 'bukky']"
      ]
     },
     "execution_count": 37,
     "metadata": {},
     "output_type": "execute_result"
    }
   ],
   "source": [
    "names = ['james', 'kemi', 'titi', 'ade']\n",
    "# add 'bukky' to the list above\n",
    "names.append(\"bukky\")\n",
    "names"
   ]
  },
  {
   "cell_type": "code",
   "execution_count": 38,
   "id": "3c730643",
   "metadata": {},
   "outputs": [
    {
     "data": {
      "text/plain": [
       "['james', 'kemi', 'titi', 'ade', 'bukky']"
      ]
     },
     "execution_count": 38,
     "metadata": {},
     "output_type": "execute_result"
    }
   ],
   "source": [
    "names"
   ]
  },
  {
   "cell_type": "code",
   "execution_count": 42,
   "id": "067f6b3e",
   "metadata": {},
   "outputs": [
    {
     "data": {
      "text/plain": [
       "['james', 'kemi', 'titi', 'ade', 'bukky', ['yemi', 'matthew']]"
      ]
     },
     "execution_count": 42,
     "metadata": {},
     "output_type": "execute_result"
    }
   ],
   "source": [
    "new_data = ['yemi', 'matthew']\n",
    "names.append(['yemi', 'matthew'])\n",
    "names"
   ]
  },
  {
   "cell_type": "code",
   "execution_count": 63,
   "id": "b963d029",
   "metadata": {
    "scrolled": true
   },
   "outputs": [
    {
     "data": {
      "text/plain": [
       "['bayo',\n",
       " 'ade',\n",
       " 'bukky',\n",
       " 'yemi',\n",
       " 'matthew',\n",
       " 'yemi',\n",
       " 'matthew',\n",
       " 'yemi',\n",
       " 'matthew',\n",
       " 'yemi',\n",
       " 'matthew',\n",
       " 'yemi',\n",
       " 'matthew',\n",
       " 'yemi',\n",
       " 'matthew',\n",
       " 'yemi',\n",
       " 'matthew']"
      ]
     },
     "execution_count": 63,
     "metadata": {},
     "output_type": "execute_result"
    }
   ],
   "source": [
    "new_data = ['yemi', 'matthew']\n",
    "names.extend(['yemi', 'matthew'])\n",
    "names\n"
   ]
  },
  {
   "cell_type": "code",
   "execution_count": 58,
   "id": "c4b4b54f",
   "metadata": {},
   "outputs": [
    {
     "name": "stdout",
     "output_type": "stream",
     "text": [
      "['bayo', 'kemi', 'titi', 'ade', 'bukky', 'yemi', 'matthew', 'yemi', 'matthew', 'yemi', 'matthew', 'yemi', 'matthew']\n"
     ]
    }
   ],
   "source": [
    "names =['bayo',\n",
    " 'kemi',\n",
    " 'titi',\n",
    " 'ade',\n",
    " 'bukky',\n",
    " ['yemi', 'matthew'],\n",
    " 'yemi',\n",
    " 'matthew',\n",
    " 'yemi',\n",
    " 'matthew',\n",
    " 'yemi',\n",
    " 'matthew',\n",
    " 'yemi',\n",
    " 'matthew']\n",
    "names.remove( ['yemi', 'matthew'])\n",
    "print(names)"
   ]
  },
  {
   "cell_type": "code",
   "execution_count": 44,
   "id": "7ca72562",
   "metadata": {},
   "outputs": [
    {
     "data": {
      "text/plain": [
       "['bayo',\n",
       " 'kemi',\n",
       " 'titi',\n",
       " 'ade',\n",
       " 'bukky',\n",
       " ['yemi', 'matthew'],\n",
       " 'yemi',\n",
       " 'matthew']"
      ]
     },
     "execution_count": 44,
     "metadata": {},
     "output_type": "execute_result"
    }
   ],
   "source": [
    "# change james to bayo\n",
    "names[0] = 'bayo'\n",
    "names"
   ]
  },
  {
   "cell_type": "markdown",
   "id": "b7b94158",
   "metadata": {},
   "source": [
    "# pop: Is used to remove element at the end of a list\n"
   ]
  },
  {
   "cell_type": "code",
   "execution_count": 48,
   "id": "f9daa5d7",
   "metadata": {},
   "outputs": [
    {
     "data": {
      "text/plain": [
       "'matthew'"
      ]
     },
     "execution_count": 48,
     "metadata": {},
     "output_type": "execute_result"
    }
   ],
   "source": [
    "w=names.pop()\n",
    "w"
   ]
  },
  {
   "cell_type": "code",
   "execution_count": 53,
   "id": "cb406aab",
   "metadata": {},
   "outputs": [
    {
     "data": {
      "text/plain": [
       "'kemi'"
      ]
     },
     "execution_count": 53,
     "metadata": {},
     "output_type": "execute_result"
    }
   ],
   "source": [
    "w=names.pop(1)\n",
    "w"
   ]
  },
  {
   "cell_type": "code",
   "execution_count": 57,
   "id": "bf154d6d",
   "metadata": {},
   "outputs": [
    {
     "name": "stdout",
     "output_type": "stream",
     "text": [
      "['bayo', 'kemi', 'ade', 'bukky', ['yemi', 'matthew'], 'yemi', 'matthew', 'yemi', 'matthew', 'yemi', 'matthew', 'yemi', 'matthew']\n"
     ]
    }
   ],
   "source": [
    "names =['bayo',\n",
    " 'kemi',\n",
    " 'titi',\n",
    " 'ade',\n",
    " 'bukky',\n",
    " ['yemi', 'matthew'],\n",
    " 'yemi',\n",
    " 'matthew',\n",
    " 'yemi',\n",
    " 'matthew',\n",
    " 'yemi',\n",
    " 'matthew',\n",
    " 'yemi',\n",
    " 'matthew']\n",
    "names.remove('titi')\n",
    "print(names)"
   ]
  },
  {
   "cell_type": "code",
   "execution_count": 60,
   "id": "196d227e",
   "metadata": {},
   "outputs": [
    {
     "name": "stdout",
     "output_type": "stream",
     "text": [
      "['bayo', 'ade', 'bukky', 'yemi', 'matthew', 'yemi', 'matthew', 'yemi', 'matthew', 'yemi', 'matthew']\n"
     ]
    }
   ],
   "source": [
    "del names[1]\n",
    "print(names)"
   ]
  },
  {
   "cell_type": "code",
   "execution_count": null,
   "id": "1941c5c2",
   "metadata": {},
   "outputs": [],
   "source": []
  },
  {
   "cell_type": "markdown",
   "id": "cc37965c",
   "metadata": {},
   "source": [
    "# Tuple: Is an ordered datatype and is immutable"
   ]
  },
  {
   "cell_type": "code",
   "execution_count": 65,
   "id": "d67655a4",
   "metadata": {},
   "outputs": [
    {
     "data": {
      "text/plain": [
       "'kemi'"
      ]
     },
     "execution_count": 65,
     "metadata": {},
     "output_type": "execute_result"
    }
   ],
   "source": [
    "# tup = ()\n",
    "names = (\"james\", \"kemi\", \"titi\")\n",
    "names[1]"
   ]
  },
  {
   "cell_type": "code",
   "execution_count": 72,
   "id": "ce1b7744",
   "metadata": {},
   "outputs": [
    {
     "ename": "TypeError",
     "evalue": "'tuple' object does not support item assignment",
     "output_type": "error",
     "traceback": [
      "\u001b[1;31m---------------------------------------------------------------------------\u001b[0m",
      "\u001b[1;31mTypeError\u001b[0m                                 Traceback (most recent call last)",
      "\u001b[1;32m~\\AppData\\Local\\Temp\\ipykernel_2112\\202019009.py\u001b[0m in \u001b[0;36m<module>\u001b[1;34m\u001b[0m\n\u001b[0;32m      1\u001b[0m \u001b[1;31m# change kemi to yemi\u001b[0m\u001b[1;33m\u001b[0m\u001b[1;33m\u001b[0m\u001b[0m\n\u001b[0;32m      2\u001b[0m \u001b[0mnames\u001b[0m \u001b[1;33m=\u001b[0m \u001b[1;33m(\u001b[0m\u001b[1;34m\"james\"\u001b[0m\u001b[1;33m,\u001b[0m \u001b[1;34m\"kemi\"\u001b[0m\u001b[1;33m,\u001b[0m \u001b[1;34m\"titi\"\u001b[0m\u001b[1;33m)\u001b[0m\u001b[1;33m\u001b[0m\u001b[1;33m\u001b[0m\u001b[0m\n\u001b[1;32m----> 3\u001b[1;33m \u001b[0mnames\u001b[0m\u001b[1;33m[\u001b[0m\u001b[1;36m1\u001b[0m\u001b[1;33m]\u001b[0m \u001b[1;33m=\u001b[0m \u001b[1;34m'yemi'\u001b[0m\u001b[1;33m\u001b[0m\u001b[1;33m\u001b[0m\u001b[0m\n\u001b[0m\u001b[0;32m      4\u001b[0m \u001b[0mnames\u001b[0m\u001b[1;33m\u001b[0m\u001b[1;33m\u001b[0m\u001b[0m\n",
      "\u001b[1;31mTypeError\u001b[0m: 'tuple' object does not support item assignment"
     ]
    }
   ],
   "source": [
    "# change kemi to yemi\n",
    "names = (\"james\", \"kemi\", \"titi\")\n",
    "names[1] = 'yemi'\n",
    "names"
   ]
  },
  {
   "cell_type": "code",
   "execution_count": 73,
   "id": "1047eda8",
   "metadata": {},
   "outputs": [
    {
     "data": {
      "text/plain": [
       "('james', 'kemi', 'titi', 'A', 'M')"
      ]
     },
     "execution_count": 73,
     "metadata": {},
     "output_type": "execute_result"
    }
   ],
   "source": [
    "new_tup = (\"A\", \"M\")\n",
    "names + new_tup"
   ]
  },
  {
   "cell_type": "code",
   "execution_count": null,
   "id": "0b0ab53c",
   "metadata": {},
   "outputs": [],
   "source": []
  },
  {
   "cell_type": "code",
   "execution_count": 71,
   "id": "0cbe9b4e",
   "metadata": {},
   "outputs": [
    {
     "data": {
      "text/plain": [
       "1"
      ]
     },
     "execution_count": 71,
     "metadata": {},
     "output_type": "execute_result"
    }
   ],
   "source": [
    "names.count(\"titi\")"
   ]
  },
  {
   "cell_type": "code",
   "execution_count": null,
   "id": "0c93ed85",
   "metadata": {},
   "outputs": [],
   "source": []
  },
  {
   "cell_type": "markdown",
   "id": "01e63212",
   "metadata": {},
   "source": [
    "# Set: Is immutable unordered and doest not accept duplicate record"
   ]
  },
  {
   "cell_type": "code",
   "execution_count": 76,
   "id": "d2bff9d9",
   "metadata": {},
   "outputs": [
    {
     "data": {
      "text/plain": [
       "{'james', 'kemi', 'titi'}"
      ]
     },
     "execution_count": 76,
     "metadata": {},
     "output_type": "execute_result"
    }
   ],
   "source": [
    "# set1 = {}\n",
    "names = {\"james\", \"kemi\", \"titi\"}\n",
    "names"
   ]
  },
  {
   "cell_type": "code",
   "execution_count": 77,
   "id": "4014dad0",
   "metadata": {},
   "outputs": [
    {
     "data": {
      "text/plain": [
       "{'james', 'kemi', 'titi'}"
      ]
     },
     "execution_count": 77,
     "metadata": {},
     "output_type": "execute_result"
    }
   ],
   "source": [
    "names = {\"james\", \"kemi\", \"titi\", \"james\"}\n",
    "names"
   ]
  },
  {
   "cell_type": "code",
   "execution_count": null,
   "id": "f72b636a",
   "metadata": {},
   "outputs": [],
   "source": []
  },
  {
   "cell_type": "markdown",
   "id": "48279f0d",
   "metadata": {},
   "source": [
    "# Is a collection of key-value pairs, where each key is unique and is used to store and retrieve values. Dictionaries are defined using curly braces {} with each key-value pair separated by a colon: and pairs separated by commas. "
   ]
  },
  {
   "cell_type": "code",
   "execution_count": 80,
   "id": "9927c8c2",
   "metadata": {},
   "outputs": [
    {
     "data": {
      "text/plain": [
       "'james'"
      ]
     },
     "execution_count": 80,
     "metadata": {},
     "output_type": "execute_result"
    }
   ],
   "source": [
    "dict1 = {\"name\":\"james\", \"age\":12, \"salary\":82728}\n",
    "dict1[\"name\"]"
   ]
  },
  {
   "cell_type": "code",
   "execution_count": 81,
   "id": "afa808bd",
   "metadata": {},
   "outputs": [
    {
     "data": {
      "text/plain": [
       "{'name': 'james', 'age': 12, 'salary': 82728, 'address': 'olowoira'}"
      ]
     },
     "execution_count": 81,
     "metadata": {},
     "output_type": "execute_result"
    }
   ],
   "source": [
    "dict1[\"address\"] = \"olowoira\"\n",
    "dict1"
   ]
  },
  {
   "cell_type": "code",
   "execution_count": 82,
   "id": "cc2e4a13",
   "metadata": {},
   "outputs": [
    {
     "data": {
      "text/plain": [
       "12"
      ]
     },
     "execution_count": 82,
     "metadata": {},
     "output_type": "execute_result"
    }
   ],
   "source": [
    "dict1[\"address\"] = \"olowoira\"\n",
    "dict1.pop(\"age\")"
   ]
  },
  {
   "cell_type": "code",
   "execution_count": 83,
   "id": "40742437",
   "metadata": {},
   "outputs": [
    {
     "data": {
      "text/plain": [
       "{'name': 'james', 'salary': 82728, 'address': 'olowoira'}"
      ]
     },
     "execution_count": 83,
     "metadata": {},
     "output_type": "execute_result"
    }
   ],
   "source": [
    "dict1"
   ]
  },
  {
   "cell_type": "code",
   "execution_count": 85,
   "id": "01f40b2e",
   "metadata": {},
   "outputs": [
    {
     "data": {
      "text/plain": [
       "{'name': ['james', 'onana', 'greenwood'],\n",
       " 'age': [12, 13, 14],\n",
       " 'salary': [78272, 29298, 9992]}"
      ]
     },
     "execution_count": 85,
     "metadata": {},
     "output_type": "execute_result"
    }
   ],
   "source": [
    "# Dictionary of a list:\n",
    "dict2 = {\"name\":[\"james\", \"onana\", \"greenwood\"], \"age\":[12, 13, 14],\"salary\":[78272, 29298, 9992]}\n",
    "dict2"
   ]
  },
  {
   "cell_type": "code",
   "execution_count": 86,
   "id": "ff9db136",
   "metadata": {
    "scrolled": true
   },
   "outputs": [
    {
     "data": {
      "text/plain": [
       "13"
      ]
     },
     "execution_count": 86,
     "metadata": {},
     "output_type": "execute_result"
    }
   ],
   "source": [
    "dict2[\"age\"][1]"
   ]
  },
  {
   "cell_type": "code",
   "execution_count": null,
   "id": "ac0b000c",
   "metadata": {},
   "outputs": [],
   "source": []
  },
  {
   "cell_type": "markdown",
   "id": "f1ca6f47",
   "metadata": {},
   "source": [
    "# Control Flow: Are ordered at which python code is being executed.\n",
    "# Its Classified into four:\n",
    "1. Conditional Statement\n",
    "   i. if\n",
    "   ii. else\n",
    "  iii. elif\n",
    "\n",
    "2. Loop Statement:\n",
    "    i. for\n",
    "    ii. while\n",
    "    \n",
    "3. Loop Control Statement:\n",
    "    i. break\n",
    "    ii. continue\n",
    "\n",
    "4. Error Handling Statement:\n",
    "    i. try\n",
    "    ii. except\n",
    "    iii. finally"
   ]
  },
  {
   "cell_type": "code",
   "execution_count": 87,
   "id": "ff45c9cb",
   "metadata": {},
   "outputs": [
    {
     "name": "stdout",
     "output_type": "stream",
     "text": [
      "6\n",
      "7\n",
      "13\n"
     ]
    }
   ],
   "source": [
    "a = 5\n",
    "if a > 4:\n",
    "    num1 = int(input())\n",
    "    num2 = int(input())\n",
    "    total = num1 + num2\n",
    "    print(total)"
   ]
  },
  {
   "cell_type": "code",
   "execution_count": 90,
   "id": "e62caff6",
   "metadata": {},
   "outputs": [
    {
     "name": "stdout",
     "output_type": "stream",
     "text": [
      "we are closing by 5:30pm\n"
     ]
    }
   ],
   "source": [
    "a = 5\n",
    "if a > 13:\n",
    "    num1 = int(input())\n",
    "    num2 = int(input())\n",
    "    total = num1 + num2\n",
    "    print(total)\n",
    "else:\n",
    "    print(\"we are closing by 5:30pm\")"
   ]
  },
  {
   "cell_type": "code",
   "execution_count": 91,
   "id": "491bda69",
   "metadata": {},
   "outputs": [
    {
     "name": "stdout",
     "output_type": "stream",
     "text": [
      "2\n",
      "7\n",
      "9\n"
     ]
    }
   ],
   "source": [
    "a = 5\n",
    "if a > 4:\n",
    "    num1 = int(input())\n",
    "    num2 = int(input())\n",
    "    total = num1 + num2\n",
    "    print(total)\n",
    "else:\n",
    "    print(\"we are closing by 5:30pm\")"
   ]
  },
  {
   "cell_type": "code",
   "execution_count": null,
   "id": "637129eb",
   "metadata": {},
   "outputs": [],
   "source": [
    "# elif: is the combination of \"if\" and \"else\""
   ]
  },
  {
   "cell_type": "code",
   "execution_count": 92,
   "id": "2ef6f05e",
   "metadata": {},
   "outputs": [
    {
     "name": "stdout",
     "output_type": "stream",
     "text": [
      "my name is kemi\n"
     ]
    }
   ],
   "source": [
    "r = 7\n",
    "if r>10:\n",
    "    print(\"my name is olaitan\")\n",
    "elif r==7:\n",
    "    print(\"my name is kemi\")\n",
    "elif r<7:\n",
    "    print(\"my name python\")\n",
    "else:\n",
    "    print(\"a girl has no name \")"
   ]
  },
  {
   "cell_type": "code",
   "execution_count": 93,
   "id": "1b7199ce",
   "metadata": {},
   "outputs": [
    {
     "name": "stdout",
     "output_type": "stream",
     "text": [
      "my name is olaitan\n"
     ]
    }
   ],
   "source": [
    "r = 7\n",
    "if r>6:\n",
    "    print(\"my name is olaitan\")\n",
    "elif r==7:\n",
    "    print(\"my name is kemi\")\n",
    "elif r<7:\n",
    "    print(\"my name python\")\n",
    "else:\n",
    "    print(\"a girl has no name \")"
   ]
  },
  {
   "cell_type": "code",
   "execution_count": 95,
   "id": "174b8bc6",
   "metadata": {},
   "outputs": [
    {
     "name": "stdout",
     "output_type": "stream",
     "text": [
      "my name is olaitan\n",
      "my name is kemi\n",
      "a girl has no name \n"
     ]
    }
   ],
   "source": [
    "r = 7\n",
    "if r>6:\n",
    "    print(\"my name is olaitan\")\n",
    "if r==7:\n",
    "    print(\"my name is kemi\")\n",
    "if r<7:\n",
    "    print(\"my name python\")\n",
    "else:\n",
    "    print(\"a girl has no name \")"
   ]
  },
  {
   "cell_type": "code",
   "execution_count": null,
   "id": "8ad7be5d",
   "metadata": {},
   "outputs": [],
   "source": [
    "# 7th July, 2024 (Sunday)"
   ]
  },
  {
   "cell_type": "code",
   "execution_count": 4,
   "id": "04c1f20f",
   "metadata": {},
   "outputs": [
    {
     "name": "stdout",
     "output_type": "stream",
     "text": [
      "please enter to your age18\n",
      "Are you a Nigerian?yes\n",
      "do you have pvc?yes\n",
      "you can go insdie and cast your vote!!\n"
     ]
    }
   ],
   "source": [
    "age = int(input(\"please enter to your age\"))\n",
    "if age >= 18:\n",
    "    nationality = input(\"Are you a Nigerian?\")\n",
    "    if nationality ==\"yes\":\n",
    "        pvc = input(\"do you have pvc?\")\n",
    "        if pvc==\"yes\":\n",
    "            print(\"you can go insdie and cast your vote!!\")\n",
    "        else:\n",
    "                print(\"please you need to register for pvc\")\n",
    "    else: \n",
    "            print(\"oh, you can not vote!!!\")\n",
    "else: \n",
    "    print(\"come back when you are 18\")"
   ]
  },
  {
   "cell_type": "code",
   "execution_count": null,
   "id": "95e1d355",
   "metadata": {},
   "outputs": [],
   "source": []
  },
  {
   "cell_type": "markdown",
   "id": "fd8e538f",
   "metadata": {},
   "source": [
    "# Loop Statement:  a loop is a programming construct that allows you to repeatedly execute a block of code as long as a certain condition is true. Python provides two main types of loops:\n",
    "    \n",
    "### Two main types of loop:\n",
    "- For loop\n",
    "- While loop"
   ]
  },
  {
   "cell_type": "code",
   "execution_count": 5,
   "id": "952a0b04",
   "metadata": {},
   "outputs": [
    {
     "name": "stdout",
     "output_type": "stream",
     "text": [
      "0\n",
      "1\n",
      "2\n",
      "3\n",
      "4\n"
     ]
    }
   ],
   "source": [
    "# for loop: Executes a block of code a fixed number of times, iterating over a sequence (like a list or a range).\n",
    "\n",
    "# example:\n",
    "for i in range(5):\n",
    "    print(i)"
   ]
  },
  {
   "cell_type": "code",
   "execution_count": 6,
   "id": "5bc008e9",
   "metadata": {},
   "outputs": [
    {
     "name": "stdout",
     "output_type": "stream",
     "text": [
      "0\n",
      "1\n",
      "2\n",
      "3\n",
      "4\n"
     ]
    }
   ],
   "source": [
    "# while loop: Executes a block of code as long as a specified condition is true.\n",
    "\n",
    "# example:\n",
    "i = 0\n",
    "while i < 5:\n",
    "    print(i)\n",
    "    i += 1"
   ]
  },
  {
   "cell_type": "code",
   "execution_count": 9,
   "id": "b97a5eb2",
   "metadata": {},
   "outputs": [
    {
     "name": "stdout",
     "output_type": "stream",
     "text": [
      "female\n",
      "female\n",
      "female\n",
      "male\n",
      "male\n",
      "male\n",
      "female\n"
     ]
    }
   ],
   "source": [
    "# loop statement:\n",
    "gender_list = [\"female\", \"female\", \"female\", \"male\", \"male\", \"male\", \"female\"]\n",
    "for element in gender_list:\n",
    "    print(element)"
   ]
  },
  {
   "cell_type": "code",
   "execution_count": 22,
   "id": "45cba983",
   "metadata": {},
   "outputs": [
    {
     "name": "stdout",
     "output_type": "stream",
     "text": [
      "Female List: ['female', 'female', 'female', 'female']\n",
      "Male List: ['male', 'male', 'male']\n"
     ]
    }
   ],
   "source": [
    "male_list = []\n",
    "female_list = []\n",
    "gender_list = [\"female\", \"female\", \"female\", \"male\", \"male\", \"male\", \"female\"]\n",
    "\n",
    "for element in gender_list:\n",
    "    if element == \"female\":\n",
    "        female_list.append(element)\n",
    "    else:\n",
    "        male_list.append(element)\n",
    "\n",
    "print(\"Female List:\", female_list)\n",
    "print(\"Male List:\", male_list)\n"
   ]
  },
  {
   "cell_type": "code",
   "execution_count": null,
   "id": "1e518aee",
   "metadata": {},
   "outputs": [],
   "source": [
    "# Explanation:\n",
    "\n",
    "male_list and female_list are initialized as empty lists.\n",
    "gender_list contains a list of genders (\"female\" and \"male\").\n",
    "The for loop iterates through each element (element) in gender_list.\n",
    "Inside the loop, it checks if element is \"female\" using an if statement.\n",
    "If true, it appends element to female_list.\n",
    "Otherwise (if element is \"male\"), it appends element to male_list.\n",
    "Finally, it prints out the contents of female_list and male_list to verify the result."
   ]
  },
  {
   "cell_type": "code",
   "execution_count": null,
   "id": "0a4b72a8",
   "metadata": {},
   "outputs": [],
   "source": [
    "# This shows that the elements \"female\" are added to female_list, and \"male\" are \n",
    "added to male_list based on their respective genders in gender_list."
   ]
  },
  {
   "cell_type": "code",
   "execution_count": 23,
   "id": "3cc28c16",
   "metadata": {},
   "outputs": [
    {
     "data": {
      "text/plain": [
       "['male', 'male', 'male']"
      ]
     },
     "execution_count": 23,
     "metadata": {},
     "output_type": "execute_result"
    }
   ],
   "source": [
    "male_list"
   ]
  },
  {
   "cell_type": "code",
   "execution_count": 24,
   "id": "09e24a67",
   "metadata": {},
   "outputs": [
    {
     "data": {
      "text/plain": [
       "['female', 'female', 'female', 'female']"
      ]
     },
     "execution_count": 24,
     "metadata": {},
     "output_type": "execute_result"
    }
   ],
   "source": [
    "female_list"
   ]
  },
  {
   "cell_type": "code",
   "execution_count": 25,
   "id": "b9c8aa78",
   "metadata": {},
   "outputs": [
    {
     "name": "stdout",
     "output_type": "stream",
     "text": [
      "T\n",
      "i\n",
      "t\n",
      "i\n",
      "l\n",
      "a\n",
      "y\n",
      "o\n"
     ]
    }
   ],
   "source": [
    "name = \"Titilayo\"\n",
    "for i in name:\n",
    "    print(i)"
   ]
  },
  {
   "cell_type": "code",
   "execution_count": null,
   "id": "41fc5b9a",
   "metadata": {},
   "outputs": [],
   "source": [
    "twenties = range(1, 21)\n",
    "even_list = []\n",
    "odd_list = []\n",
    "for i in twenties:\n",
    "    if i%2==0:\n",
    "        even_list.append(i)\n",
    "    else:\n",
    "        odd_list.append(i)"
   ]
  },
  {
   "cell_type": "code",
   "execution_count": 31,
   "id": "357d4365",
   "metadata": {},
   "outputs": [
    {
     "data": {
      "text/plain": [
       "[2, 4, 6, 8, 10, 12, 14, 16, 18, 20]"
      ]
     },
     "execution_count": 31,
     "metadata": {},
     "output_type": "execute_result"
    }
   ],
   "source": [
    "even_list"
   ]
  },
  {
   "cell_type": "code",
   "execution_count": null,
   "id": "0408614b",
   "metadata": {},
   "outputs": [],
   "source": [
    "# Explanation:\n",
    "\n",
    "twenties is a range object from 1 to 20 (range(1, 21)).\n",
    "even_list and odd_list are initialized as empty lists to store even and odd numbers, respectively.\n",
    "The for loop iterates through each number i in the twenties range.\n",
    "Inside the loop, it checks if i % 2 == 0 to determine if i is even.\n",
    "If true, i is appended to even_list.\n",
    "Otherwise (if i is odd), i is appended to odd_list.\n",
    "After the loop completes, it prints the contents of even_list and odd_list."
   ]
  },
  {
   "cell_type": "code",
   "execution_count": 33,
   "id": "6c8d8de7",
   "metadata": {},
   "outputs": [
    {
     "name": "stdout",
     "output_type": "stream",
     "text": [
      "Even numbers: [2, 4, 6, 8, 10, 12, 14, 16, 18, 20]\n",
      "Odd numbers: [1, 3, 5, 7, 9, 11, 13, 15, 17, 19]\n"
     ]
    }
   ],
   "source": [
    "twenties = range(1, 21)\n",
    "even_list = []\n",
    "odd_list = []\n",
    "\n",
    "for i in twenties:\n",
    "    if i % 2 == 0:\n",
    "        even_list.append(i)\n",
    "    else:\n",
    "        odd_list.append(i)\n",
    "\n",
    "print(\"Even numbers:\", even_list)\n",
    "print(\"Odd numbers:\", odd_list)\n"
   ]
  },
  {
   "cell_type": "code",
   "execution_count": null,
   "id": "9c1ec912",
   "metadata": {},
   "outputs": [],
   "source": [
    "# This demonstrates that the numbers from 1 to 20 have been correctly \n",
    "classified into even and odd lists based on their divisibility by 2."
   ]
  },
  {
   "cell_type": "code",
   "execution_count": 36,
   "id": "39edd0f6",
   "metadata": {},
   "outputs": [
    {
     "data": {
      "text/plain": [
       "[2, 4, 6, 8, 10, 12, 14, 16, 18, 20]"
      ]
     },
     "execution_count": 36,
     "metadata": {},
     "output_type": "execute_result"
    }
   ],
   "source": [
    "even_list"
   ]
  },
  {
   "cell_type": "code",
   "execution_count": 37,
   "id": "197b896c",
   "metadata": {},
   "outputs": [
    {
     "data": {
      "text/plain": [
       "[1, 3, 5, 7, 9, 11, 13, 15, 17, 19]"
      ]
     },
     "execution_count": 37,
     "metadata": {},
     "output_type": "execute_result"
    }
   ],
   "source": [
    "odd_list"
   ]
  },
  {
   "cell_type": "code",
   "execution_count": null,
   "id": "4aaee2c8",
   "metadata": {},
   "outputs": [],
   "source": []
  },
  {
   "cell_type": "code",
   "execution_count": 45,
   "id": "92199e97",
   "metadata": {},
   "outputs": [
    {
     "name": "stdout",
     "output_type": "stream",
     "text": [
      "guess our secret number 9\n",
      "won!!!\n"
     ]
    }
   ],
   "source": [
    "# while loop\" Ture will always true expect something makes it false\n",
    "\n",
    "secrete_number=9\n",
    "num_guess = 3\n",
    "counter = 1\n",
    "while True:\n",
    "    guess = int(input(\"guess our secret number\"))\n",
    "    if guess==secrete_number:\n",
    "        print(\"won!!!\")\n",
    "        break\n",
    "    if counter==3:\n",
    "        break\n",
    "    else:\n",
    "        print(\"try again\")\n",
    "        counter+=1\n",
    "    "
   ]
  },
  {
   "cell_type": "code",
   "execution_count": 46,
   "id": "3e1c5476",
   "metadata": {},
   "outputs": [
    {
     "name": "stdout",
     "output_type": "stream",
     "text": [
      "our python is easy to learn\n",
      "it is good to be good!!\n"
     ]
    }
   ],
   "source": [
    "try:\n",
    "    print(\"our python is easy to learn\")\n",
    "    name = \"Titilayo\"\n",
    "    print(\"it is good to be good!!\")\n",
    "except:\n",
    "    print(\"there is error in the try block\")\n",
    "    "
   ]
  },
  {
   "cell_type": "markdown",
   "id": "77387df9",
   "metadata": {},
   "source": [
    "# 13TH JULY, 2024\n",
    "## FUNCTION IN PYTHON\n",
    "### FUNCTION ARE CLASSIFIED INTO TWO (2)\n",
    "\n",
    "### FUNCTION ARE SET OF INSTRUCTION PUT TOGETHER IN A DEFINE NAME TO PERFORM SPECIFIC TASK"
   ]
  },
  {
   "cell_type": "code",
   "execution_count": 1,
   "id": "b20fa7ad",
   "metadata": {},
   "outputs": [
    {
     "data": {
      "text/plain": [
       "4"
      ]
     },
     "execution_count": 1,
     "metadata": {},
     "output_type": "execute_result"
    }
   ],
   "source": [
    "i = [1, 2, 3, 4]\n",
    "len(i)"
   ]
  },
  {
   "cell_type": "code",
   "execution_count": null,
   "id": "0ad334c8",
   "metadata": {},
   "outputs": [],
   "source": [
    "dry"
   ]
  },
  {
   "cell_type": "code",
   "execution_count": 5,
   "id": "cdc98a11",
   "metadata": {},
   "outputs": [],
   "source": [
    "# creating function\n",
    "def greet():\n",
    "    print(\"you are all welcome yo our school\")"
   ]
  },
  {
   "cell_type": "code",
   "execution_count": 6,
   "id": "576530e3",
   "metadata": {},
   "outputs": [
    {
     "name": "stdout",
     "output_type": "stream",
     "text": [
      "you are all welcome yo our school\n"
     ]
    }
   ],
   "source": [
    "# calling the function\n",
    "greet()"
   ]
  },
  {
   "cell_type": "code",
   "execution_count": 12,
   "id": "83e9faa7",
   "metadata": {},
   "outputs": [],
   "source": [
    "# Creating a function that will add up two number\n",
    "def add_two_number(w, y):\n",
    "    total = w + y\n",
    "    return total"
   ]
  },
  {
   "cell_type": "code",
   "execution_count": 13,
   "id": "2274729d",
   "metadata": {},
   "outputs": [
    {
     "data": {
      "text/plain": [
       "9"
      ]
     },
     "execution_count": 13,
     "metadata": {},
     "output_type": "execute_result"
    }
   ],
   "source": [
    "# calling the function to add any two numbers\n",
    "add_two_number(7, 2)"
   ]
  },
  {
   "cell_type": "code",
   "execution_count": 14,
   "id": "98f13928",
   "metadata": {},
   "outputs": [
    {
     "data": {
      "text/plain": [
       "10"
      ]
     },
     "execution_count": 14,
     "metadata": {},
     "output_type": "execute_result"
    }
   ],
   "source": [
    "add_two_number(6, 4)"
   ]
  },
  {
   "cell_type": "code",
   "execution_count": 15,
   "id": "8e37814d",
   "metadata": {},
   "outputs": [],
   "source": [
    "def convert_min_to_second(a):\n",
    "    total = a*60\n",
    "    return total"
   ]
  },
  {
   "cell_type": "code",
   "execution_count": 16,
   "id": "ce0a68a5",
   "metadata": {},
   "outputs": [
    {
     "data": {
      "text/plain": [
       "300"
      ]
     },
     "execution_count": 16,
     "metadata": {},
     "output_type": "execute_result"
    }
   ],
   "source": [
    "convert_min_to_second(5)"
   ]
  },
  {
   "cell_type": "markdown",
   "id": "2a4c4169",
   "metadata": {},
   "source": [
    "# Anonnymous Function"
   ]
  },
  {
   "cell_type": "code",
   "execution_count": 1,
   "id": "2d0bd617",
   "metadata": {},
   "outputs": [],
   "source": [
    "min_conversion = lambda x: x * 60"
   ]
  },
  {
   "cell_type": "code",
   "execution_count": 2,
   "id": "f29e5ef0",
   "metadata": {},
   "outputs": [
    {
     "data": {
      "text/plain": [
       "240"
      ]
     },
     "execution_count": 2,
     "metadata": {},
     "output_type": "execute_result"
    }
   ],
   "source": [
    "min_conversion(4)"
   ]
  },
  {
   "cell_type": "code",
   "execution_count": 4,
   "id": "1893a7d6",
   "metadata": {
    "collapsed": true
   },
   "outputs": [
    {
     "ename": "NameError",
     "evalue": "name 'h' is not defined",
     "output_type": "error",
     "traceback": [
      "\u001b[1;31m---------------------------------------------------------------------------\u001b[0m",
      "\u001b[1;31mNameError\u001b[0m                                 Traceback (most recent call last)",
      "\u001b[1;32m~\\AppData\\Local\\Temp\\ipykernel_15824\\3975972644.py\u001b[0m in \u001b[0;36m<module>\u001b[1;34m\u001b[0m\n\u001b[0;32m      1\u001b[0m \u001b[1;31m# To calculae area of triangle:\u001b[0m\u001b[1;33m\u001b[0m\u001b[1;33m\u001b[0m\u001b[0m\n\u001b[1;32m----> 2\u001b[1;33m \u001b[1;36m1\u001b[0m\u001b[1;33m/\u001b[0m\u001b[1;36m2\u001b[0m \u001b[1;33m*\u001b[0m \u001b[0mh\u001b[0m \u001b[1;33m*\u001b[0m \u001b[0mb\u001b[0m\u001b[1;33m\u001b[0m\u001b[1;33m\u001b[0m\u001b[0m\n\u001b[0m",
      "\u001b[1;31mNameError\u001b[0m: name 'h' is not defined"
     ]
    }
   ],
   "source": [
    "# To calculae area of triangle:\n",
    "1/2 * h * b"
   ]
  },
  {
   "cell_type": "code",
   "execution_count": 5,
   "id": "dbd4b526",
   "metadata": {},
   "outputs": [],
   "source": [
    "area_tri = lambda h, b: h * b * 0.5"
   ]
  },
  {
   "cell_type": "code",
   "execution_count": 6,
   "id": "92a808dc",
   "metadata": {},
   "outputs": [
    {
     "data": {
      "text/plain": [
       "25.0"
      ]
     },
     "execution_count": 6,
     "metadata": {},
     "output_type": "execute_result"
    }
   ],
   "source": [
    "area_tri(10, 5)"
   ]
  },
  {
   "cell_type": "code",
   "execution_count": null,
   "id": "3457d639",
   "metadata": {},
   "outputs": [],
   "source": []
  },
  {
   "cell_type": "code",
   "execution_count": null,
   "id": "9a60ef8f",
   "metadata": {},
   "outputs": [],
   "source": []
  },
  {
   "cell_type": "code",
   "execution_count": null,
   "id": "4c96c51b",
   "metadata": {},
   "outputs": [],
   "source": []
  },
  {
   "cell_type": "code",
   "execution_count": null,
   "id": "f548b472",
   "metadata": {},
   "outputs": [],
   "source": []
  },
  {
   "cell_type": "markdown",
   "id": "49d7a7f9",
   "metadata": {},
   "source": [
    "# OOP\n",
    "Object Oriented Programme (OOP) is a paradigm that organise code into class and object for easy accessing and reuseable"
   ]
  },
  {
   "cell_type": "code",
   "execution_count": null,
   "id": "04494a7b",
   "metadata": {},
   "outputs": [],
   "source": []
  },
  {
   "cell_type": "code",
   "execution_count": 67,
   "id": "4dc1db4c",
   "metadata": {},
   "outputs": [],
   "source": [
    "class Human:\n",
    "    def __init__(self, name, age):\n",
    "        self.name = name\n",
    "        self.age = age\n",
    "        \n",
    "        \n",
    "    def action(self, activity):\n",
    "            if activity== True:\n",
    "                print(\"am not working currently\")\n",
    "            else:\n",
    "                print(\"am not working currently\")\n",
    "                \n",
    "    def greet(self):\n",
    "        print(\"You are all welcome\")\n",
    "        \n",
    "    def intro(self):\n",
    "        print(f\"my name is {self.name} and i am {self.age} years old\")\n",
    "            \n",
    "        "
   ]
  },
  {
   "cell_type": "code",
   "execution_count": 70,
   "id": "4bd7f7ac",
   "metadata": {},
   "outputs": [],
   "source": [
    "human1 = Human(\"Titilayo\", 12)"
   ]
  },
  {
   "cell_type": "code",
   "execution_count": 71,
   "id": "a7ca6509",
   "metadata": {},
   "outputs": [
    {
     "name": "stdout",
     "output_type": "stream",
     "text": [
      "my name is Titilayo and i am 12 years old\n"
     ]
    }
   ],
   "source": [
    "human1.intro()"
   ]
  },
  {
   "cell_type": "code",
   "execution_count": 73,
   "id": "61726859",
   "metadata": {},
   "outputs": [
    {
     "name": "stdout",
     "output_type": "stream",
     "text": [
      "am not working currently\n"
     ]
    }
   ],
   "source": [
    "human1.action(False)"
   ]
  },
  {
   "cell_type": "code",
   "execution_count": 74,
   "id": "d5c9852a",
   "metadata": {},
   "outputs": [],
   "source": [
    "human2 = Human(\"Bukky\", 10)"
   ]
  },
  {
   "cell_type": "code",
   "execution_count": 75,
   "id": "d3832b1d",
   "metadata": {},
   "outputs": [
    {
     "name": "stdout",
     "output_type": "stream",
     "text": [
      "my name is Bukky and i am 10 years old\n"
     ]
    }
   ],
   "source": [
    "human2.intro()"
   ]
  },
  {
   "cell_type": "code",
   "execution_count": null,
   "id": "23907db5",
   "metadata": {},
   "outputs": [],
   "source": []
  },
  {
   "cell_type": "code",
   "execution_count": null,
   "id": "751286a0",
   "metadata": {},
   "outputs": [],
   "source": []
  }
 ],
 "metadata": {
  "kernelspec": {
   "display_name": "Python 3 (ipykernel)",
   "language": "python",
   "name": "python3"
  },
  "language_info": {
   "codemirror_mode": {
    "name": "ipython",
    "version": 3
   },
   "file_extension": ".py",
   "mimetype": "text/x-python",
   "name": "python",
   "nbconvert_exporter": "python",
   "pygments_lexer": "ipython3",
   "version": "3.9.13"
  }
 },
 "nbformat": 4,
 "nbformat_minor": 5
}
