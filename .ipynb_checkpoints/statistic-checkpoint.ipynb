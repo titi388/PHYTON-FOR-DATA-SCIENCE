{
 "cells": [
  {
   "cell_type": "markdown",
   "metadata": {},
   "source": [
    "material by: **Musbau, Kazeem Olaitan**"
   ]
  },
  {
   "cell_type": "code",
   "execution_count": null,
   "metadata": {},
   "outputs": [],
   "source": []
  },
  {
   "cell_type": "markdown",
   "metadata": {},
   "source": [
    "\n",
    "### 1. **Percentiles**\n",
    "\n",
    "A percentile indicates the value below which a given percentage of observations in a group falls. For instance, the 90th percentile is the value below which 90% of the data lies.  Percentiles are useful for understanding the distribution of data and identifying outliers.\n",
    "\n",
    "#### **Scenario: Children’s Height**\n",
    "\n",
    "Imagine you are tracking the height of children in a school. If a child's height is in the 75th percentile, this means that 75% of the children are shorter than this child, and 25% are taller.\n",
    "\n",
    "- **Real-Life Context:** Percentiles are often used in growth charts to assess children's development. For example, pediatricians use percentiles to determine if a child's growth is within a normal range compared to peers.\n",
    "\n",
    "**Use Cases in Data Science:**\n",
    "1. **Data Analysis:** Percentiles help summarize and understand the distribution of data, identifying trends and outliers.\n",
    "2. **Feature Scaling:** In machine learning, percentiles are used for scaling features, especially when the data has outliers.\n",
    "3. **Benchmarking:** Percentiles can compare performance metrics across different populations or groups.\n",
    "\n",
    "### Quartiles\n",
    "Quartiles are a type of percentile that divide the data into four equal parts. They are special cases of percentiles:\n",
    "- **Q1 (First Quartile):** 25th percentile\n",
    "- **Q2 (Second Quartile/Median):** 50th percentile\n",
    "- **Q3 (Third Quartile):** 75th percentile\n",
    "\n",
    "**Use Cases in Data Science:**\n",
    "1. **Box Plots:** Quartiles are used to create box plots, which visualize the spread and skewness of data.\n",
    "2. **Outlier Detection:** The interquartile range (IQR) is used to identify outliers. Data points beyond \\(1.5 \\times IQR\\) from the first or third quartile are typically considered outliers.\n",
    "3. **Descriptive Statistics:** Quartiles provide a quick summary of data distribution, highlighting central tendency and variability.\n",
    "\n",
    "### Python Code to Illustrate Percentiles and Quartiles\n",
    "Here's an example using Python's NumPy library to calculate percentiles and quartiles:\n"
   ]
  },
  {
   "cell_type": "code",
   "execution_count": 1,
   "metadata": {},
   "outputs": [
    {
     "name": "stdout",
     "output_type": "stream",
     "text": [
      "25th Percentile (Q1): 40.0\n",
      "50th Percentile (Median/Q2): 60.0\n",
      "75th Percentile (Q3): 75.0\n"
     ]
    }
   ],
   "source": [
    "import numpy as np\n",
    "\n",
    "# Sample data\n",
    "data = [15, 20, 35, 40, 50, 55, 60, 65, 70, 75, 80, 85, 90]\n",
    "\n",
    "# Calculating percentiles\n",
    "p25 = np.percentile(data, 25)  # 25th percentile\n",
    "p50 = np.percentile(data, 50)  # 50th percentile (median)\n",
    "p75 = np.percentile(data, 75)  # 75th percentile\n",
    "\n",
    "print(f\"25th Percentile (Q1): {p25}\")\n",
    "print(f\"50th Percentile (Median/Q2): {p50}\")\n",
    "print(f\"75th Percentile (Q3): {p75}\")\n",
    "\n"
   ]
  },
  {
   "cell_type": "code",
   "execution_count": 2,
   "metadata": {},
   "outputs": [
    {
     "name": "stdout",
     "output_type": "stream",
     "text": [
      "First Quartile (Q1): 40.0\n",
      "Second Quartile (Q2/Median): 60.0\n",
      "Third Quartile (Q3): 75.0\n"
     ]
    }
   ],
   "source": [
    "# Calculating quartiles\n",
    "q1 = np.quantile(data, 0.25)\n",
    "q2 = np.quantile(data, 0.5)\n",
    "q3 = np.quantile(data, 0.75)\n",
    "\n",
    "print(f\"First Quartile (Q1): {q1}\")\n",
    "print(f\"Second Quartile (Q2/Median): {q2}\")\n",
    "print(f\"Third Quartile (Q3): {q3}\")\n",
    "\n"
   ]
  },
  {
   "cell_type": "code",
   "execution_count": 3,
   "metadata": {
    "scrolled": true
   },
   "outputs": [
    {
     "name": "stdout",
     "output_type": "stream",
     "text": [
      "Interquartile Range (IQR): 35.0\n"
     ]
    }
   ],
   "source": [
    "# Calculating Interquartile Range (IQR)\n",
    "iqr = q3 - q1\n",
    "print(f\"Interquartile Range (IQR): {iqr}\")"
   ]
  },
  {
   "cell_type": "code",
   "execution_count": 8,
   "metadata": {},
   "outputs": [],
   "source": [
    "upper_band = q3 + iqr * 1.5\n",
    "lower_band = q1 - iqr * 1.5"
   ]
  },
  {
   "cell_type": "code",
   "execution_count": 9,
   "metadata": {},
   "outputs": [
    {
     "data": {
      "text/plain": [
       "127.5"
      ]
     },
     "execution_count": 9,
     "metadata": {},
     "output_type": "execute_result"
    }
   ],
   "source": [
    "upper_band"
   ]
  },
  {
   "cell_type": "code",
   "execution_count": 10,
   "metadata": {},
   "outputs": [
    {
     "data": {
      "text/plain": [
       "-12.5"
      ]
     },
     "execution_count": 10,
     "metadata": {},
     "output_type": "execute_result"
    }
   ],
   "source": [
    "lower_band"
   ]
  },
  {
   "cell_type": "code",
   "execution_count": 11,
   "metadata": {},
   "outputs": [
    {
     "data": {
      "text/plain": [
       "19.142857142857142"
      ]
     },
     "execution_count": 11,
     "metadata": {},
     "output_type": "execute_result"
    }
   ],
   "source": [
    "# Mean\n",
    "data=[1, 4, 8, 10, 11, 100, 0]\n",
    "np.mean(data)"
   ]
  },
  {
   "cell_type": "code",
   "execution_count": 12,
   "metadata": {},
   "outputs": [
    {
     "data": {
      "text/plain": [
       "33.24553061875309"
      ]
     },
     "execution_count": 12,
     "metadata": {},
     "output_type": "execute_result"
    }
   ],
   "source": [
    "# Standard deviation\n",
    "np.std(data)"
   ]
  },
  {
   "cell_type": "code",
   "execution_count": 13,
   "metadata": {},
   "outputs": [
    {
     "data": {
      "text/plain": [
       "6.285714285714286"
      ]
     },
     "execution_count": 13,
     "metadata": {},
     "output_type": "execute_result"
    }
   ],
   "source": [
    "# Mean\n",
    "data=[1, 4, 8, 10, 11, 10, 0]\n",
    "np.mean(data)"
   ]
  },
  {
   "cell_type": "code",
   "execution_count": 14,
   "metadata": {},
   "outputs": [
    {
     "data": {
      "text/plain": [
       "4.233009254294015"
      ]
     },
     "execution_count": 14,
     "metadata": {},
     "output_type": "execute_result"
    }
   ],
   "source": [
    "# Standard deviation\n",
    "np.std(data)"
   ]
  },
  {
   "cell_type": "code",
   "execution_count": null,
   "metadata": {},
   "outputs": [],
   "source": []
  },
  {
   "cell_type": "code",
   "execution_count": null,
   "metadata": {},
   "outputs": [],
   "source": []
  },
  {
   "cell_type": "code",
   "execution_count": null,
   "metadata": {},
   "outputs": [],
   "source": []
  },
  {
   "cell_type": "code",
   "execution_count": null,
   "metadata": {},
   "outputs": [],
   "source": []
  },
  {
   "cell_type": "markdown",
   "metadata": {},
   "source": [
    "### 1. Number Summary\n",
    "**Number summary** refers to key statistical measures that provide a quick overview of the data set. It usually includes:\n",
    "- **Mean:** The average value.\n",
    "- **Median:** The middle value when data is sorted.\n",
    "- **Mode:** The most frequent value.\n",
    "- **Range:** The difference between the maximum and minimum values.\n",
    "- **Variance and Standard Deviation:** Measures of data dispersion.\n",
    "- **Minimum and Maximum:** The smallest and largest values.\n",
    "- **Quartiles and Percentiles:** Divide data into intervals.\n",
    "\n",
    "**Relevance in Data Science:**\n",
    "Number summaries help in understanding the distribution, central tendency, and variability of data, crucial for data preprocessing, exploration, and feature engineering.\n"
   ]
  },
  {
   "cell_type": "code",
   "execution_count": 3,
   "metadata": {},
   "outputs": [
    {
     "name": "stdout",
     "output_type": "stream",
     "text": [
      "Mean: 56.92307692307692\n",
      "Median: 60.0\n",
      "Mode: 65\n",
      "Standard Deviation: 23.083332443267167\n",
      "Min: 15, Max: 90\n"
     ]
    }
   ],
   "source": [
    "import numpy as np\n",
    "\n",
    "data = [15, 20, 35, 40, 50, 55, 60, 65, 70, 75, 80, 85, 90]\n",
    "\n",
    "mean = np.mean(data)\n",
    "median = np.median(data)\n",
    "mode = max(set(data), key=data.count)  # Basic mode calculation\n",
    "std_dev = np.std(data)\n",
    "min_val = np.min(data)\n",
    "max_val = np.max(data)\n",
    "\n",
    "print(f\"Mean: {mean}\")\n",
    "print(f\"Median: {median}\")\n",
    "print(f\"Mode: {mode}\")\n",
    "print(f\"Standard Deviation: {std_dev}\")\n",
    "print(f\"Min: {min_val}, Max: {max_val}\")\n"
   ]
  },
  {
   "cell_type": "code",
   "execution_count": null,
   "metadata": {},
   "outputs": [],
   "source": []
  },
  {
   "cell_type": "markdown",
   "metadata": {},
   "source": [
    "### 2. Histograms\n",
    "**Histograms** are graphical representations of the distribution of numerical data. They show the frequency of data points within specified ranges (bins).\n",
    "\n",
    "**Relevance in Data Science:**\n",
    "Histograms are used for visualizing the distribution of data, identifying skewness, kurtosis, and potential outliers, which is crucial for understanding the data's behavior and making decisions in modeling.\n"
   ]
  },
  {
   "cell_type": "code",
   "execution_count": 4,
   "metadata": {},
   "outputs": [
    {
     "data": {
      "image/png": "[encoded data removed]",
      "text/plain": [
       "<Figure size 640x480 with 1 Axes>"
      ]
     },
     "metadata": {},
     "output_type": "display_data"
    }
   ],
   "source": [
    "import matplotlib.pyplot as plt\n",
    "\n",
    "# Sample data\n",
    "data = [15, 20, 35, 40, 50, 55, 60, 65, 70, 75, 80, 85, 90]\n",
    "\n",
    "plt.hist(data, bins=5, edgecolor='black')\n",
    "plt.title('Histogram')\n",
    "plt.xlabel('Value')\n",
    "plt.ylabel('Frequency')\n",
    "plt.show()\n"
   ]
  },
  {
   "cell_type": "markdown",
   "metadata": {},
   "source": [
    "### 2. **Gaussian (Normal) Distribution**\n",
    "\n",
    "A Gaussian or Normal distribution is a bell-shaped curve where most observations cluster around the mean, with fewer observations as you move away from the mean in either direction.\n",
    "\n",
    "#### **Scenario: Exam Scores**\n",
    "\n",
    "Suppose you are analyzing the scores of students in a large exam. Most students score around the average (say 70 out of 100), with fewer students scoring extremely low or high.\n",
    "\n",
    "- **Real-Life Context:** In many situations, such as exam scores, heights, weights, and IQs, data tends to follow a normal distribution. Most people will cluster around the average, with fewer at the extremes.\n",
    "\n",
    "\n",
    "\n",
    "\n",
    "**Relevance in Data Science:**\n",
    "Many natural phenomena follow a normal distribution, and it's often assumed in statistical methods and machine learning algorithms. Understanding the normal distribution helps in hypothesis testing, anomaly detection, and more.\n"
   ]
  },
  {
   "cell_type": "code",
   "execution_count": null,
   "metadata": {},
   "outputs": [],
   "source": []
  },
  {
   "cell_type": "code",
   "execution_count": null,
   "metadata": {},
   "outputs": [],
   "source": []
  },
  {
   "cell_type": "code",
   "execution_count": 25,
   "metadata": {},
   "outputs": [
    {
     "data": {
      "image/png": "[encoded data removed]",
      "text/plain": [
       "<Figure size 640x480 with 1 Axes>"
      ]
     },
     "metadata": {},
     "output_type": "display_data"
    }
   ],
   "source": [
    "import numpy as np\n",
    "import seaborn as sns\n",
    "import matplotlib.pyplot as plt\n",
    "np.random.seed(42)\n",
    "\n",
    "s = np.random.normal(100, 2000, 1000)\n",
    "sns.histplot(s, bins=30, kde=True,  color='teal', edgecolor='black')\n",
    "plt.show()"
   ]
  },
  {
   "cell_type": "code",
   "execution_count": null,
   "metadata": {},
   "outputs": [],
   "source": []
  },
  {
   "cell_type": "code",
   "execution_count": 26,
   "metadata": {},
   "outputs": [],
   "source": [
    "mean=np.mean(s)\n",
    "std = np.std(s)"
   ]
  },
  {
   "cell_type": "code",
   "execution_count": 27,
   "metadata": {},
   "outputs": [
    {
     "data": {
      "text/plain": [
       "138.66411164465097"
      ]
     },
     "execution_count": 27,
     "metadata": {},
     "output_type": "execute_result"
    }
   ],
   "source": [
    "mean"
   ]
  },
  {
   "cell_type": "code",
   "execution_count": 29,
   "metadata": {},
   "outputs": [
    {
     "data": {
      "text/plain": [
       "1957.4524154947085"
      ]
     },
     "execution_count": 29,
     "metadata": {},
     "output_type": "execute_result"
    }
   ],
   "source": [
    "std"
   ]
  },
  {
   "cell_type": "code",
   "execution_count": 30,
   "metadata": {},
   "outputs": [
    {
     "data": {
      "text/plain": [
       "1818.7883038500574"
      ]
     },
     "execution_count": 30,
     "metadata": {},
     "output_type": "execute_result"
    }
   ],
   "source": [
    "(std) * 1 - mean"
   ]
  },
  {
   "cell_type": "code",
   "execution_count": 31,
   "metadata": {},
   "outputs": [
    {
     "data": {
      "text/plain": [
       "2096.1165271393593"
      ]
     },
     "execution_count": 31,
     "metadata": {},
     "output_type": "execute_result"
    }
   ],
   "source": [
    "(std) * 1 + mean"
   ]
  },
  {
   "cell_type": "code",
   "execution_count": 32,
   "metadata": {},
   "outputs": [
    {
     "data": {
      "text/plain": [
       "3776.240719344766"
      ]
     },
     "execution_count": 32,
     "metadata": {},
     "output_type": "execute_result"
    }
   ],
   "source": [
    "(std) * 2 - mean"
   ]
  },
  {
   "cell_type": "code",
   "execution_count": 33,
   "metadata": {},
   "outputs": [
    {
     "data": {
      "text/plain": [
       "4053.5689426340678"
      ]
     },
     "execution_count": 33,
     "metadata": {},
     "output_type": "execute_result"
    }
   ],
   "source": [
    "(std) * 2 + mean"
   ]
  },
  {
   "cell_type": "code",
   "execution_count": 34,
   "metadata": {},
   "outputs": [
    {
     "data": {
      "text/plain": [
       "5733.693134839475"
      ]
     },
     "execution_count": 34,
     "metadata": {},
     "output_type": "execute_result"
    }
   ],
   "source": [
    "(std) * 3 - mean"
   ]
  },
  {
   "cell_type": "code",
   "execution_count": 35,
   "metadata": {},
   "outputs": [
    {
     "data": {
      "text/plain": [
       "6011.021358128776"
      ]
     },
     "execution_count": 35,
     "metadata": {},
     "output_type": "execute_result"
    }
   ],
   "source": [
    "(std) * 3 + mean"
   ]
  },
  {
   "cell_type": "code",
   "execution_count": null,
   "metadata": {},
   "outputs": [],
   "source": [
    "-1 to 1 == 68\n",
    "-2 to 2 = 95\n",
    "-3 to 3 = 99.8"
   ]
  },
  {
   "cell_type": "code",
   "execution_count": null,
   "metadata": {},
   "outputs": [],
   "source": []
  },
  {
   "cell_type": "code",
   "execution_count": 15,
   "metadata": {},
   "outputs": [
    {
     "data": {
      "text/plain": [
       "[1, 2, 3, 4, 5, 6]"
      ]
     },
     "execution_count": 15,
     "metadata": {},
     "output_type": "execute_result"
    }
   ],
   "source": [
    "[1, 2, 3, 4, 5, 6]"
   ]
  },
  {
   "cell_type": "code",
   "execution_count": null,
   "metadata": {},
   "outputs": [],
   "source": [
    "mean = 1000 * "
   ]
  },
  {
   "cell_type": "code",
   "execution_count": null,
   "metadata": {},
   "outputs": [],
   "source": [
    "data = [15, 20, 35, 40, 50, 55, 60, 65, 70, 75, 80, 85, 90]\n",
    "np.std(data)"
   ]
  },
  {
   "cell_type": "code",
   "execution_count": null,
   "metadata": {},
   "outputs": [],
   "source": []
  },
  {
   "cell_type": "code",
   "execution_count": null,
   "metadata": {},
   "outputs": [],
   "source": [
    "-1 to 1 == 68\n",
    "-2 to 2 = 95\n",
    "-3 to 3 = 99.8"
   ]
  },
  {
   "cell_type": "code",
   "execution_count": null,
   "metadata": {},
   "outputs": [],
   "source": []
  },
  {
   "cell_type": "code",
   "execution_count": null,
   "metadata": {},
   "outputs": [],
   "source": []
  },
  {
   "cell_type": "code",
   "execution_count": null,
   "metadata": {},
   "outputs": [],
   "source": []
  },
  {
   "cell_type": "markdown",
   "metadata": {},
   "source": [
    "### 4. **Application of Z-Score**\n",
    "\n",
    "A Z-score tells you how many standard deviations an element is from the mean. It helps in comparing different data points from different normal distributions.\n",
    "\n",
    "\n",
    "\n",
    "- **Real-Life Context:** Z-scores are useful in comparing different measures on different scales. For instance, if you're comparing test scores from different subjects with different average scores and variances, Z-scores can help normalize these scores for a fair comparison.\n",
    "\n",
    "\n",
    "\n",
    "\n",
    "**Relevance in Data Science:**\n",
    "Z-scores are used in outlier detection, standardization, and normalization processes in data preprocessing.\n",
    "\n",
    "\n",
    "\n",
    "#### **Scenario: Comparing Two Students’ Performance**\n",
    "\n",
    "Imagine you want to compare the math scores of two students from different schools. School A has an average math score of 75 with a standard deviation of 5, and School B has an average score of 80 with a standard deviation of 10."
   ]
  },
  {
   "cell_type": "code",
   "execution_count": 4,
   "metadata": {},
   "outputs": [
    {
     "name": "stdout",
     "output_type": "stream",
     "text": [
      "student 1 z score is  2.0\n",
      "student 2 z score is  1.0\n"
     ]
    }
   ],
   "source": [
    "Student_1_score =85\n",
    "Student_2_score =90\n",
    "\n",
    "School_A_math_mean = 75\n",
    "School_B_math_mean = 80\n",
    "\n",
    "std_1 = 5\n",
    "std_2 = 10\n",
    "\n",
    "student_1_Z_score = (Student_1_score - School_A_math_mean) / std_1 \n",
    "\n",
    "student_2_Z_score = (Student_2_score - School_B_math_mean) / std_2 \n",
    "print(\"student 1 z score is \", student_1_Z_score)\n",
    "print(\"student 2 z score is \", student_2_Z_score)"
   ]
  },
  {
   "cell_type": "markdown",
   "metadata": {},
   "source": [
    "Although both students scored 10 points above their school's average, Student 1 has a higher Z-score (2) compared to Student 2 (1), indicating a relatively better performance compared to their peers."
   ]
  },
  {
   "cell_type": "code",
   "execution_count": null,
   "metadata": {},
   "outputs": [],
   "source": []
  },
  {
   "cell_type": "code",
   "execution_count": 40,
   "metadata": {
    "scrolled": true
   },
   "outputs": [
    {
     "name": "stdout",
     "output_type": "stream",
     "text": [
      "[-1.9748417658131499, -1.7554149029450221, -1.097134314340639, 0.43885372573625553, -0.43885372573625553, 0.21942686286812776, 0.0, 0.21942686286812776, 0.43885372573625553, 0.6582805886043833, 0.8777074514725111, 1.097134314340639, 1.3165611772087666]\n"
     ]
    }
   ],
   "source": [
    "data = [15, 20, 35, 70, 50, 65, 60, 65, 70, 75, 80, 85, 90]\n",
    "mean = np.mean(data)\n",
    "std_dev = np.std(data)\n",
    "\n",
    "z_scores = [(x - mean) / std_dev for x in data]\n",
    "print(z_scores)"
   ]
  },
  {
   "cell_type": "code",
   "execution_count": 42,
   "metadata": {},
   "outputs": [
    {
     "data": {
      "text/plain": [
       "-1.9748417658131499"
      ]
     },
     "execution_count": 42,
     "metadata": {},
     "output_type": "execute_result"
    }
   ],
   "source": [
    "z_score = (15 - mean)/ std_dev\n",
    "z_score"
   ]
  },
  {
   "cell_type": "code",
   "execution_count": null,
   "metadata": {},
   "outputs": [],
   "source": []
  },
  {
   "cell_type": "code",
   "execution_count": null,
   "metadata": {},
   "outputs": [],
   "source": []
  },
  {
   "cell_type": "code",
   "execution_count": 44,
   "metadata": {},
   "outputs": [
    {
     "name": "stdout",
     "output_type": "stream",
     "text": [
      "o\n",
      "l\n",
      "a\n",
      "i\n",
      "t\n",
      "a\n",
      "n\n"
     ]
    }
   ],
   "source": [
    "name = \"olaitan\"\n",
    "for i in name:\n",
    "    print(i)"
   ]
  },
  {
   "cell_type": "code",
   "execution_count": 46,
   "metadata": {},
   "outputs": [
    {
     "data": {
      "text/plain": [
       "['o', 'l', 'a', 'i', 't', 'a', 'n']"
      ]
     },
     "execution_count": 46,
     "metadata": {},
     "output_type": "execute_result"
    }
   ],
   "source": [
    "# List comprehension:\n",
    "[x for x in name]"
   ]
  },
  {
   "cell_type": "code",
   "execution_count": null,
   "metadata": {},
   "outputs": [],
   "source": []
  },
  {
   "cell_type": "code",
   "execution_count": null,
   "metadata": {},
   "outputs": [],
   "source": []
  },
  {
   "cell_type": "markdown",
   "metadata": {},
   "source": [
    "### 6. Basics of Probability\n",
    "**Probability** measures the likelihood of an event occurring, ranging from 0 (impossible) to 1 (certain).\n",
    "\n",
    "**Relevance in Data Science:**\n",
    "Probability underlies many machine learning algorithms and statistical methods, helping in model evaluation, uncertainty quantification, and decision-making.\n"
   ]
  },
  {
   "cell_type": "code",
   "execution_count": 8,
   "metadata": {},
   "outputs": [
    {
     "name": "stdout",
     "output_type": "stream",
     "text": [
      "Probability of rolling a 4: 0.16666666666666666\n"
     ]
    }
   ],
   "source": [
    "from random import randint\n",
    "\n",
    "# Probability of getting a 4 in a dice roll\n",
    "total_outcomes = 6\n",
    "event_outcomes = 1\n",
    "probability = event_outcomes / total_outcomes\n",
    "print(f\"Probability of rolling a 4: {probability}\")"
   ]
  },
  {
   "cell_type": "code",
   "execution_count": null,
   "metadata": {},
   "outputs": [],
   "source": []
  },
  {
   "cell_type": "code",
   "execution_count": null,
   "metadata": {},
   "outputs": [],
   "source": []
  },
  {
   "cell_type": "code",
   "execution_count": null,
   "metadata": {},
   "outputs": [],
   "source": []
  },
  {
   "cell_type": "markdown",
   "metadata": {},
   "source": [
    "### 7. Addition Rule in Probability\n",
    "The **Addition Rule** states that the probability of either of two mutually exclusive events occurring is the sum of their individual probabilities.\n",
    "is used to find the probability of at least one event without of several event will occur\n",
    "\n",
    "**Formula:** P(A or B) = P(A) + P(B)\n",
    "\n",
    "**Relevance in Data Science:**\n",
    "This rule helps in calculating probabilities in classification problems and decision-making processes."
   ]
  },
  {
   "cell_type": "code",
   "execution_count": 9,
   "metadata": {},
   "outputs": [
    {
     "name": "stdout",
     "output_type": "stream",
     "text": [
      "P(A or B): 0.7\n"
     ]
    }
   ],
   "source": [
    "P_A = 0.3  # Probability of event A\n",
    "P_B = 0.4  # Probability of event B\n",
    "\n",
    "# Assuming A and B are mutually exclusive\n",
    "P_A_or_B = P_A + P_B\n",
    "print(f\"P(A or B): {P_A_or_B}\")"
   ]
  },
  {
   "cell_type": "markdown",
   "metadata": {},
   "source": [
    "\n",
    "### Scenario: Weather Forecast\n",
    "\n",
    "Imagine you live in a city where, based on historical data and the current forecast:\n",
    "\n",
    "- **Event A:** The probability of it raining on a particular day is 30% (or 0.3).\n",
    "- **Event B:** The probability of it snowing on that same day is 20% (or 0.2).\n",
    "- **Event A ∩ B:** The probability of both raining and snowing on that day is 10% (or 0.1) because sometimes it can rain and snow together.\n",
    "\n",
    "Now, you want to find out the probability that it will either rain **or** snow on that day.\n",
    "\n",
    "### Using the Addition Rule:\n",
    "\n",
    "The addition rule states that:\n",
    "\n",
    "$[ P(A \\cup B) = P(A) + P(B) - P(A \\cap B) ]$\n",
    "\n",
    "Where:\n",
    "- $( P(A) ) is the probability  of rain (0.3)$\n",
    "- $( P(B) ) is the probability  of snow (0.2)$\n",
    "- $( P(A \\cap B) ) is the probability  of both rain and snow (0.1)$\n",
    "\n"
   ]
  },
  {
   "cell_type": "code",
   "execution_count": 47,
   "metadata": {},
   "outputs": [
    {
     "name": "stdout",
     "output_type": "stream",
     "text": [
      "So, the probability that it will either rain or snow on that day is 0.4 or 40.0%.\n"
     ]
    }
   ],
   "source": [
    "p= 0.3 + 0.2 - 0.1 \n",
    "print(f\"So, the probability that it will either rain or snow on that day is {p} or {p*100}%.\")"
   ]
  },
  {
   "cell_type": "markdown",
   "metadata": {},
   "source": [
    "### Real-Life Context:\n",
    "\n",
    "- **Planning Your Day:** Knowing there’s a 40% chance of rain or snow could influence your decision to carry an umbrella or dress warmly.\n",
    "- **Event Planning:** If you’re organizing an outdoor event, understanding the combined probability of rain or snow helps in deciding whether to move the event indoors or set up tents.\n",
    "- **Commute Decisions:** You might decide to drive instead of walking to work to avoid getting caught in rain or snow.\n",
    "\n"
   ]
  },
  {
   "cell_type": "code",
   "execution_count": null,
   "metadata": {},
   "outputs": [],
   "source": []
  },
  {
   "cell_type": "code",
   "execution_count": null,
   "metadata": {},
   "outputs": [],
   "source": []
  },
  {
   "cell_type": "markdown",
   "metadata": {},
   "source": [
    "### 8. Multiplication Rule in Probability\n",
    "\n",
    "The multiplication rule in probability is used to find the probability that two or more events occur together.\n",
    "\n",
    "In real life, understanding the multiplication rule helps in situations where you need to calculate the likelihood of multiple events occurring together, whether those events are independent or dependent on each other.\n",
    "\n",
    "\n",
    "\n",
    "There are two types of multiplication rules depending on whether the events are independent or dependent.\n",
    "\n",
    "### 1. **Independent Events:**\n",
    "If the occurrence of one event does not affect the occurrence of another, the events are independent. The multiplication rule for independent events is:\n",
    "\n",
    "$[ P(A \\cap B) = P(A) \\times P(B) ]$\n",
    "\n",
    "### 2. **Dependent Events:**\n",
    "If the occurrence of one event affects the occurrence of another, the events are dependent. The multiplication rule for dependent events is:\n",
    "\n",
    "$[ P(A \\cap B) = P(A) \\times P(B|A) ]$\n",
    "\n",
    "Where $( P(B|A) )$ is the probability of B occurring given that A has already occurred.\n",
    "\n"
   ]
  },
  {
   "cell_type": "code",
   "execution_count": null,
   "metadata": {},
   "outputs": [],
   "source": []
  },
  {
   "cell_type": "code",
   "execution_count": null,
   "metadata": {},
   "outputs": [],
   "source": []
  },
  {
   "cell_type": "markdown",
   "metadata": {},
   "source": [
    "### 1. **Independent Events:**\n",
    "\n",
    "**Scenario: Waking Up on Time and Having a Good Breakfast**\n",
    "\n",
    "Imagine you set an alarm to wake up on time, and you also plan to have a good breakfast. These events are independent because waking up on time doesn't directly affect whether you'll have a good breakfast.\n",
    "\n",
    "- **Event A:** Waking up on time.\n",
    "- **Event B:** Having a good breakfast.\n",
    "\n",
    "Suppose:\n",
    "- The probability of waking up on time is 80% (or 0.8).\n",
    "- The probability of having a good breakfast is 90% (or 0.9).\n",
    "\n",
    "\n"
   ]
  },
  {
   "cell_type": "code",
   "execution_count": 30,
   "metadata": {},
   "outputs": [
    {
     "name": "stdout",
     "output_type": "stream",
     "text": [
      "So, the probability that you'll both wake up on time **and** have a good breakfast is 0.7200000000000001\n"
     ]
    }
   ],
   "source": [
    "# Using the multiplication rule for independent events:\n",
    "\n",
    "p= 0.8 * 0.9 \n",
    "\n",
    "print(f\"So, the probability that you'll both wake up on time **and** have a good breakfast is {p}\")\n"
   ]
  },
  {
   "cell_type": "markdown",
   "metadata": {},
   "source": [
    "**Real-Life Context:**\n",
    "- **Morning Routine:** You might rely on these probabilities to set realistic expectations for your morning.\n",
    "- **Planning Your Day:** If these activities are crucial for your productivity, understanding their combined probability helps in making decisions about your schedule.\n",
    "\n"
   ]
  },
  {
   "cell_type": "code",
   "execution_count": null,
   "metadata": {},
   "outputs": [],
   "source": []
  },
  {
   "cell_type": "code",
   "execution_count": null,
   "metadata": {},
   "outputs": [],
   "source": []
  },
  {
   "cell_type": "markdown",
   "metadata": {},
   "source": [
    "### 2. **Dependent Events:**\n",
    "\n",
    "**Scenario: Catching a Bus and Then Arriving on Time**\n",
    "\n",
    "Imagine you need to catch a bus to get to work on time. The probability of arriving on time depends on whether you catch the bus, so these events are dependent.\n",
    "\n",
    "- **Event A:** Catching the bus.\n",
    "- **Event B:** Arriving at work on time, given that you caught the bus.\n",
    "\n",
    "Suppose:\n",
    "- The probability of catching the bus is 70% (or 0.7).\n",
    "- If you catch the bus, the probability of arriving on time is 90% (or 0.9).\n",
    "\n"
   ]
  },
  {
   "cell_type": "code",
   "execution_count": 29,
   "metadata": {},
   "outputs": [
    {
     "name": "stdout",
     "output_type": "stream",
     "text": [
      "So, the probability that you'll catch the bus **and** arrive at work on time is 0.63\n"
     ]
    }
   ],
   "source": [
    "#Using the multiplication rule for dependent events:\n",
    "\n",
    "p= 0.7 * 0.9\n",
    "\n",
    "print(f\"So, the probability that you'll catch the bus **and** arrive at work on time is {p}\")\n",
    "\n"
   ]
  },
  {
   "cell_type": "markdown",
   "metadata": {},
   "source": [
    "**Real-Life Context:**\n",
    "- **Commuting:** If you're planning your commute, understanding these probabilities helps you decide whether you need to leave earlier or find an alternative mode of transportation.\n",
    "- **Time Management:** If arriving on time is critical, you might use this probability to assess whether you need to adjust your routine or make contingency plans.\n",
    "\n"
   ]
  },
  {
   "cell_type": "code",
   "execution_count": null,
   "metadata": {},
   "outputs": [],
   "source": []
  },
  {
   "cell_type": "code",
   "execution_count": null,
   "metadata": {},
   "outputs": [],
   "source": []
  },
  {
   "cell_type": "markdown",
   "metadata": {},
   "source": [
    "### 1. Permutation\n",
    "A **permutation** Permutations are about arranging objects in a specific order, where the order matters. In everyday life, permutations are applicable in situations where the sequence of actions or items is important.. \n",
    "\n",
    "**Formula:** For n distinct objects, the number of permutations of r objects is given by:\n",
    "\n",
    "$[ P(n, r) = \\frac{n!}{(n-r)!} ]$\n",
    "\n",
    "**Relevance in Data Science:**\n",
    "Permutations are used in scenarios where the order of outcomes matters, such as in optimization problems, feature selection, and algorithm design.\n"
   ]
  },
  {
   "cell_type": "markdown",
   "metadata": {},
   "source": [
    "# Scheduling Tasks\n",
    "Imagine you have three tasks to complete during the day: reply to emails, prepare a presentation, and attend a meeting. The order in which you do these tasks can impact your productivity.\n",
    "\n",
    "Tasks: Reply to emails, prepare a presentation, attend a meeting.\n"
   ]
  },
  {
   "cell_type": "code",
   "execution_count": 48,
   "metadata": {
    "scrolled": true
   },
   "outputs": [
    {
     "name": "stdout",
     "output_type": "stream",
     "text": [
      "6\n",
      "[('emails', 'presentation', 'meeting'), ('emails', 'meeting', 'presentation'), ('presentation', 'emails', 'meeting'), ('presentation', 'meeting', 'emails'), ('meeting', 'emails', 'presentation'), ('meeting', 'presentation', 'emails')]\n"
     ]
    }
   ],
   "source": [
    "from itertools import permutations\n",
    "\n",
    "items = [\"emails\", \"presentation\", \"meeting\"]\n",
    "perm = list(permutations(items))\n",
    "print(len(perm))\n",
    "print(perm)"
   ]
  },
  {
   "cell_type": "markdown",
   "metadata": {},
   "source": [
    "# Real-Life Context:\n",
    "\n",
    "**Productivity:** The order in which you perform tasks can impact your efficiency. For example, doing the most mentally demanding task first might leave you more energy for less demanding tasks later.\n",
    "\n",
    "**Time Management:** Scheduling tasks in the right order can ensure you meet deadlines and have time for everything.\n"
   ]
  },
  {
   "cell_type": "code",
   "execution_count": null,
   "metadata": {},
   "outputs": [],
   "source": []
  },
  {
   "cell_type": "markdown",
   "metadata": {},
   "source": [
    "# Planning a Trip\n",
    "Imagine you want to visit three cities during your vacation: Paris, Rome, and Barcelona. The order in which you visit these cities can change your experience and logistics.\n",
    "\n",
    "- Cities: Paris, Rome, Barcelona.\n"
   ]
  },
  {
   "cell_type": "code",
   "execution_count": 50,
   "metadata": {},
   "outputs": [
    {
     "name": "stdout",
     "output_type": "stream",
     "text": [
      "6\n",
      "[('Paris', 'Rome', 'Barcelona'), ('Paris', 'Barcelona', 'Rome'), ('Rome', 'Paris', 'Barcelona'), ('Rome', 'Barcelona', 'Paris'), ('Barcelona', 'Paris', 'Rome'), ('Barcelona', 'Rome', 'Paris')]\n"
     ]
    }
   ],
   "source": [
    "from itertools import permutations\n",
    "\n",
    "items = [\"Paris\", \"Rome\", \"Barcelona\"]\n",
    "perm = list(permutations(items))\n",
    "print(len(perm))\n",
    "print(perm)"
   ]
  },
  {
   "cell_type": "code",
   "execution_count": 52,
   "metadata": {},
   "outputs": [
    {
     "name": "stdout",
     "output_type": "stream",
     "text": [
      "24\n",
      "[('Paris', 'Rome', 'Barcelona', 'London'), ('Paris', 'Rome', 'London', 'Barcelona'), ('Paris', 'Barcelona', 'Rome', 'London'), ('Paris', 'Barcelona', 'London', 'Rome'), ('Paris', 'London', 'Rome', 'Barcelona'), ('Paris', 'London', 'Barcelona', 'Rome'), ('Rome', 'Paris', 'Barcelona', 'London'), ('Rome', 'Paris', 'London', 'Barcelona'), ('Rome', 'Barcelona', 'Paris', 'London'), ('Rome', 'Barcelona', 'London', 'Paris'), ('Rome', 'London', 'Paris', 'Barcelona'), ('Rome', 'London', 'Barcelona', 'Paris'), ('Barcelona', 'Paris', 'Rome', 'London'), ('Barcelona', 'Paris', 'London', 'Rome'), ('Barcelona', 'Rome', 'Paris', 'London'), ('Barcelona', 'Rome', 'London', 'Paris'), ('Barcelona', 'London', 'Paris', 'Rome'), ('Barcelona', 'London', 'Rome', 'Paris'), ('London', 'Paris', 'Rome', 'Barcelona'), ('London', 'Paris', 'Barcelona', 'Rome'), ('London', 'Rome', 'Paris', 'Barcelona'), ('London', 'Rome', 'Barcelona', 'Paris'), ('London', 'Barcelona', 'Paris', 'Rome'), ('London', 'Barcelona', 'Rome', 'Paris')]\n"
     ]
    }
   ],
   "source": [
    "from itertools import permutations\n",
    "\n",
    "items = [\"Paris\", \"Rome\", \"Barcelona\", \"London\"]\n",
    "perm = list(permutations(items))\n",
    "print(len(perm))\n",
    "print(perm)"
   ]
  },
  {
   "cell_type": "markdown",
   "metadata": {},
   "source": [
    "### Real-Life Context:\n",
    "\n",
    "**Travel Costs:** The order of cities can affect flight or train prices.\n",
    "Logistics: The order might be influenced by availability of accommodations or events in each city.\n",
    "**Experience:** Starting in a more relaxed city might set the tone for your trip differently than starting in a busy one."
   ]
  },
  {
   "cell_type": "code",
   "execution_count": null,
   "metadata": {},
   "outputs": [],
   "source": []
  },
  {
   "cell_type": "code",
   "execution_count": null,
   "metadata": {},
   "outputs": [],
   "source": []
  },
  {
   "cell_type": "markdown",
   "metadata": {},
   "source": [
    "### 2. Combination\n",
    "A **combination** Combinations are about selecting items from a group where the order does not matter. In everyday life, combinations are applicable in situations where you need to choose a subset of items or options without worrying about the sequence in which they're chosen.\n",
    "\n",
    "**Formula:** For n distinct objects, the number of combinations of r objects is given by:\n",
    "$[ C(n, r) = \\frac{n!}{r!(n-r)!} ]$\n",
    "\n",
    "**Relevance in Data Science:**\n",
    "Combinations are useful in scenarios where the selection order doesn't matter, such as in feature combinations, sampling, and statistical testing.\n"
   ]
  },
  {
   "cell_type": "code",
   "execution_count": null,
   "metadata": {},
   "outputs": [],
   "source": []
  },
  {
   "cell_type": "markdown",
   "metadata": {},
   "source": [
    "# Forming a Team\n",
    "Imagine you're organizing a project and need to choose 3 people from a group of 5 (say, Alice, Bob, Charlie, Dave, and Eva).\n",
    "\n",
    "**People: Alice, Bob, Charlie, Dave, Eva.**"
   ]
  },
  {
   "cell_type": "code",
   "execution_count": 53,
   "metadata": {},
   "outputs": [
    {
     "name": "stdout",
     "output_type": "stream",
     "text": [
      "[('Alice', 'Bob', 'Charlie'), ('Alice', 'Bob', 'Dave'), ('Alice', 'Bob', 'Eva'), ('Alice', 'Charlie', 'Dave'), ('Alice', 'Charlie', 'Eva'), ('Alice', 'Dave', 'Eva'), ('Bob', 'Charlie', 'Dave'), ('Bob', 'Charlie', 'Eva'), ('Bob', 'Dave', 'Eva'), ('Charlie', 'Dave', 'Eva')]\n"
     ]
    }
   ],
   "source": [
    "from itertools import combinations\n",
    "\n",
    "items = [\"Alice\", \"Bob\", \"Charlie\", \"Dave\", \"Eva\"]\n",
    "comb = list(combinations(items, 3))\n",
    "print(comb)"
   ]
  },
  {
   "cell_type": "markdown",
   "metadata": {},
   "source": [
    "## Real-Life Context:\n",
    "\n",
    "**Team Building:** When forming a team for a project, what matters is who is on the team, not the order in which they were chosen.\n",
    "\n",
    "**Resource Allocation:** Choosing team members based on skills or availability without worrying about the sequence."
   ]
  },
  {
   "cell_type": "code",
   "execution_count": null,
   "metadata": {},
   "outputs": [],
   "source": []
  },
  {
   "cell_type": "code",
   "execution_count": null,
   "metadata": {},
   "outputs": [],
   "source": []
  },
  {
   "cell_type": "markdown",
   "metadata": {},
   "source": [
    "### 4. Central Limit Theorem (CLT)\n",
    "The **Central Limit Theorem** states that the distribution of the sample mean approximates a normal distribution as the sample size becomes large, regardless of the population's distribution, provided the samples are independent and identically distributed (i.i.d).\n",
    "\n",
    "**Relevance in Data Science:**\n",
    "CLT justifies the use of normal distribution in statistical inference and hypothesis testing, even when the data does not follow a normal distribution.\n"
   ]
  },
  {
   "cell_type": "code",
   "execution_count": 55,
   "metadata": {},
   "outputs": [
    {
     "data": {
      "image/png": "[encoded data removed]",
      "text/plain": [
       "<Figure size 640x480 with 1 Axes>"
      ]
     },
     "metadata": {},
     "output_type": "display_data"
    }
   ],
   "source": [
    "import numpy as np\n",
    "import matplotlib.pyplot as plt\n",
    "\n",
    "# Simulate sample means from a uniform distribution\n",
    "sample_means = [np.mean(np.random.uniform(0, 1, 1000)) for _ in range(10000)]\n",
    "\n",
    "plt.hist(sample_means, bins=50, density=True)\n",
    "plt.title('Central Limit Theorem')\n",
    "plt.show()"
   ]
  },
  {
   "cell_type": "code",
   "execution_count": 57,
   "metadata": {},
   "outputs": [
    {
     "data": {
      "text/plain": [
       "<AxesSubplot:ylabel='Count'>"
      ]
     },
     "execution_count": 57,
     "metadata": {},
     "output_type": "execute_result"
    },
    {
     "data": {
      "image/png": "[encoded data removed]",
      "text/plain": [
       "<Figure size 640x480 with 1 Axes>"
      ]
     },
     "metadata": {},
     "output_type": "display_data"
    }
   ],
   "source": [
    "import pandas as pd\n",
    "left_skewed_data = np.random.beta(a=5, b=1, size=1000)\n",
    "df=pd.DataFrame(left_skewed_data)\n",
    "sns.histplot(df)"
   ]
  },
  {
   "cell_type": "code",
   "execution_count": 63,
   "metadata": {
    "scrolled": true
   },
   "outputs": [],
   "source": [
    "l1 = []\n",
    "time = 0\n",
    "while time <= 1000:\n",
    "    mean=df.sample(10).mean().values\n",
    "    l1.append(mean)\n",
    "    time+=1"
   ]
  },
  {
   "cell_type": "code",
   "execution_count": 64,
   "metadata": {},
   "outputs": [
    {
     "data": {
      "text/plain": [
       "<AxesSubplot:ylabel='Count'>"
      ]
     },
     "execution_count": 64,
     "metadata": {},
     "output_type": "execute_result"
    },
    {
     "data": {
      "image/png": "[encoded data removed]",
      "text/plain": [
       "<Figure size 640x480 with 1 Axes>"
      ]
     },
     "metadata": {},
     "output_type": "display_data"
    }
   ],
   "source": [
    "sns.histplot(pd.DataFrame(l1), kde=True)"
   ]
  },
  {
   "cell_type": "code",
   "execution_count": null,
   "metadata": {},
   "outputs": [],
   "source": []
  },
  {
   "cell_type": "code",
   "execution_count": null,
   "metadata": {},
   "outputs": [],
   "source": []
  },
  {
   "cell_type": "code",
   "execution_count": null,
   "metadata": {},
   "outputs": [],
   "source": []
  },
  {
   "cell_type": "markdown",
   "metadata": {},
   "source": [
    "### 5. Left Skewed and Right Skewed Distribution\n",
    "- **Left Skewed (Negative Skewed) Distribution:** The tail is longer on the left side. The mean is less than the median, which is less than the mode.\n",
    "\n",
    "A left-skewed distribution has a tail on the left side, with most data points clustered on the right. \n",
    "\n",
    "**Scenario: Bedtime of Adults**\n",
    "\n",
    "Imagine you track the bedtime of a group of adults. Most people go to bed between 10 PM and 12 AM, but a few go to bed much earlier, say between 7 PM and 9 PM.\n",
    "\n",
    "- **Distribution Shape:** Since the majority go to bed later (closer to midnight) with a few going to bed much earlier, the distribution is left-skewed. The tail on the left represents the few early sleepers.\n",
    "- **Real-Life Context:** This skewness might reflect how most people have a typical bedtime but a small portion have to sleep much earlier due to work schedules, health reasons, or personal preferences.\n",
    "\n",
    "\n"
   ]
  },
  {
   "cell_type": "code",
   "execution_count": 41,
   "metadata": {},
   "outputs": [
    {
     "data": {
      "image/png": "[encoded data removed]",
      "text/plain": [
       "<Figure size 640x480 with 1 Axes>"
      ]
     },
     "metadata": {},
     "output_type": "display_data"
    }
   ],
   "source": [
    "import numpy as np\n",
    "import matplotlib.pyplot as plt\n",
    "import seaborn as sns\n",
    "\n",
    "# Left Skewed\n",
    "left_skewed_data = np.random.beta(a=5, b=1, size=1000)\n",
    "sns.histplot(left_skewed_data, kde=True)\n",
    "plt.title('Left Skewed Distribution')\n",
    "plt.show()"
   ]
  },
  {
   "cell_type": "code",
   "execution_count": null,
   "metadata": {},
   "outputs": [],
   "source": []
  },
  {
   "cell_type": "markdown",
   "metadata": {},
   "source": [
    "#### **Right-Skewed Distribution (Positively Skewed)**\n",
    "\n",
    "- **Right Skewed (Positive Skewed) Distribution:** The tail is longer on the right side. The mean is greater than the median, which is greater than the mode.\n",
    "\n",
    "A right-skewed distribution has a tail on the right side, with most data points clustered on the left.\n",
    "\n",
    "**Scenario: Daily Screen Time**\n",
    "\n",
    "Consider the daily screen time of teenagers. Most teenagers might spend 2-4 hours on screens, but some might spend much more time, say 8-10 hours.\n",
    "\n",
    "- **Distribution Shape:** Since most teenagers spend around 2-4 hours, with a few outliers spending much more, the distribution is right-skewed. The tail on the right represents the few who have very high screen time.\n",
    "- **Real-Life Context:** This skewness reflects that while most teenagers have moderate screen time, a small number may spend an excessive amount of time on screens due to gaming, social media, or other activities.\n",
    "\n",
    "**Relevance in Data Science:**\n",
    "Understanding skewness helps in identifying data transformation needs, improving model accuracy, and interpreting data distribution.\n"
   ]
  },
  {
   "cell_type": "code",
   "execution_count": 42,
   "metadata": {},
   "outputs": [
    {
     "data": {
      "image/png": "[encoded data removed]",
      "text/plain": [
       "<Figure size 640x480 with 1 Axes>"
      ]
     },
     "metadata": {},
     "output_type": "display_data"
    }
   ],
   "source": [
    "# Right Skewed\n",
    "right_skewed_data = np.random.beta(a=1, b=5, size=1000)\n",
    "sns.histplot(right_skewed_data, kde=True)\n",
    "plt.title('Right Skewed Distribution')\n",
    "plt.show()"
   ]
  },
  {
   "cell_type": "code",
   "execution_count": null,
   "metadata": {},
   "outputs": [],
   "source": []
  },
  {
   "cell_type": "markdown",
   "metadata": {},
   "source": [
    "Let's explore these statistical concepts—left-skewed and right-skewed distributions, p-value, and confidence intervals—using relatable, day-to-day activities.\n",
    "\n",
    "### 1. **Left-Skewed and Right-Skewed Distributions**\n",
    "\n",
    "#### **Left-Skewed Distribution (Negatively Skewed)**\n",
    "A left-skewed distribution has a tail on the left side, with most data points clustered on the right. \n",
    "\n",
    "**Scenario: Bedtime of Adults**\n",
    "\n",
    "Imagine you track the bedtime of a group of adults. Most people go to bed between 10 PM and 12 AM, but a few go to bed much earlier, say between 7 PM and 9 PM.\n",
    "\n",
    "- **Distribution Shape:** Since the majority go to bed later (closer to midnight) with a few going to bed much earlier, the distribution is left-skewed. The tail on the left represents the few early sleepers.\n",
    "- **Real-Life Context:** This skewness might reflect how most people have a typical bedtime but a small portion have to sleep much earlier due to work schedules, health reasons, or personal preferences.\n",
    "\n",
    "#### **Right-Skewed Distribution (Positively Skewed)**\n",
    "A right-skewed distribution has a tail on the right side, with most data points clustered on the left.\n",
    "\n",
    "**Scenario: Daily Screen Time**\n",
    "\n",
    "Consider the daily screen time of teenagers. Most teenagers might spend 2-4 hours on screens, but some might spend much more time, say 8-10 hours.\n",
    "\n",
    "- **Distribution Shape:** Since most teenagers spend around 2-4 hours, with a few outliers spending much more, the distribution is right-skewed. The tail on the right represents the few who have very high screen time.\n",
    "- **Real-Life Context:** This skewness reflects that while most teenagers have moderate screen time, a small number may spend an excessive amount of time on screens due to gaming, social media, or other activities.\n",
    "\n",
    "\n",
    "\n",
    "\n",
    "\n"
   ]
  },
  {
   "cell_type": "code",
   "execution_count": null,
   "metadata": {},
   "outputs": [],
   "source": []
  },
  {
   "cell_type": "code",
   "execution_count": null,
   "metadata": {},
   "outputs": [],
   "source": []
  },
  {
   "cell_type": "markdown",
   "metadata": {},
   "source": [
    "### 6. Covariance\n",
    "**Covariance** measures the direction of the linear relationship between two variables. Positive covariance indicates that the variables tend to increase together, while negative covariance indicates that one variable increases as the other decreases.\n",
    "\n",
    "**Relevance in Data Science:**\n",
    "Covariance is a foundational concept in multivariate data analysis and is used to understand relationships between variables, such as in feature selection and portfolio theory.\n"
   ]
  },
  {
   "cell_type": "code",
   "execution_count": 17,
   "metadata": {},
   "outputs": [
    {
     "name": "stdout",
     "output_type": "stream",
     "text": [
      "[[ 2.5  5. ]\n",
      " [ 5.  10. ]]\n"
     ]
    }
   ],
   "source": [
    "import numpy as np\n",
    "\n",
    "x = [1, 2, 3, 4, 5]\n",
    "y = [2, 4, 6, 8, 10]\n",
    "\n",
    "cov_matrix = np.cov(x, y)\n",
    "print(cov_matrix)"
   ]
  },
  {
   "cell_type": "code",
   "execution_count": null,
   "metadata": {},
   "outputs": [],
   "source": []
  },
  {
   "cell_type": "markdown",
   "metadata": {},
   "source": [
    "### 7. Pearson and Spearman Rank Correlation\n",
    "- **Pearson Correlation:** Measures the linear relationship between two continuous variables. It ranges from -1 to 1.\n",
    "- **Spearman Rank Correlation:** Measures the monotonic relationship between two variables using rank-ordering. It is less sensitive to outliers than Pearson.\n",
    "\n",
    "**Relevance in Data Science:**\n",
    "Correlation analysis helps in identifying relationships between variables, which is crucial in feature selection, data exploration, and building predictive models.\n"
   ]
  },
  {
   "cell_type": "code",
   "execution_count": 66,
   "metadata": {},
   "outputs": [
    {
     "name": "stdout",
     "output_type": "stream",
     "text": [
      "Pearson Correlation: 1.0\n",
      "Spearman Correlation: 0.9999999999999999\n"
     ]
    }
   ],
   "source": [
    "from scipy.stats import pearsonr, spearmanr\n",
    "\n",
    "x = [1, 2, 3, 4, 5]\n",
    "y = [2, 4, 6, 8, 10]\n",
    "\n",
    "pearson_corr, ola = pearsonr(x, y)\n",
    "spearman_corr, ola2 = spearmanr(x, y)\n",
    "\n",
    "print(f\"Pearson Correlation: {pearson_corr}\")\n",
    "print(f\"Spearman Correlation: {spearman_corr}\")"
   ]
  },
  {
   "cell_type": "code",
   "execution_count": 67,
   "metadata": {},
   "outputs": [
    {
     "data": {
      "text/plain": [
       "1.4042654220543672e-24"
      ]
     },
     "execution_count": 67,
     "metadata": {},
     "output_type": "execute_result"
    }
   ],
   "source": [
    "ola2"
   ]
  },
  {
   "cell_type": "markdown",
   "metadata": {},
   "source": [
    "### 8. P-Value\n",
    "A **P-value** is the probability of obtaining test results at least as extreme as the observed results, under the null hypothesis. is used in hypothesis testing to measure the evidence against a null hypothesis. It helps determine whether the observed data is statistically significant.\n",
    "\n",
    "\n",
    "\n",
    "**Scenario: Testing a New Morning Routine**\n",
    "\n",
    "Suppose you believe that waking up 30 minutes earlier than usual will make you more productive. You test this over a month by measuring your daily productivity score (on a scale of 1-10).\n",
    "\n",
    "- **Null Hypothesis (H₀):** Waking up earlier does not affect your productivity.\n",
    "- **Alternative Hypothesis (H₁):** Waking up earlier increases your productivity.\n",
    "\n",
    "After collecting data, you calculate a p-value to see if the difference in productivity scores before and after the new routine is significant.\n",
    "\n",
    "- **P-Value Interpretation:**\n",
    "  - **Low p-value (e.g., < 0.05):** There’s strong evidence against the null hypothesis, so you might conclude that waking up earlier does improve productivity.\n",
    "  - **High p-value (e.g., > 0.05):** There’s not enough evidence to reject the null hypothesis, so you might conclude that the change in productivity could be due to chance.\n",
    "\n",
    "**Real-Life Context:** Understanding the p-value helps you make decisions based on whether changes you implement in your life (like a new routine) have a meaningful impact.\n",
    "\n",
    "**Relevance in Data Science:**\n",
    "P-values are used in hypothesis testing to decide whether to reject the null hypothesis, which is fundamental in statistical inference and decision-making.\n"
   ]
  },
  {
   "cell_type": "code",
   "execution_count": 68,
   "metadata": {},
   "outputs": [
    {
     "name": "stdout",
     "output_type": "stream",
     "text": [
      "P-value: 0.011826443861871904\n"
     ]
    }
   ],
   "source": [
    "from scipy import stats\n",
    "\n",
    "data = [9, 10, 5, 7, 7, 6, 6, 7, 8, 9, 10, 3,7,3,4,3,1,8, 7, 2, 7, 9, 5 , 4, 6, 4, 9, 4, 10, 7]\n",
    "t_stat, p_val = stats.ttest_1samp(data, popmean=5)\n",
    "print(f\"P-value: {p_val}\")"
   ]
  },
  {
   "cell_type": "code",
   "execution_count": null,
   "metadata": {},
   "outputs": [],
   "source": []
  },
  {
   "cell_type": "markdown",
   "metadata": {},
   "source": [
    "### 9. Confidence Intervals\n",
    "**Confidence Intervals (CIs)** provide a range of values within which a population parameter is expected to lie, with a certain level of confidence (e.g., 95%).\n",
    "\n",
    "\n",
    "### 3. **Confidence Intervals**\n",
    "\n",
    "A confidence interval provides a range of values that is likely to contain the true population parameter (like a mean), with a certain level of confidence (e.g., 95%).\n",
    "\n",
    "**Scenario: Estimating Daily Coffee Consumption**\n",
    "\n",
    "Suppose you want to estimate how much coffee you drink daily, on average. Over 30 days, you record your daily coffee intake and calculate the average and a 95% confidence interval for this mean.\n",
    "\n",
    "- **Result:** Your average daily coffee intake is 2.5 cups, with a 95% confidence interval of [2.2, 2.8] cups.\n",
    "- **Interpretation:** You are 95% confident that your true average daily coffee consumption lies between 2.2 and 2.8 cups.\n",
    "\n",
    "**Real-Life Context:** Confidence intervals are useful when you want to understand the range within which a certain behavior or outcome (like coffee consumption) likely falls, considering natural variability.\n",
    "\n",
    "**Relevance in Data Science:**\n",
    "CIs offer a measure of uncertainty around estimates, helping in decision-making and risk assessment.\n"
   ]
  },
  {
   "cell_type": "code",
   "execution_count": 20,
   "metadata": {},
   "outputs": [
    {
     "name": "stdout",
     "output_type": "stream",
     "text": [
      "95% Confidence Interval: (3.3341494103866087, 7.665850589613392)\n"
     ]
    }
   ],
   "source": [
    "import numpy as np\n",
    "import scipy.stats as stats\n",
    "\n",
    "data = [1, 2, 3, 4, 5, 6, 7, 8, 9, 10]\n",
    "mean = np.mean(data)\n",
    "sem = stats.sem(data)  # Standard Error of Mean\n",
    "ci = stats.t.interval(0.95, len(data)-1, loc=mean, scale=sem)\n",
    "\n",
    "print(f\"95% Confidence Interval: {ci}\")"
   ]
  },
  {
   "cell_type": "code",
   "execution_count": null,
   "metadata": {},
   "outputs": [],
   "source": []
  },
  {
   "cell_type": "markdown",
   "metadata": {},
   "source": [
    "### 10. How to Perform Hypothesis Testing\n",
    "Hypothesis testing involves:\n",
    "1. **Formulating Hypotheses:** Null (H₀) and alternative (H₁) hypotheses.\n",
    "2. **Choosing a Significance Level (α):** Commonly set at 0.05.\n",
    "3. **Calculating the Test Statistic:** Using z, t, or other statistics.\n",
    "4. **Determining the P-value or Critical Value:** To compare with α.\n",
    "5. **Making a Decision:** Reject H₀ if the P-value is less than α.\n",
    "\n",
    "**Relevance in Data Science:**\n",
    "Hypothesis testing is fundamental for validating models, comparing groups, and making data-driven decisions.\n"
   ]
  },
  {
   "cell_type": "code",
   "execution_count": 21,
   "metadata": {},
   "outputs": [
    {
     "name": "stdout",
     "output_type": "stream",
     "text": [
      "Fail to reject the null hypothesis\n"
     ]
    }
   ],
   "source": [
    "import numpy as np\n",
    "import scipy.stats as stats\n",
    "\n",
    "data = [1, 2, 3, 4, 5, 6, 7, 8, 9, 10]\n",
    "t_stat, p_val = stats.ttest_1samp(data, popmean=5)\n",
    "\n",
    "alpha = 0.05\n",
    "if p_val < alpha:\n",
    "    print(\"Reject the null hypothesis\")\n",
    "else:\n",
    "    print(\"Fail to reject the null hypothesis\")\n"
   ]
  },
  {
   "cell_type": "code",
   "execution_count": null,
   "metadata": {},
   "outputs": [],
   "source": []
  },
  {
   "cell_type": "markdown",
   "metadata": {},
   "source": [
    "\n",
    "### 11. Hypothesis Testing Part 2 & 3\n",
    "These typically cover:\n",
    "- **Part 2:** More complex tests like ANOVA, chi-square tests, and understanding Type I and Type II errors.\n",
    "- **Part 3:** Non-parametric tests, multiple testing corrections, and power analysis.\n",
    "\n",
    "**Relevance in Data Science:**\n",
    "Advanced hypothesis testing techniques are essential for more sophisticated data analyses, ensuring robust and reliable conclusions.\n",
    "\n",
    "### 12. Finalizing Statistics\n",
    "This stage involves consolidating findings, ensuring statistical assumptions are met, interpreting results in the context of the problem, and preparing data for reporting or further analysis.\n",
    "\n",
    "**Relevance in Data Science:**\n",
    "It ensures the integrity and accuracy of data-driven insights, which is crucial for business decisions, academic research, and scientific discovery.\n",
    "\n",
    "These concepts form the backbone of statistical analysis in data science, enabling professionals to make informed, data-driven decisions, understand complex data structures, and validate hypotheses and models."
   ]
  },
  {
   "cell_type": "code",
   "execution_count": null,
   "metadata": {},
   "outputs": [],
   "source": []
  },
  {
   "cell_type": "code",
   "execution_count": null,
   "metadata": {},
   "outputs": [],
   "source": []
  }
 ],
 "metadata": {
  "kernelspec": {
   "display_name": "Python 3 (ipykernel)",
   "language": "python",
   "name": "python3"
  },
  "language_info": {
   "codemirror_mode": {
    "name": "ipython",
    "version": 3
   },
   "file_extension": ".py",
   "mimetype": "text/x-python",
   "name": "python",
   "nbconvert_exporter": "python",
   "pygments_lexer": "ipython3",
   "version": "3.9.13"
  }
 },
 "nbformat": 4,
 "nbformat_minor": 4
}
