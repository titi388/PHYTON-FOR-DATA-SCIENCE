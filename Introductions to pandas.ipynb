{
 "cells": [
  {
   "cell_type": "markdown",
   "metadata": {},
   "source": [
    "# Python Pandas Introduction\n",
    "Pandas is defined as an open-source library that provides high-performance data manipulation in Python. \n",
    "\n",
    "Data analysis requires lots of processing, such as restructuring, cleaning or merging, etc. There are different tools are available for fast data processing, such as Numpy, Scipy, Cython, and Panda. But we prefer Pandas because working with Pandas is fast, simple and more expressive than other tools.. It can perform five significant steps required for processing and analysis of data irrespective of the origin of the data, i.e., load, manipulate, prepare, model, and analyze.\n",
    "\n",
    "\n",
    "Pandas is built on top of the Numpy package, means Numpy is required for operating the Pandas.\n",
    "\n",
    "\n",
    "# Python Pandas Data Structure\n",
    "The Pandas provides two data structures for processing the data, i.e., Series and DataFrame, which are discussed below:\n",
    "\n",
    "# 1 Python Pandas Series\n",
    "It is defined as a one-dimensional array that is capable of storing various data types. The row labels of series are called the index. We can easily convert the list, tuple, and dictionary into series using \"series' method. A Series cannot contain multiple columns. It has one parameter:"
   ]
  },
  {
   "cell_type": "code",
   "execution_count": 1,
   "metadata": {},
   "outputs": [],
   "source": [
    "#pip install pandas"
   ]
  },
  {
   "cell_type": "code",
   "execution_count": 5,
   "metadata": {},
   "outputs": [
    {
     "data": {
      "text/plain": [
       "Series([], dtype: object)"
      ]
     },
     "execution_count": 5,
     "metadata": {},
     "output_type": "execute_result"
    }
   ],
   "source": [
    "import pandas as pd\n",
    "\n",
    "pd.Series(    dtype=\"object\" )"
   ]
  },
  {
   "cell_type": "markdown",
   "metadata": {},
   "source": [
    "# Create a Series from a  list object"
   ]
  },
  {
   "cell_type": "code",
   "execution_count": 6,
   "metadata": {},
   "outputs": [
    {
     "data": {
      "text/plain": [
       "array(['P', 'a', 'n', 'd', 'a', 's'], dtype='<U1')"
      ]
     },
     "execution_count": 6,
     "metadata": {},
     "output_type": "execute_result"
    }
   ],
   "source": [
    "import pandas as pd  \n",
    "import numpy as np  \n",
    "info = np.array(    ['P','a','n','d','a','s']    )  \n",
    "info"
   ]
  },
  {
   "cell_type": "code",
   "execution_count": 7,
   "metadata": {},
   "outputs": [
    {
     "name": "stdout",
     "output_type": "stream",
     "text": [
      "0    P\n",
      "1    a\n",
      "2    n\n",
      "3    d\n",
      "4    a\n",
      "5    s\n",
      "dtype: object\n"
     ]
    }
   ],
   "source": [
    "a = pd.Series(info)  \n",
    "print(a)  "
   ]
  },
  {
   "cell_type": "code",
   "execution_count": null,
   "metadata": {},
   "outputs": [],
   "source": []
  },
  {
   "cell_type": "code",
   "execution_count": 8,
   "metadata": {},
   "outputs": [
    {
     "name": "stdout",
     "output_type": "stream",
     "text": [
      "one      P\n",
      "two      a\n",
      "three    n\n",
      "four     h\n",
      "dtype: object\n"
     ]
    }
   ],
   "source": [
    "# creating series from a list with the following index  [\"one\", \"two\", \"three\", \"four\"]\n",
    "\n",
    "list1 =  ['P','a','n', 'h']\n",
    "series=pd.Series( list1 , index = [\"one\", \"two\", \"three\", \"four\"])\n",
    "print(series)"
   ]
  },
  {
   "cell_type": "code",
   "execution_count": null,
   "metadata": {},
   "outputs": [],
   "source": []
  },
  {
   "cell_type": "code",
   "execution_count": 9,
   "metadata": {},
   "outputs": [
    {
     "name": "stdout",
     "output_type": "stream",
     "text": [
      "x    0.0\n",
      "y    1.0\n",
      "z    2.0\n",
      "dtype: float64\n"
     ]
    }
   ],
   "source": [
    "#Create a Series from dict: when you create series from dictionary, the key become the index of the series  \n",
    "import pandas as pd  \n",
    "import numpy as np  \n",
    "\n",
    "info = {'x' : 0, 'y' : 1, 'z' : 2}  \n",
    "\n",
    "\n",
    "a = pd.Series( info, dtype=\"float\")  \n",
    "print (a)  \n"
   ]
  },
  {
   "cell_type": "code",
   "execution_count": 10,
   "metadata": {},
   "outputs": [
    {
     "name": "stdout",
     "output_type": "stream",
     "text": [
      "a    1\n",
      "b    2\n",
      "c    3\n",
      "dtype: int64\n"
     ]
    }
   ],
   "source": [
    "import pandas as pd  \n",
    "x = pd.Series([1,2,3],index = ['a','b','c'])  \n",
    "#retrieve the first element  \n",
    "print (x)  \n"
   ]
  },
  {
   "cell_type": "code",
   "execution_count": null,
   "metadata": {},
   "outputs": [],
   "source": []
  },
  {
   "cell_type": "code",
   "execution_count": null,
   "metadata": {},
   "outputs": [],
   "source": []
  },
  {
   "cell_type": "code",
   "execution_count": null,
   "metadata": {},
   "outputs": [],
   "source": []
  },
  {
   "cell_type": "code",
   "execution_count": 11,
   "metadata": {},
   "outputs": [
    {
     "data": {
      "text/plain": [
       "b    2\n",
       "c    3\n",
       "dtype: int64"
      ]
     },
     "execution_count": 11,
     "metadata": {},
     "output_type": "execute_result"
    }
   ],
   "source": [
    "# slice through the series above from second row to the last ros\n",
    "x[1:  ]"
   ]
  },
  {
   "cell_type": "code",
   "execution_count": 6,
   "metadata": {},
   "outputs": [
    {
     "data": {
      "text/plain": [
       "Index(['a', 'b', 'c'], dtype='object')"
      ]
     },
     "execution_count": 6,
     "metadata": {},
     "output_type": "execute_result"
    }
   ],
   "source": [
    "# to get access to the index of series\n",
    "x.index"
   ]
  },
  {
   "cell_type": "code",
   "execution_count": 12,
   "metadata": {},
   "outputs": [
    {
     "data": {
      "text/plain": [
       "array([1, 2, 3], dtype=int64)"
      ]
     },
     "execution_count": 12,
     "metadata": {},
     "output_type": "execute_result"
    }
   ],
   "source": [
    "# to get the values of the series\n",
    "x.values"
   ]
  },
  {
   "cell_type": "code",
   "execution_count": 8,
   "metadata": {},
   "outputs": [
    {
     "data": {
      "text/plain": [
       "(3,)"
      ]
     },
     "execution_count": 8,
     "metadata": {},
     "output_type": "execute_result"
    }
   ],
   "source": [
    "# to get dimension of a series\n",
    "x.shape"
   ]
  },
  {
   "cell_type": "markdown",
   "metadata": {},
   "source": [
    "# Pandas Series.map()\n",
    "The main task of map() is used to map the values from two series that have a common column."
   ]
  },
  {
   "cell_type": "code",
   "execution_count": 13,
   "metadata": {},
   "outputs": [
    {
     "name": "stdout",
     "output_type": "stream",
     "text": [
      "0    A\n",
      "1    A\n",
      "2    C\n",
      "3    E\n",
      "4    E\n",
      "5    B\n",
      "6    D\n",
      "7    D\n",
      "8    C\n",
      "9    F\n",
      "dtype: object\n"
     ]
    }
   ],
   "source": [
    "a = pd.Series([\"A\", \"A\", \"C\",  \"E\", \"E\", \"B\", \"D\", \"D\", \"C\", \"F\"]) \n",
    "print(a)"
   ]
  },
  {
   "cell_type": "code",
   "execution_count": null,
   "metadata": {},
   "outputs": [],
   "source": [
    "#"
   ]
  },
  {
   "cell_type": "code",
   "execution_count": null,
   "metadata": {},
   "outputs": [],
   "source": []
  },
  {
   "cell_type": "code",
   "execution_count": 15,
   "metadata": {},
   "outputs": [],
   "source": [
    "# convert the series of grade above the point the relatiionship below\n",
    "grade_to_point = {\"A\":5, \"B\":4, \"C\":3, \"D\":2,  \"E\": 1, \"F\":0 }"
   ]
  },
  {
   "cell_type": "code",
   "execution_count": 16,
   "metadata": {},
   "outputs": [],
   "source": [
    "grade_to_point = {\"A\":5, \"B\":4, \"C\":3, \"D\":2, \"E\":1, \"F\":0}"
   ]
  },
  {
   "cell_type": "code",
   "execution_count": null,
   "metadata": {},
   "outputs": [],
   "source": []
  },
  {
   "cell_type": "code",
   "execution_count": 17,
   "metadata": {},
   "outputs": [
    {
     "data": {
      "text/plain": [
       "0    5\n",
       "1    5\n",
       "2    3\n",
       "3    1\n",
       "4    1\n",
       "5    4\n",
       "6    2\n",
       "7    2\n",
       "8    3\n",
       "9    0\n",
       "dtype: int64"
      ]
     },
     "execution_count": 17,
     "metadata": {},
     "output_type": "execute_result"
    }
   ],
   "source": [
    "a.map(grade_to_point)"
   ]
  },
  {
   "cell_type": "code",
   "execution_count": null,
   "metadata": {},
   "outputs": [],
   "source": []
  },
  {
   "cell_type": "code",
   "execution_count": 18,
   "metadata": {},
   "outputs": [
    {
     "name": "stdout",
     "output_type": "stream",
     "text": [
      "0           male\n",
      "1           male\n",
      "2         female\n",
      "3         female\n",
      "4           male\n",
      "5         female\n",
      "6         female\n",
      "7    transgender\n",
      "dtype: object\n"
     ]
    }
   ],
   "source": [
    "x=pd.Series([\"male\", \"male\", \"female\", \"female\", \"male\", \"female\", \"female\", \"transgender\"])\n",
    "print(x)\n",
    "# change the values of series above using map , all female should be 0, all male should 1 \n",
    "# and transgender should be 2"
   ]
  },
  {
   "cell_type": "code",
   "execution_count": 19,
   "metadata": {},
   "outputs": [
    {
     "data": {
      "text/plain": [
       "0    1\n",
       "1    1\n",
       "2    0\n",
       "3    0\n",
       "4    1\n",
       "5    0\n",
       "6    0\n",
       "7    2\n",
       "dtype: int64"
      ]
     },
     "execution_count": 19,
     "metadata": {},
     "output_type": "execute_result"
    }
   ],
   "source": [
    "rel = {\"female\":0, \"male\":1, \"transgender\":2 }\n",
    "x.map(rel)"
   ]
  },
  {
   "cell_type": "code",
   "execution_count": 20,
   "metadata": {},
   "outputs": [
    {
     "data": {
      "text/plain": [
       "0    1.0\n",
       "1    1.0\n",
       "2    0.0\n",
       "3    0.0\n",
       "4    1.0\n",
       "5    0.0\n",
       "6    0.0\n",
       "7    NaN\n",
       "dtype: float64"
      ]
     },
     "execution_count": 20,
     "metadata": {},
     "output_type": "execute_result"
    }
   ],
   "source": [
    "rel = {\"female\":0, \"male\":1,}\n",
    "x.map(rel)"
   ]
  },
  {
   "cell_type": "code",
   "execution_count": 21,
   "metadata": {},
   "outputs": [
    {
     "data": {
      "text/plain": [
       "0              1\n",
       "1              1\n",
       "2              0\n",
       "3              0\n",
       "4              1\n",
       "5              0\n",
       "6              0\n",
       "7    transgender\n",
       "dtype: object"
      ]
     },
     "execution_count": 21,
     "metadata": {},
     "output_type": "execute_result"
    }
   ],
   "source": [
    "x.replace([\"male\", \"female\"], [1,0])"
   ]
  },
  {
   "cell_type": "code",
   "execution_count": null,
   "metadata": {},
   "outputs": [],
   "source": [
    "x.replace([\"male\", \"female\"], [1,0], [false])"
   ]
  },
  {
   "cell_type": "code",
   "execution_count": null,
   "metadata": {},
   "outputs": [],
   "source": []
  },
  {
   "cell_type": "code",
   "execution_count": null,
   "metadata": {},
   "outputs": [],
   "source": []
  },
  {
   "cell_type": "code",
   "execution_count": null,
   "metadata": {},
   "outputs": [],
   "source": []
  },
  {
   "cell_type": "markdown",
   "metadata": {},
   "source": [
    "# Pandas Series.value_counts()\n",
    "to count of number of records in a series"
   ]
  },
  {
   "cell_type": "code",
   "execution_count": 24,
   "metadata": {},
   "outputs": [
    {
     "data": {
      "text/plain": [
       "female         4\n",
       "male           3\n",
       "transgender    1\n",
       "dtype: int64"
      ]
     },
     "execution_count": 24,
     "metadata": {},
     "output_type": "execute_result"
    }
   ],
   "source": [
    "x.value_counts()"
   ]
  },
  {
   "cell_type": "code",
   "execution_count": 23,
   "metadata": {},
   "outputs": [
    {
     "data": {
      "text/plain": [
       "<AxesSubplot:>"
      ]
     },
     "execution_count": 23,
     "metadata": {},
     "output_type": "execute_result"
    },
    {
     "data": {
      "image/png": "[encoded data removed]",
      "text/plain": [
       "<Figure size 640x480 with 1 Axes>"
      ]
     },
     "metadata": {},
     "output_type": "display_data"
    }
   ],
   "source": [
    "x.value_counts().plot(kind=\"bar\")"
   ]
  },
  {
   "cell_type": "code",
   "execution_count": null,
   "metadata": {},
   "outputs": [],
   "source": []
  },
  {
   "cell_type": "markdown",
   "metadata": {},
   "source": [
    "# 2 Python Pandas DataFrame\n",
    "is a widely used data structure of pandas and works with a two-dimensional array with labeled axes (rows and columns). DataFrame is defined as a standard way to store data and has two different indexes, i.e., row index and column index. It consists of the following properties:\n",
    "The columns can be heterogeneous types like int, bool, and so on.\n",
    "\n",
    "It can be seen as a dictionary of Series structure where both the rows and columns are indexed. It is denoted as \"columns\" in case of columns and \"index\" in case of rows.\n"
   ]
  },
  {
   "cell_type": "code",
   "execution_count": 2,
   "metadata": {
    "scrolled": true
   },
   "outputs": [
    {
     "data": {
      "text/html": [
       "<div>\n",
       "<style scoped>\n",
       "    .dataframe tbody tr th:only-of-type {\n",
       "        vertical-align: middle;\n",
       "    }\n",
       "\n",
       "    .dataframe tbody tr th {\n",
       "        vertical-align: top;\n",
       "    }\n",
       "\n",
       "    .dataframe thead th {\n",
       "        text-align: right;\n",
       "    }\n",
       "</style>\n",
       "<table border=\"1\" class=\"dataframe\">\n",
       "  <thead>\n",
       "    <tr style=\"text-align: right;\">\n",
       "      <th></th>\n",
       "      <th>0</th>\n",
       "    </tr>\n",
       "  </thead>\n",
       "  <tbody>\n",
       "    <tr>\n",
       "      <th>0</th>\n",
       "      <td>Python</td>\n",
       "    </tr>\n",
       "    <tr>\n",
       "      <th>1</th>\n",
       "      <td>Pandas</td>\n",
       "    </tr>\n",
       "  </tbody>\n",
       "</table>\n",
       "</div>"
      ],
      "text/plain": [
       "        0\n",
       "0  Python\n",
       "1  Pandas"
      ]
     },
     "metadata": {},
     "output_type": "display_data"
    }
   ],
   "source": [
    "import pandas as pd  \n",
    "# a list of strings  \n",
    "x = ['Python', 'Pandas']  \n",
    "  \n",
    "# Calling DataFrame constructor on list  \n",
    "df = pd.DataFrame(x)  \n",
    "display(df)  \n"
   ]
  },
  {
   "cell_type": "code",
   "execution_count": 3,
   "metadata": {},
   "outputs": [
    {
     "data": {
      "text/html": [
       "<div>\n",
       "<style scoped>\n",
       "    .dataframe tbody tr th:only-of-type {\n",
       "        vertical-align: middle;\n",
       "    }\n",
       "\n",
       "    .dataframe tbody tr th {\n",
       "        vertical-align: top;\n",
       "    }\n",
       "\n",
       "    .dataframe thead th {\n",
       "        text-align: right;\n",
       "    }\n",
       "</style>\n",
       "<table border=\"1\" class=\"dataframe\">\n",
       "  <thead>\n",
       "    <tr style=\"text-align: right;\">\n",
       "      <th></th>\n",
       "      <th>information</th>\n",
       "    </tr>\n",
       "  </thead>\n",
       "  <tbody>\n",
       "    <tr>\n",
       "      <th>A</th>\n",
       "      <td>1</td>\n",
       "    </tr>\n",
       "    <tr>\n",
       "      <th>B</th>\n",
       "      <td>2</td>\n",
       "    </tr>\n",
       "    <tr>\n",
       "      <th>C</th>\n",
       "      <td>3</td>\n",
       "    </tr>\n",
       "    <tr>\n",
       "      <th>D</th>\n",
       "      <td>Four</td>\n",
       "    </tr>\n",
       "    <tr>\n",
       "      <th>E</th>\n",
       "      <td>Five</td>\n",
       "    </tr>\n",
       "    <tr>\n",
       "      <th>F</th>\n",
       "      <td>True</td>\n",
       "    </tr>\n",
       "  </tbody>\n",
       "</table>\n",
       "</div>"
      ],
      "text/plain": [
       "  information\n",
       "A           1\n",
       "B           2\n",
       "C           3\n",
       "D        Four\n",
       "E        Five\n",
       "F        True"
      ]
     },
     "execution_count": 3,
     "metadata": {},
     "output_type": "execute_result"
    }
   ],
   "source": [
    "# creation of Dataframe from list  below, column name should be \"information\", and index as follow\n",
    "#  \"A\", \"B\", \"C\", \"D\", \"E\", \"F\"\n",
    "\n",
    "list1 = [1,2,3,\"Four\", \"Five\", True, ]\n",
    "pd.DataFrame(list1,columns=[\"information\"], index=[\"A\", \"B\", \"C\", \"D\", \"E\", \"F\"])"
   ]
  },
  {
   "cell_type": "code",
   "execution_count": 4,
   "metadata": {},
   "outputs": [
    {
     "data": {
      "text/html": [
       "<div>\n",
       "<style scoped>\n",
       "    .dataframe tbody tr th:only-of-type {\n",
       "        vertical-align: middle;\n",
       "    }\n",
       "\n",
       "    .dataframe tbody tr th {\n",
       "        vertical-align: top;\n",
       "    }\n",
       "\n",
       "    .dataframe thead th {\n",
       "        text-align: right;\n",
       "    }\n",
       "</style>\n",
       "<table border=\"1\" class=\"dataframe\">\n",
       "  <thead>\n",
       "    <tr style=\"text-align: right;\">\n",
       "      <th></th>\n",
       "      <th>location</th>\n",
       "      <th>T fare</th>\n",
       "    </tr>\n",
       "  </thead>\n",
       "  <tbody>\n",
       "    <tr>\n",
       "      <th>0</th>\n",
       "      <td>island</td>\n",
       "      <td>1000</td>\n",
       "    </tr>\n",
       "    <tr>\n",
       "      <th>1</th>\n",
       "      <td>ikeja</td>\n",
       "      <td>150</td>\n",
       "    </tr>\n",
       "    <tr>\n",
       "      <th>2</th>\n",
       "      <td>berger</td>\n",
       "      <td>50</td>\n",
       "    </tr>\n",
       "  </tbody>\n",
       "</table>\n",
       "</div>"
      ],
      "text/plain": [
       "  location  T fare\n",
       "0   island    1000\n",
       "1    ikeja     150\n",
       "2   berger      50"
      ]
     },
     "execution_count": 4,
     "metadata": {},
     "output_type": "execute_result"
    }
   ],
   "source": [
    "# create dataframe from the list below\n",
    "l1 = [\"island\", \"ikeja\", \"berger\"] # location\n",
    "l2 = [1000, 150, 50]  # T fare\n",
    "dic = {\"location\":l1, \"T fare\":l2}\n",
    "pd.DataFrame(dic)"
   ]
  },
  {
   "cell_type": "code",
   "execution_count": null,
   "metadata": {},
   "outputs": [],
   "source": []
  },
  {
   "cell_type": "code",
   "execution_count": 5,
   "metadata": {},
   "outputs": [
    {
     "ename": "NameError",
     "evalue": "name 'np' is not defined",
     "output_type": "error",
     "traceback": [
      "\u001b[1;31m---------------------------------------------------------------------------\u001b[0m",
      "\u001b[1;31mNameError\u001b[0m                                 Traceback (most recent call last)",
      "\u001b[1;32m~\\AppData\\Local\\Temp\\ipykernel_4328\\94782764.py\u001b[0m in \u001b[0;36m<module>\u001b[1;34m\u001b[0m\n\u001b[0;32m      5\u001b[0m              '2023-01-15', '2023-01-16', '2023-01-01'],\n\u001b[0;32m      6\u001b[0m \u001b[1;33m\u001b[0m\u001b[0m\n\u001b[1;32m----> 7\u001b[1;33m  \"Name\":[\"Jamiu\", \"Olaitan\", np.nan, \"Pelumi\", \"Kemi\", \"Jamiu\", \"Sanhco\", \"Richard\", \"James\",\"Sanhco\",  \"Lukmon\", np.nan, \n\u001b[0m\u001b[0;32m      8\u001b[0m          \"Idris\",\"Rashford\", np.nan, \"Olaitan\", \"Jamiu\"],\n\u001b[0;32m      9\u001b[0m \u001b[1;33m\u001b[0m\u001b[0m\n",
      "\u001b[1;31mNameError\u001b[0m: name 'np' is not defined"
     ]
    }
   ],
   "source": [
    "dict1 = {\n",
    "    \n",
    " \"Date\": ['2023-01-01', '2023-01-02', '2023-01-03', '2023-01-04', '2023-01-05', '2023-01-01', '2023-01-07', \n",
    "             '2023-01-08', '2023-01-09', '2023-01-10', '2023-01-11', '2023-01-12', '2023-01-13', '2023-01-14', \n",
    "             '2023-01-15', '2023-01-16', '2023-01-01'],\n",
    "    \n",
    " \"Name\":[\"Jamiu\", \"Olaitan\", np.nan, \"Pelumi\", \"Kemi\", \"Jamiu\", \"Sanhco\", \"Richard\", \"James\",\"Sanhco\",  \"Lukmon\", np.nan, \n",
    "         \"Idris\",\"Rashford\", np.nan, \"Olaitan\", \"Jamiu\"],\n",
    "    \n",
    " \"Age\": [25, 12, 50, 16, 19, 25, 20,30,np.nan, 34,56,78,34, np.nan,12, 34, 25],\n",
    "    \n",
    " \"State\":[\"Lagos\", \"Kano\", \"Niger\", np.nan, \"Oyo\",\"Lagos\", \"Port harcourt\", \"Delta\", np.nan,\"Kwara\", \"Adamawa\", \"Benue\", \n",
    "          \"Edo\", \"Jos\", \"Kano\", \"Delta\", \"Lagos\"],\n",
    "    \n",
    " \"Job\":  [\"Engineer\", \"Banker\", \"Lawyer\", np.nan,\"Doctor\", \"Engineer\",  \"Driver\", \"CEO\", \"Farmer\", \"Nurse\", \"Artist\",\n",
    "          \"Footballer\", \"Nurse\", np.nan, np.nan, \"Banker\", \"Engineer\"],\n",
    "    \n",
    "  \"Salary\":[39485.43,20000.3, 7363.00, 67362.00, 7362.73, 39485.43,np.nan, 83663.28, 98382.92, np.nan, np.nan,9448.34, \n",
    "            np.nan,8499.00, 20000.3, 3849, 39485.43],\n",
    "    \n",
    "        \"Review\": np.repeat(\"good\", 17)\n",
    "      }\n",
    "\n",
    "df=pd.DataFrame(dict1, index=list(\"abcdefghijklmnopq\"))\n",
    "df\n"
   ]
  },
  {
   "cell_type": "code",
   "execution_count": 32,
   "metadata": {},
   "outputs": [],
   "source": [
    "# read the dictionary above into dataframe using the following as index \"abcdefghijklmnopq\"\n"
   ]
  },
  {
   "cell_type": "code",
   "execution_count": null,
   "metadata": {},
   "outputs": [],
   "source": []
  },
  {
   "cell_type": "code",
   "execution_count": 34,
   "metadata": {},
   "outputs": [],
   "source": [
    "# export the dataframe above in excel format\n",
    "df.to_excel(\"whatname.xlsx\", index=False)"
   ]
  },
  {
   "cell_type": "code",
   "execution_count": 35,
   "metadata": {},
   "outputs": [
    {
     "data": {
      "text/html": [
       "<div>\n",
       "<style scoped>\n",
       "    .dataframe tbody tr th:only-of-type {\n",
       "        vertical-align: middle;\n",
       "    }\n",
       "\n",
       "    .dataframe tbody tr th {\n",
       "        vertical-align: top;\n",
       "    }\n",
       "\n",
       "    .dataframe thead th {\n",
       "        text-align: right;\n",
       "    }\n",
       "</style>\n",
       "<table border=\"1\" class=\"dataframe\">\n",
       "  <thead>\n",
       "    <tr style=\"text-align: right;\">\n",
       "      <th></th>\n",
       "      <th>Date</th>\n",
       "      <th>Name</th>\n",
       "      <th>Age</th>\n",
       "      <th>State</th>\n",
       "      <th>Job</th>\n",
       "      <th>Salary</th>\n",
       "      <th>Review</th>\n",
       "    </tr>\n",
       "  </thead>\n",
       "  <tbody>\n",
       "    <tr>\n",
       "      <th>a</th>\n",
       "      <td>2023-01-01</td>\n",
       "      <td>Jamiu</td>\n",
       "      <td>25.0</td>\n",
       "      <td>Lagos</td>\n",
       "      <td>Engineer</td>\n",
       "      <td>39485.43</td>\n",
       "      <td>good</td>\n",
       "    </tr>\n",
       "    <tr>\n",
       "      <th>b</th>\n",
       "      <td>2023-01-02</td>\n",
       "      <td>Olaitan</td>\n",
       "      <td>12.0</td>\n",
       "      <td>Kano</td>\n",
       "      <td>Banker</td>\n",
       "      <td>20000.30</td>\n",
       "      <td>good</td>\n",
       "    </tr>\n",
       "    <tr>\n",
       "      <th>c</th>\n",
       "      <td>2023-01-03</td>\n",
       "      <td>NaN</td>\n",
       "      <td>50.0</td>\n",
       "      <td>Niger</td>\n",
       "      <td>Lawyer</td>\n",
       "      <td>7363.00</td>\n",
       "      <td>good</td>\n",
       "    </tr>\n",
       "    <tr>\n",
       "      <th>d</th>\n",
       "      <td>2023-01-04</td>\n",
       "      <td>Pelumi</td>\n",
       "      <td>16.0</td>\n",
       "      <td>NaN</td>\n",
       "      <td>NaN</td>\n",
       "      <td>67362.00</td>\n",
       "      <td>good</td>\n",
       "    </tr>\n",
       "    <tr>\n",
       "      <th>e</th>\n",
       "      <td>2023-01-05</td>\n",
       "      <td>Kemi</td>\n",
       "      <td>19.0</td>\n",
       "      <td>Oyo</td>\n",
       "      <td>Doctor</td>\n",
       "      <td>7362.73</td>\n",
       "      <td>good</td>\n",
       "    </tr>\n",
       "    <tr>\n",
       "      <th>f</th>\n",
       "      <td>2023-01-01</td>\n",
       "      <td>Jamiu</td>\n",
       "      <td>25.0</td>\n",
       "      <td>Lagos</td>\n",
       "      <td>Engineer</td>\n",
       "      <td>39485.43</td>\n",
       "      <td>good</td>\n",
       "    </tr>\n",
       "    <tr>\n",
       "      <th>g</th>\n",
       "      <td>2023-01-07</td>\n",
       "      <td>Sanhco</td>\n",
       "      <td>20.0</td>\n",
       "      <td>Port harcourt</td>\n",
       "      <td>Driver</td>\n",
       "      <td>NaN</td>\n",
       "      <td>good</td>\n",
       "    </tr>\n",
       "    <tr>\n",
       "      <th>h</th>\n",
       "      <td>2023-01-08</td>\n",
       "      <td>Richard</td>\n",
       "      <td>30.0</td>\n",
       "      <td>Delta</td>\n",
       "      <td>CEO</td>\n",
       "      <td>83663.28</td>\n",
       "      <td>good</td>\n",
       "    </tr>\n",
       "    <tr>\n",
       "      <th>i</th>\n",
       "      <td>2023-01-09</td>\n",
       "      <td>James</td>\n",
       "      <td>NaN</td>\n",
       "      <td>NaN</td>\n",
       "      <td>Farmer</td>\n",
       "      <td>98382.92</td>\n",
       "      <td>good</td>\n",
       "    </tr>\n",
       "    <tr>\n",
       "      <th>j</th>\n",
       "      <td>2023-01-10</td>\n",
       "      <td>Sanhco</td>\n",
       "      <td>34.0</td>\n",
       "      <td>Kwara</td>\n",
       "      <td>Nurse</td>\n",
       "      <td>NaN</td>\n",
       "      <td>good</td>\n",
       "    </tr>\n",
       "    <tr>\n",
       "      <th>k</th>\n",
       "      <td>2023-01-11</td>\n",
       "      <td>Lukmon</td>\n",
       "      <td>56.0</td>\n",
       "      <td>Adamawa</td>\n",
       "      <td>Artist</td>\n",
       "      <td>NaN</td>\n",
       "      <td>good</td>\n",
       "    </tr>\n",
       "    <tr>\n",
       "      <th>l</th>\n",
       "      <td>2023-01-12</td>\n",
       "      <td>NaN</td>\n",
       "      <td>78.0</td>\n",
       "      <td>Benue</td>\n",
       "      <td>Footballer</td>\n",
       "      <td>9448.34</td>\n",
       "      <td>good</td>\n",
       "    </tr>\n",
       "    <tr>\n",
       "      <th>m</th>\n",
       "      <td>2023-01-13</td>\n",
       "      <td>Idris</td>\n",
       "      <td>34.0</td>\n",
       "      <td>Edo</td>\n",
       "      <td>Nurse</td>\n",
       "      <td>NaN</td>\n",
       "      <td>good</td>\n",
       "    </tr>\n",
       "    <tr>\n",
       "      <th>n</th>\n",
       "      <td>2023-01-14</td>\n",
       "      <td>Rashford</td>\n",
       "      <td>NaN</td>\n",
       "      <td>Jos</td>\n",
       "      <td>NaN</td>\n",
       "      <td>8499.00</td>\n",
       "      <td>good</td>\n",
       "    </tr>\n",
       "    <tr>\n",
       "      <th>o</th>\n",
       "      <td>2023-01-15</td>\n",
       "      <td>NaN</td>\n",
       "      <td>12.0</td>\n",
       "      <td>Kano</td>\n",
       "      <td>NaN</td>\n",
       "      <td>20000.30</td>\n",
       "      <td>good</td>\n",
       "    </tr>\n",
       "    <tr>\n",
       "      <th>p</th>\n",
       "      <td>2023-01-16</td>\n",
       "      <td>Olaitan</td>\n",
       "      <td>34.0</td>\n",
       "      <td>Delta</td>\n",
       "      <td>Banker</td>\n",
       "      <td>3849.00</td>\n",
       "      <td>good</td>\n",
       "    </tr>\n",
       "    <tr>\n",
       "      <th>q</th>\n",
       "      <td>2023-01-01</td>\n",
       "      <td>Jamiu</td>\n",
       "      <td>25.0</td>\n",
       "      <td>Lagos</td>\n",
       "      <td>Engineer</td>\n",
       "      <td>39485.43</td>\n",
       "      <td>good</td>\n",
       "    </tr>\n",
       "  </tbody>\n",
       "</table>\n",
       "</div>"
      ],
      "text/plain": [
       "         Date      Name   Age          State         Job    Salary Review\n",
       "a  2023-01-01     Jamiu  25.0          Lagos    Engineer  39485.43   good\n",
       "b  2023-01-02   Olaitan  12.0           Kano      Banker  20000.30   good\n",
       "c  2023-01-03       NaN  50.0          Niger      Lawyer   7363.00   good\n",
       "d  2023-01-04    Pelumi  16.0            NaN         NaN  67362.00   good\n",
       "e  2023-01-05      Kemi  19.0            Oyo      Doctor   7362.73   good\n",
       "f  2023-01-01     Jamiu  25.0          Lagos    Engineer  39485.43   good\n",
       "g  2023-01-07    Sanhco  20.0  Port harcourt      Driver       NaN   good\n",
       "h  2023-01-08   Richard  30.0          Delta         CEO  83663.28   good\n",
       "i  2023-01-09     James   NaN            NaN      Farmer  98382.92   good\n",
       "j  2023-01-10    Sanhco  34.0          Kwara       Nurse       NaN   good\n",
       "k  2023-01-11    Lukmon  56.0        Adamawa      Artist       NaN   good\n",
       "l  2023-01-12       NaN  78.0          Benue  Footballer   9448.34   good\n",
       "m  2023-01-13     Idris  34.0            Edo       Nurse       NaN   good\n",
       "n  2023-01-14  Rashford   NaN            Jos         NaN   8499.00   good\n",
       "o  2023-01-15       NaN  12.0           Kano         NaN  20000.30   good\n",
       "p  2023-01-16   Olaitan  34.0          Delta      Banker   3849.00   good\n",
       "q  2023-01-01     Jamiu  25.0          Lagos    Engineer  39485.43   good"
      ]
     },
     "execution_count": 35,
     "metadata": {},
     "output_type": "execute_result"
    }
   ],
   "source": [
    "df"
   ]
  },
  {
   "cell_type": "code",
   "execution_count": 38,
   "metadata": {},
   "outputs": [],
   "source": [
    "# export the dataframe above in csv format\n",
    "df.to_csv(\"talon.csv\", index=False)"
   ]
  },
  {
   "cell_type": "code",
   "execution_count": null,
   "metadata": {},
   "outputs": [],
   "source": []
  },
  {
   "cell_type": "code",
   "execution_count": 39,
   "metadata": {},
   "outputs": [
    {
     "data": {
      "text/html": [
       "<div>\n",
       "<style scoped>\n",
       "    .dataframe tbody tr th:only-of-type {\n",
       "        vertical-align: middle;\n",
       "    }\n",
       "\n",
       "    .dataframe tbody tr th {\n",
       "        vertical-align: top;\n",
       "    }\n",
       "\n",
       "    .dataframe thead th {\n",
       "        text-align: right;\n",
       "    }\n",
       "</style>\n",
       "<table border=\"1\" class=\"dataframe\">\n",
       "  <thead>\n",
       "    <tr style=\"text-align: right;\">\n",
       "      <th></th>\n",
       "      <th>Date</th>\n",
       "      <th>Name</th>\n",
       "      <th>Age</th>\n",
       "      <th>State</th>\n",
       "      <th>Job</th>\n",
       "      <th>Salary</th>\n",
       "      <th>Review</th>\n",
       "    </tr>\n",
       "  </thead>\n",
       "  <tbody>\n",
       "    <tr>\n",
       "      <th>0</th>\n",
       "      <td>2023-01-01</td>\n",
       "      <td>Jamiu</td>\n",
       "      <td>25.0</td>\n",
       "      <td>Lagos</td>\n",
       "      <td>Engineer</td>\n",
       "      <td>39485.43</td>\n",
       "      <td>good</td>\n",
       "    </tr>\n",
       "    <tr>\n",
       "      <th>1</th>\n",
       "      <td>2023-01-02</td>\n",
       "      <td>Olaitan</td>\n",
       "      <td>12.0</td>\n",
       "      <td>Kano</td>\n",
       "      <td>Banker</td>\n",
       "      <td>20000.30</td>\n",
       "      <td>good</td>\n",
       "    </tr>\n",
       "    <tr>\n",
       "      <th>2</th>\n",
       "      <td>2023-01-03</td>\n",
       "      <td>NaN</td>\n",
       "      <td>50.0</td>\n",
       "      <td>Niger</td>\n",
       "      <td>Lawyer</td>\n",
       "      <td>7363.00</td>\n",
       "      <td>good</td>\n",
       "    </tr>\n",
       "    <tr>\n",
       "      <th>3</th>\n",
       "      <td>2023-01-04</td>\n",
       "      <td>Pelumi</td>\n",
       "      <td>16.0</td>\n",
       "      <td>NaN</td>\n",
       "      <td>NaN</td>\n",
       "      <td>67362.00</td>\n",
       "      <td>good</td>\n",
       "    </tr>\n",
       "    <tr>\n",
       "      <th>4</th>\n",
       "      <td>2023-01-05</td>\n",
       "      <td>Kemi</td>\n",
       "      <td>19.0</td>\n",
       "      <td>Oyo</td>\n",
       "      <td>Doctor</td>\n",
       "      <td>7362.73</td>\n",
       "      <td>good</td>\n",
       "    </tr>\n",
       "    <tr>\n",
       "      <th>5</th>\n",
       "      <td>2023-01-01</td>\n",
       "      <td>Jamiu</td>\n",
       "      <td>25.0</td>\n",
       "      <td>Lagos</td>\n",
       "      <td>Engineer</td>\n",
       "      <td>39485.43</td>\n",
       "      <td>good</td>\n",
       "    </tr>\n",
       "    <tr>\n",
       "      <th>6</th>\n",
       "      <td>2023-01-07</td>\n",
       "      <td>Sanhco</td>\n",
       "      <td>20.0</td>\n",
       "      <td>Port harcourt</td>\n",
       "      <td>Driver</td>\n",
       "      <td>NaN</td>\n",
       "      <td>good</td>\n",
       "    </tr>\n",
       "    <tr>\n",
       "      <th>7</th>\n",
       "      <td>2023-01-08</td>\n",
       "      <td>Richard</td>\n",
       "      <td>30.0</td>\n",
       "      <td>Delta</td>\n",
       "      <td>CEO</td>\n",
       "      <td>83663.28</td>\n",
       "      <td>good</td>\n",
       "    </tr>\n",
       "    <tr>\n",
       "      <th>8</th>\n",
       "      <td>2023-01-09</td>\n",
       "      <td>James</td>\n",
       "      <td>NaN</td>\n",
       "      <td>NaN</td>\n",
       "      <td>Farmer</td>\n",
       "      <td>98382.92</td>\n",
       "      <td>good</td>\n",
       "    </tr>\n",
       "    <tr>\n",
       "      <th>9</th>\n",
       "      <td>2023-01-10</td>\n",
       "      <td>Sanhco</td>\n",
       "      <td>34.0</td>\n",
       "      <td>Kwara</td>\n",
       "      <td>Nurse</td>\n",
       "      <td>NaN</td>\n",
       "      <td>good</td>\n",
       "    </tr>\n",
       "    <tr>\n",
       "      <th>10</th>\n",
       "      <td>2023-01-11</td>\n",
       "      <td>Lukmon</td>\n",
       "      <td>56.0</td>\n",
       "      <td>Adamawa</td>\n",
       "      <td>Artist</td>\n",
       "      <td>NaN</td>\n",
       "      <td>good</td>\n",
       "    </tr>\n",
       "    <tr>\n",
       "      <th>11</th>\n",
       "      <td>2023-01-12</td>\n",
       "      <td>NaN</td>\n",
       "      <td>78.0</td>\n",
       "      <td>Benue</td>\n",
       "      <td>Footballer</td>\n",
       "      <td>9448.34</td>\n",
       "      <td>good</td>\n",
       "    </tr>\n",
       "    <tr>\n",
       "      <th>12</th>\n",
       "      <td>2023-01-13</td>\n",
       "      <td>Idris</td>\n",
       "      <td>34.0</td>\n",
       "      <td>Edo</td>\n",
       "      <td>Nurse</td>\n",
       "      <td>NaN</td>\n",
       "      <td>good</td>\n",
       "    </tr>\n",
       "    <tr>\n",
       "      <th>13</th>\n",
       "      <td>2023-01-14</td>\n",
       "      <td>Rashford</td>\n",
       "      <td>NaN</td>\n",
       "      <td>Jos</td>\n",
       "      <td>NaN</td>\n",
       "      <td>8499.00</td>\n",
       "      <td>good</td>\n",
       "    </tr>\n",
       "    <tr>\n",
       "      <th>14</th>\n",
       "      <td>2023-01-15</td>\n",
       "      <td>NaN</td>\n",
       "      <td>12.0</td>\n",
       "      <td>Kano</td>\n",
       "      <td>NaN</td>\n",
       "      <td>20000.30</td>\n",
       "      <td>good</td>\n",
       "    </tr>\n",
       "    <tr>\n",
       "      <th>15</th>\n",
       "      <td>2023-01-16</td>\n",
       "      <td>Olaitan</td>\n",
       "      <td>34.0</td>\n",
       "      <td>Delta</td>\n",
       "      <td>Banker</td>\n",
       "      <td>3849.00</td>\n",
       "      <td>good</td>\n",
       "    </tr>\n",
       "    <tr>\n",
       "      <th>16</th>\n",
       "      <td>2023-01-01</td>\n",
       "      <td>Jamiu</td>\n",
       "      <td>25.0</td>\n",
       "      <td>Lagos</td>\n",
       "      <td>Engineer</td>\n",
       "      <td>39485.43</td>\n",
       "      <td>good</td>\n",
       "    </tr>\n",
       "  </tbody>\n",
       "</table>\n",
       "</div>"
      ],
      "text/plain": [
       "          Date      Name   Age          State         Job    Salary Review\n",
       "0   2023-01-01     Jamiu  25.0          Lagos    Engineer  39485.43   good\n",
       "1   2023-01-02   Olaitan  12.0           Kano      Banker  20000.30   good\n",
       "2   2023-01-03       NaN  50.0          Niger      Lawyer   7363.00   good\n",
       "3   2023-01-04    Pelumi  16.0            NaN         NaN  67362.00   good\n",
       "4   2023-01-05      Kemi  19.0            Oyo      Doctor   7362.73   good\n",
       "5   2023-01-01     Jamiu  25.0          Lagos    Engineer  39485.43   good\n",
       "6   2023-01-07    Sanhco  20.0  Port harcourt      Driver       NaN   good\n",
       "7   2023-01-08   Richard  30.0          Delta         CEO  83663.28   good\n",
       "8   2023-01-09     James   NaN            NaN      Farmer  98382.92   good\n",
       "9   2023-01-10    Sanhco  34.0          Kwara       Nurse       NaN   good\n",
       "10  2023-01-11    Lukmon  56.0        Adamawa      Artist       NaN   good\n",
       "11  2023-01-12       NaN  78.0          Benue  Footballer   9448.34   good\n",
       "12  2023-01-13     Idris  34.0            Edo       Nurse       NaN   good\n",
       "13  2023-01-14  Rashford   NaN            Jos         NaN   8499.00   good\n",
       "14  2023-01-15       NaN  12.0           Kano         NaN  20000.30   good\n",
       "15  2023-01-16   Olaitan  34.0          Delta      Banker   3849.00   good\n",
       "16  2023-01-01     Jamiu  25.0          Lagos    Engineer  39485.43   good"
      ]
     },
     "metadata": {},
     "output_type": "display_data"
    }
   ],
   "source": [
    "# read the the excel and csv file you export into dataframe \n",
    "df_csv = pd.read_csv(\"talon.csv\")\n",
    "display(df_csv)"
   ]
  },
  {
   "cell_type": "code",
   "execution_count": 41,
   "metadata": {},
   "outputs": [
    {
     "data": {
      "text/html": [
       "<div>\n",
       "<style scoped>\n",
       "    .dataframe tbody tr th:only-of-type {\n",
       "        vertical-align: middle;\n",
       "    }\n",
       "\n",
       "    .dataframe tbody tr th {\n",
       "        vertical-align: top;\n",
       "    }\n",
       "\n",
       "    .dataframe thead th {\n",
       "        text-align: right;\n",
       "    }\n",
       "</style>\n",
       "<table border=\"1\" class=\"dataframe\">\n",
       "  <thead>\n",
       "    <tr style=\"text-align: right;\">\n",
       "      <th></th>\n",
       "      <th>Date</th>\n",
       "      <th>Name</th>\n",
       "      <th>Age</th>\n",
       "      <th>State</th>\n",
       "      <th>Job</th>\n",
       "      <th>Salary</th>\n",
       "      <th>Review</th>\n",
       "    </tr>\n",
       "  </thead>\n",
       "  <tbody>\n",
       "    <tr>\n",
       "      <th>0</th>\n",
       "      <td>2023-01-01</td>\n",
       "      <td>Jamiu</td>\n",
       "      <td>25.0</td>\n",
       "      <td>Lagos</td>\n",
       "      <td>Engineer</td>\n",
       "      <td>39485.43</td>\n",
       "      <td>good</td>\n",
       "    </tr>\n",
       "    <tr>\n",
       "      <th>1</th>\n",
       "      <td>2023-01-02</td>\n",
       "      <td>Olaitan</td>\n",
       "      <td>12.0</td>\n",
       "      <td>Kano</td>\n",
       "      <td>Banker</td>\n",
       "      <td>20000.30</td>\n",
       "      <td>good</td>\n",
       "    </tr>\n",
       "    <tr>\n",
       "      <th>2</th>\n",
       "      <td>2023-01-03</td>\n",
       "      <td>NaN</td>\n",
       "      <td>50.0</td>\n",
       "      <td>Niger</td>\n",
       "      <td>Lawyer</td>\n",
       "      <td>7363.00</td>\n",
       "      <td>good</td>\n",
       "    </tr>\n",
       "    <tr>\n",
       "      <th>3</th>\n",
       "      <td>2023-01-04</td>\n",
       "      <td>Pelumi</td>\n",
       "      <td>16.0</td>\n",
       "      <td>NaN</td>\n",
       "      <td>NaN</td>\n",
       "      <td>67362.00</td>\n",
       "      <td>good</td>\n",
       "    </tr>\n",
       "    <tr>\n",
       "      <th>4</th>\n",
       "      <td>2023-01-05</td>\n",
       "      <td>Kemi</td>\n",
       "      <td>19.0</td>\n",
       "      <td>Oyo</td>\n",
       "      <td>Doctor</td>\n",
       "      <td>7362.73</td>\n",
       "      <td>good</td>\n",
       "    </tr>\n",
       "    <tr>\n",
       "      <th>5</th>\n",
       "      <td>2023-01-01</td>\n",
       "      <td>Jamiu</td>\n",
       "      <td>25.0</td>\n",
       "      <td>Lagos</td>\n",
       "      <td>Engineer</td>\n",
       "      <td>39485.43</td>\n",
       "      <td>good</td>\n",
       "    </tr>\n",
       "    <tr>\n",
       "      <th>6</th>\n",
       "      <td>2023-01-07</td>\n",
       "      <td>Sanhco</td>\n",
       "      <td>20.0</td>\n",
       "      <td>Port harcourt</td>\n",
       "      <td>Driver</td>\n",
       "      <td>NaN</td>\n",
       "      <td>good</td>\n",
       "    </tr>\n",
       "    <tr>\n",
       "      <th>7</th>\n",
       "      <td>2023-01-08</td>\n",
       "      <td>Richard</td>\n",
       "      <td>30.0</td>\n",
       "      <td>Delta</td>\n",
       "      <td>CEO</td>\n",
       "      <td>83663.28</td>\n",
       "      <td>good</td>\n",
       "    </tr>\n",
       "    <tr>\n",
       "      <th>8</th>\n",
       "      <td>2023-01-09</td>\n",
       "      <td>James</td>\n",
       "      <td>NaN</td>\n",
       "      <td>NaN</td>\n",
       "      <td>Farmer</td>\n",
       "      <td>98382.92</td>\n",
       "      <td>good</td>\n",
       "    </tr>\n",
       "    <tr>\n",
       "      <th>9</th>\n",
       "      <td>2023-01-10</td>\n",
       "      <td>Sanhco</td>\n",
       "      <td>34.0</td>\n",
       "      <td>Kwara</td>\n",
       "      <td>Nurse</td>\n",
       "      <td>NaN</td>\n",
       "      <td>good</td>\n",
       "    </tr>\n",
       "    <tr>\n",
       "      <th>10</th>\n",
       "      <td>2023-01-11</td>\n",
       "      <td>Lukmon</td>\n",
       "      <td>56.0</td>\n",
       "      <td>Adamawa</td>\n",
       "      <td>Artist</td>\n",
       "      <td>NaN</td>\n",
       "      <td>good</td>\n",
       "    </tr>\n",
       "    <tr>\n",
       "      <th>11</th>\n",
       "      <td>2023-01-12</td>\n",
       "      <td>NaN</td>\n",
       "      <td>78.0</td>\n",
       "      <td>Benue</td>\n",
       "      <td>Footballer</td>\n",
       "      <td>9448.34</td>\n",
       "      <td>good</td>\n",
       "    </tr>\n",
       "    <tr>\n",
       "      <th>12</th>\n",
       "      <td>2023-01-13</td>\n",
       "      <td>Idris</td>\n",
       "      <td>34.0</td>\n",
       "      <td>Edo</td>\n",
       "      <td>Nurse</td>\n",
       "      <td>NaN</td>\n",
       "      <td>good</td>\n",
       "    </tr>\n",
       "    <tr>\n",
       "      <th>13</th>\n",
       "      <td>2023-01-14</td>\n",
       "      <td>Rashford</td>\n",
       "      <td>NaN</td>\n",
       "      <td>Jos</td>\n",
       "      <td>NaN</td>\n",
       "      <td>8499.00</td>\n",
       "      <td>good</td>\n",
       "    </tr>\n",
       "    <tr>\n",
       "      <th>14</th>\n",
       "      <td>2023-01-15</td>\n",
       "      <td>NaN</td>\n",
       "      <td>12.0</td>\n",
       "      <td>Kano</td>\n",
       "      <td>NaN</td>\n",
       "      <td>20000.30</td>\n",
       "      <td>good</td>\n",
       "    </tr>\n",
       "    <tr>\n",
       "      <th>15</th>\n",
       "      <td>2023-01-16</td>\n",
       "      <td>Olaitan</td>\n",
       "      <td>34.0</td>\n",
       "      <td>Delta</td>\n",
       "      <td>Banker</td>\n",
       "      <td>3849.00</td>\n",
       "      <td>good</td>\n",
       "    </tr>\n",
       "    <tr>\n",
       "      <th>16</th>\n",
       "      <td>2023-01-01</td>\n",
       "      <td>Jamiu</td>\n",
       "      <td>25.0</td>\n",
       "      <td>Lagos</td>\n",
       "      <td>Engineer</td>\n",
       "      <td>39485.43</td>\n",
       "      <td>good</td>\n",
       "    </tr>\n",
       "  </tbody>\n",
       "</table>\n",
       "</div>"
      ],
      "text/plain": [
       "          Date      Name   Age          State         Job    Salary Review\n",
       "0   2023-01-01     Jamiu  25.0          Lagos    Engineer  39485.43   good\n",
       "1   2023-01-02   Olaitan  12.0           Kano      Banker  20000.30   good\n",
       "2   2023-01-03       NaN  50.0          Niger      Lawyer   7363.00   good\n",
       "3   2023-01-04    Pelumi  16.0            NaN         NaN  67362.00   good\n",
       "4   2023-01-05      Kemi  19.0            Oyo      Doctor   7362.73   good\n",
       "5   2023-01-01     Jamiu  25.0          Lagos    Engineer  39485.43   good\n",
       "6   2023-01-07    Sanhco  20.0  Port harcourt      Driver       NaN   good\n",
       "7   2023-01-08   Richard  30.0          Delta         CEO  83663.28   good\n",
       "8   2023-01-09     James   NaN            NaN      Farmer  98382.92   good\n",
       "9   2023-01-10    Sanhco  34.0          Kwara       Nurse       NaN   good\n",
       "10  2023-01-11    Lukmon  56.0        Adamawa      Artist       NaN   good\n",
       "11  2023-01-12       NaN  78.0          Benue  Footballer   9448.34   good\n",
       "12  2023-01-13     Idris  34.0            Edo       Nurse       NaN   good\n",
       "13  2023-01-14  Rashford   NaN            Jos         NaN   8499.00   good\n",
       "14  2023-01-15       NaN  12.0           Kano         NaN  20000.30   good\n",
       "15  2023-01-16   Olaitan  34.0          Delta      Banker   3849.00   good\n",
       "16  2023-01-01     Jamiu  25.0          Lagos    Engineer  39485.43   good"
      ]
     },
     "metadata": {},
     "output_type": "display_data"
    }
   ],
   "source": [
    "df_excel = pd.read_excel(\"whatname.xlsx\")\n",
    "display(df_excel)"
   ]
  },
  {
   "cell_type": "code",
   "execution_count": 45,
   "metadata": {},
   "outputs": [
    {
     "data": {
      "text/html": [
       "<div>\n",
       "<style scoped>\n",
       "    .dataframe tbody tr th:only-of-type {\n",
       "        vertical-align: middle;\n",
       "    }\n",
       "\n",
       "    .dataframe tbody tr th {\n",
       "        vertical-align: top;\n",
       "    }\n",
       "\n",
       "    .dataframe thead th {\n",
       "        text-align: right;\n",
       "    }\n",
       "</style>\n",
       "<table border=\"1\" class=\"dataframe\">\n",
       "  <thead>\n",
       "    <tr style=\"text-align: right;\">\n",
       "      <th></th>\n",
       "      <th>Column1</th>\n",
       "      <th>Column2</th>\n",
       "      <th>Column3</th>\n",
       "    </tr>\n",
       "  </thead>\n",
       "  <tbody>\n",
       "    <tr>\n",
       "      <th>0</th>\n",
       "      <td>S48775E3892</td>\n",
       "      <td>CONTROLLER SERVER 1TB H</td>\n",
       "      <td>304.7</td>\n",
       "    </tr>\n",
       "    <tr>\n",
       "      <th>1</th>\n",
       "      <td>S48775E3893</td>\n",
       "      <td>CONTROLLER SERVER 1TB H</td>\n",
       "      <td>304.7</td>\n",
       "    </tr>\n",
       "    <tr>\n",
       "      <th>2</th>\n",
       "      <td>S48775E3894</td>\n",
       "      <td>DESKTOP WINDOWS 8.1 SERVER</td>\n",
       "      <td>404.2</td>\n",
       "    </tr>\n",
       "    <tr>\n",
       "      <th>3</th>\n",
       "      <td>S48775E3895</td>\n",
       "      <td>CONTROLLER SERVER 1TB H</td>\n",
       "      <td>304.7</td>\n",
       "    </tr>\n",
       "    <tr>\n",
       "      <th>4</th>\n",
       "      <td>S48775E3896</td>\n",
       "      <td>CONTROLLER SERVER 1TB H</td>\n",
       "      <td>304.7</td>\n",
       "    </tr>\n",
       "    <tr>\n",
       "      <th>5</th>\n",
       "      <td>S48775E3897</td>\n",
       "      <td>DESKTOP WINDOWS 8.1 SERVER</td>\n",
       "      <td>576.0</td>\n",
       "    </tr>\n",
       "    <tr>\n",
       "      <th>6</th>\n",
       "      <td>S48775E3898</td>\n",
       "      <td>CONTROLLER CHARGER 1TB H</td>\n",
       "      <td>200.2</td>\n",
       "    </tr>\n",
       "    <tr>\n",
       "      <th>7</th>\n",
       "      <td>S48775E3899</td>\n",
       "      <td>CONTROLLER  1TB H</td>\n",
       "      <td>304.7</td>\n",
       "    </tr>\n",
       "    <tr>\n",
       "      <th>8</th>\n",
       "      <td>S48775E3894</td>\n",
       "      <td>DESKTOP WINDOWS 8.1 SERVER</td>\n",
       "      <td>404.2</td>\n",
       "    </tr>\n",
       "    <tr>\n",
       "      <th>9</th>\n",
       "      <td>S48775E3895</td>\n",
       "      <td>CONTROLLER SERVER 1TB H</td>\n",
       "      <td>304.7</td>\n",
       "    </tr>\n",
       "    <tr>\n",
       "      <th>10</th>\n",
       "      <td>S48775E3896</td>\n",
       "      <td>CONTROLLER SERVER 1TB H</td>\n",
       "      <td>304.7</td>\n",
       "    </tr>\n",
       "    <tr>\n",
       "      <th>11</th>\n",
       "      <td>S48775E3892</td>\n",
       "      <td>CONTROLLER SERVER 1TB H</td>\n",
       "      <td>304.7</td>\n",
       "    </tr>\n",
       "    <tr>\n",
       "      <th>12</th>\n",
       "      <td>S48775E3893</td>\n",
       "      <td>CONTROLLER SERVER 1TB H</td>\n",
       "      <td>304.7</td>\n",
       "    </tr>\n",
       "    <tr>\n",
       "      <th>13</th>\n",
       "      <td>S48775E3894</td>\n",
       "      <td>DESKTOP WINDOWS 8.1 SERVER</td>\n",
       "      <td>404.2</td>\n",
       "    </tr>\n",
       "    <tr>\n",
       "      <th>14</th>\n",
       "      <td>S48775E3895</td>\n",
       "      <td>CONTROLLER SERVER 1TB H</td>\n",
       "      <td>304.7</td>\n",
       "    </tr>\n",
       "    <tr>\n",
       "      <th>15</th>\n",
       "      <td>S48775E3896</td>\n",
       "      <td>CONTROLLER SERVER 1TB H</td>\n",
       "      <td>304.7</td>\n",
       "    </tr>\n",
       "    <tr>\n",
       "      <th>16</th>\n",
       "      <td>S48775E3897</td>\n",
       "      <td>DESKTOP WINDOWS 8.1 SERVER</td>\n",
       "      <td>576.0</td>\n",
       "    </tr>\n",
       "    <tr>\n",
       "      <th>17</th>\n",
       "      <td>S48775E3898</td>\n",
       "      <td>CONTROLLER CHARGER 1TB H</td>\n",
       "      <td>200.2</td>\n",
       "    </tr>\n",
       "    <tr>\n",
       "      <th>18</th>\n",
       "      <td>S48775E3899</td>\n",
       "      <td>CONTROLLER  1TB H</td>\n",
       "      <td>304.7</td>\n",
       "    </tr>\n",
       "    <tr>\n",
       "      <th>19</th>\n",
       "      <td>S48775E3894</td>\n",
       "      <td>DESKTOP WINDOWS 8.1 SERVER</td>\n",
       "      <td>404.2</td>\n",
       "    </tr>\n",
       "    <tr>\n",
       "      <th>20</th>\n",
       "      <td>S48775E3892</td>\n",
       "      <td>CONTROLLER SERVER 1TB H</td>\n",
       "      <td>304.7</td>\n",
       "    </tr>\n",
       "    <tr>\n",
       "      <th>21</th>\n",
       "      <td>S48775E3893</td>\n",
       "      <td>CONTROLLER SERVER 1TB H</td>\n",
       "      <td>304.7</td>\n",
       "    </tr>\n",
       "    <tr>\n",
       "      <th>22</th>\n",
       "      <td>S48775E3894</td>\n",
       "      <td>DESKTOP WINDOWS 8.1 SERVER</td>\n",
       "      <td>404.2</td>\n",
       "    </tr>\n",
       "    <tr>\n",
       "      <th>23</th>\n",
       "      <td>S48775E3895</td>\n",
       "      <td>CONTROLLER SERVER 1TB H</td>\n",
       "      <td>304.7</td>\n",
       "    </tr>\n",
       "    <tr>\n",
       "      <th>24</th>\n",
       "      <td>S48775E3896</td>\n",
       "      <td>CONTROLLER SERVER 1TB H</td>\n",
       "      <td>304.7</td>\n",
       "    </tr>\n",
       "    <tr>\n",
       "      <th>25</th>\n",
       "      <td>S48775E3897</td>\n",
       "      <td>DESKTOP WINDOWS 8.1 SERVER</td>\n",
       "      <td>576.0</td>\n",
       "    </tr>\n",
       "    <tr>\n",
       "      <th>26</th>\n",
       "      <td>S48775E3898</td>\n",
       "      <td>CONTROLLER CHARGER 1TB H</td>\n",
       "      <td>200.2</td>\n",
       "    </tr>\n",
       "    <tr>\n",
       "      <th>27</th>\n",
       "      <td>S48775E3899</td>\n",
       "      <td>CONTROLLER  1TB H</td>\n",
       "      <td>304.7</td>\n",
       "    </tr>\n",
       "    <tr>\n",
       "      <th>28</th>\n",
       "      <td>S48775E3894</td>\n",
       "      <td>DESKTOP WINDOWS 8.1 SERVER</td>\n",
       "      <td>404.2</td>\n",
       "    </tr>\n",
       "    <tr>\n",
       "      <th>29</th>\n",
       "      <td>S48775E3895</td>\n",
       "      <td>CONTROLLER SERVER 1TB H</td>\n",
       "      <td>304.7</td>\n",
       "    </tr>\n",
       "    <tr>\n",
       "      <th>30</th>\n",
       "      <td>S48775E3896</td>\n",
       "      <td>CONTROLLER SERVER 1TB H</td>\n",
       "      <td>304.7</td>\n",
       "    </tr>\n",
       "    <tr>\n",
       "      <th>31</th>\n",
       "      <td>S48775E3892</td>\n",
       "      <td>CONTROLLER SERVER 1TB H</td>\n",
       "      <td>304.7</td>\n",
       "    </tr>\n",
       "    <tr>\n",
       "      <th>32</th>\n",
       "      <td>S48775E3893</td>\n",
       "      <td>CONTROLLER SERVER 1TB H</td>\n",
       "      <td>304.7</td>\n",
       "    </tr>\n",
       "    <tr>\n",
       "      <th>33</th>\n",
       "      <td>S48775E3894</td>\n",
       "      <td>DESKTOP WINDOWS 8.1 SERVER</td>\n",
       "      <td>404.2</td>\n",
       "    </tr>\n",
       "    <tr>\n",
       "      <th>34</th>\n",
       "      <td>S48775E3895</td>\n",
       "      <td>CONTROLLER SERVER 1TB H</td>\n",
       "      <td>304.7</td>\n",
       "    </tr>\n",
       "    <tr>\n",
       "      <th>35</th>\n",
       "      <td>S48775E3896</td>\n",
       "      <td>CONTROLLER SERVER 1TB H</td>\n",
       "      <td>304.7</td>\n",
       "    </tr>\n",
       "    <tr>\n",
       "      <th>36</th>\n",
       "      <td>S48775E3897</td>\n",
       "      <td>DESKTOP WINDOWS 8.1 SERVER</td>\n",
       "      <td>576.0</td>\n",
       "    </tr>\n",
       "    <tr>\n",
       "      <th>37</th>\n",
       "      <td>S48775E3898</td>\n",
       "      <td>CONTROLLER CHARGER 1TB H</td>\n",
       "      <td>200.2</td>\n",
       "    </tr>\n",
       "    <tr>\n",
       "      <th>38</th>\n",
       "      <td>S48775E3899</td>\n",
       "      <td>CONTROLLER  1TB H</td>\n",
       "      <td>304.7</td>\n",
       "    </tr>\n",
       "    <tr>\n",
       "      <th>39</th>\n",
       "      <td>S48775E3894</td>\n",
       "      <td>DESKTOP WINDOWS 8.1 SERVER</td>\n",
       "      <td>404.2</td>\n",
       "    </tr>\n",
       "  </tbody>\n",
       "</table>\n",
       "</div>"
      ],
      "text/plain": [
       "         Column1                      Column2  Column3\n",
       "0   S48775E3892      CONTROLLER SERVER 1TB H     304.7\n",
       "1   S48775E3893      CONTROLLER SERVER 1TB H     304.7\n",
       "2   S48775E3894   DESKTOP WINDOWS 8.1 SERVER     404.2\n",
       "3   S48775E3895      CONTROLLER SERVER 1TB H     304.7\n",
       "4   S48775E3896      CONTROLLER SERVER 1TB H     304.7\n",
       "5   S48775E3897   DESKTOP WINDOWS 8.1 SERVER     576.0\n",
       "6   S48775E3898     CONTROLLER CHARGER 1TB H     200.2\n",
       "7   S48775E3899            CONTROLLER  1TB H     304.7\n",
       "8   S48775E3894   DESKTOP WINDOWS 8.1 SERVER     404.2\n",
       "9   S48775E3895      CONTROLLER SERVER 1TB H     304.7\n",
       "10  S48775E3896      CONTROLLER SERVER 1TB H     304.7\n",
       "11  S48775E3892      CONTROLLER SERVER 1TB H     304.7\n",
       "12  S48775E3893      CONTROLLER SERVER 1TB H     304.7\n",
       "13  S48775E3894   DESKTOP WINDOWS 8.1 SERVER     404.2\n",
       "14  S48775E3895      CONTROLLER SERVER 1TB H     304.7\n",
       "15  S48775E3896      CONTROLLER SERVER 1TB H     304.7\n",
       "16  S48775E3897   DESKTOP WINDOWS 8.1 SERVER     576.0\n",
       "17  S48775E3898     CONTROLLER CHARGER 1TB H     200.2\n",
       "18  S48775E3899            CONTROLLER  1TB H     304.7\n",
       "19  S48775E3894   DESKTOP WINDOWS 8.1 SERVER     404.2\n",
       "20  S48775E3892      CONTROLLER SERVER 1TB H     304.7\n",
       "21  S48775E3893      CONTROLLER SERVER 1TB H     304.7\n",
       "22  S48775E3894   DESKTOP WINDOWS 8.1 SERVER     404.2\n",
       "23  S48775E3895      CONTROLLER SERVER 1TB H     304.7\n",
       "24  S48775E3896      CONTROLLER SERVER 1TB H     304.7\n",
       "25  S48775E3897   DESKTOP WINDOWS 8.1 SERVER     576.0\n",
       "26  S48775E3898     CONTROLLER CHARGER 1TB H     200.2\n",
       "27  S48775E3899            CONTROLLER  1TB H     304.7\n",
       "28  S48775E3894   DESKTOP WINDOWS 8.1 SERVER     404.2\n",
       "29  S48775E3895      CONTROLLER SERVER 1TB H     304.7\n",
       "30  S48775E3896      CONTROLLER SERVER 1TB H     304.7\n",
       "31  S48775E3892      CONTROLLER SERVER 1TB H     304.7\n",
       "32  S48775E3893      CONTROLLER SERVER 1TB H     304.7\n",
       "33  S48775E3894   DESKTOP WINDOWS 8.1 SERVER     404.2\n",
       "34  S48775E3895      CONTROLLER SERVER 1TB H     304.7\n",
       "35  S48775E3896      CONTROLLER SERVER 1TB H     304.7\n",
       "36  S48775E3897   DESKTOP WINDOWS 8.1 SERVER     576.0\n",
       "37  S48775E3898     CONTROLLER CHARGER 1TB H     200.2\n",
       "38  S48775E3899            CONTROLLER  1TB H     304.7\n",
       "39  S48775E3894   DESKTOP WINDOWS 8.1 SERVER     404.2"
      ]
     },
     "execution_count": 45,
     "metadata": {},
     "output_type": "execute_result"
    }
   ],
   "source": [
    "# To import from desktop or document environment:\n",
    "\n",
    "path = \"C:/Users/HP/Desktop/DATA SCIENCE/\"\n",
    "pd.read_excel(path + \"IMPORT.xlsx\")"
   ]
  },
  {
   "cell_type": "markdown",
   "metadata": {},
   "source": [
    "# Viewing/Inspecting Data"
   ]
  },
  {
   "cell_type": "code",
   "execution_count": 47,
   "metadata": {},
   "outputs": [
    {
     "data": {
      "text/html": [
       "<div>\n",
       "<style scoped>\n",
       "    .dataframe tbody tr th:only-of-type {\n",
       "        vertical-align: middle;\n",
       "    }\n",
       "\n",
       "    .dataframe tbody tr th {\n",
       "        vertical-align: top;\n",
       "    }\n",
       "\n",
       "    .dataframe thead th {\n",
       "        text-align: right;\n",
       "    }\n",
       "</style>\n",
       "<table border=\"1\" class=\"dataframe\">\n",
       "  <thead>\n",
       "    <tr style=\"text-align: right;\">\n",
       "      <th></th>\n",
       "      <th>Date</th>\n",
       "      <th>Name</th>\n",
       "      <th>Age</th>\n",
       "      <th>State</th>\n",
       "      <th>Job</th>\n",
       "      <th>Salary</th>\n",
       "      <th>Review</th>\n",
       "    </tr>\n",
       "  </thead>\n",
       "  <tbody>\n",
       "    <tr>\n",
       "      <th>a</th>\n",
       "      <td>2023-01-01</td>\n",
       "      <td>Jamiu</td>\n",
       "      <td>25.0</td>\n",
       "      <td>Lagos</td>\n",
       "      <td>Engineer</td>\n",
       "      <td>39485.43</td>\n",
       "      <td>good</td>\n",
       "    </tr>\n",
       "    <tr>\n",
       "      <th>b</th>\n",
       "      <td>2023-01-02</td>\n",
       "      <td>Olaitan</td>\n",
       "      <td>12.0</td>\n",
       "      <td>Kano</td>\n",
       "      <td>Banker</td>\n",
       "      <td>20000.30</td>\n",
       "      <td>good</td>\n",
       "    </tr>\n",
       "    <tr>\n",
       "      <th>c</th>\n",
       "      <td>2023-01-03</td>\n",
       "      <td>NaN</td>\n",
       "      <td>50.0</td>\n",
       "      <td>Niger</td>\n",
       "      <td>Lawyer</td>\n",
       "      <td>7363.00</td>\n",
       "      <td>good</td>\n",
       "    </tr>\n",
       "    <tr>\n",
       "      <th>d</th>\n",
       "      <td>2023-01-04</td>\n",
       "      <td>Pelumi</td>\n",
       "      <td>16.0</td>\n",
       "      <td>NaN</td>\n",
       "      <td>NaN</td>\n",
       "      <td>67362.00</td>\n",
       "      <td>good</td>\n",
       "    </tr>\n",
       "    <tr>\n",
       "      <th>e</th>\n",
       "      <td>2023-01-05</td>\n",
       "      <td>Kemi</td>\n",
       "      <td>19.0</td>\n",
       "      <td>Oyo</td>\n",
       "      <td>Doctor</td>\n",
       "      <td>7362.73</td>\n",
       "      <td>good</td>\n",
       "    </tr>\n",
       "  </tbody>\n",
       "</table>\n",
       "</div>"
      ],
      "text/plain": [
       "         Date     Name   Age  State       Job    Salary Review\n",
       "a  2023-01-01    Jamiu  25.0  Lagos  Engineer  39485.43   good\n",
       "b  2023-01-02  Olaitan  12.0   Kano    Banker  20000.30   good\n",
       "c  2023-01-03      NaN  50.0  Niger    Lawyer   7363.00   good\n",
       "d  2023-01-04   Pelumi  16.0    NaN       NaN  67362.00   good\n",
       "e  2023-01-05     Kemi  19.0    Oyo    Doctor   7362.73   good"
      ]
     },
     "execution_count": 47,
     "metadata": {},
     "output_type": "execute_result"
    }
   ],
   "source": [
    "# print the first seven row of the dataframe:\n",
    "df.head()"
   ]
  },
  {
   "cell_type": "code",
   "execution_count": null,
   "metadata": {},
   "outputs": [],
   "source": []
  },
  {
   "cell_type": "code",
   "execution_count": 48,
   "metadata": {},
   "outputs": [
    {
     "data": {
      "text/html": [
       "<div>\n",
       "<style scoped>\n",
       "    .dataframe tbody tr th:only-of-type {\n",
       "        vertical-align: middle;\n",
       "    }\n",
       "\n",
       "    .dataframe tbody tr th {\n",
       "        vertical-align: top;\n",
       "    }\n",
       "\n",
       "    .dataframe thead th {\n",
       "        text-align: right;\n",
       "    }\n",
       "</style>\n",
       "<table border=\"1\" class=\"dataframe\">\n",
       "  <thead>\n",
       "    <tr style=\"text-align: right;\">\n",
       "      <th></th>\n",
       "      <th>Date</th>\n",
       "      <th>Name</th>\n",
       "      <th>Age</th>\n",
       "      <th>State</th>\n",
       "      <th>Job</th>\n",
       "      <th>Salary</th>\n",
       "      <th>Review</th>\n",
       "    </tr>\n",
       "  </thead>\n",
       "  <tbody>\n",
       "    <tr>\n",
       "      <th>k</th>\n",
       "      <td>2023-01-11</td>\n",
       "      <td>Lukmon</td>\n",
       "      <td>56.0</td>\n",
       "      <td>Adamawa</td>\n",
       "      <td>Artist</td>\n",
       "      <td>NaN</td>\n",
       "      <td>good</td>\n",
       "    </tr>\n",
       "    <tr>\n",
       "      <th>l</th>\n",
       "      <td>2023-01-12</td>\n",
       "      <td>NaN</td>\n",
       "      <td>78.0</td>\n",
       "      <td>Benue</td>\n",
       "      <td>Footballer</td>\n",
       "      <td>9448.34</td>\n",
       "      <td>good</td>\n",
       "    </tr>\n",
       "    <tr>\n",
       "      <th>m</th>\n",
       "      <td>2023-01-13</td>\n",
       "      <td>Idris</td>\n",
       "      <td>34.0</td>\n",
       "      <td>Edo</td>\n",
       "      <td>Nurse</td>\n",
       "      <td>NaN</td>\n",
       "      <td>good</td>\n",
       "    </tr>\n",
       "    <tr>\n",
       "      <th>n</th>\n",
       "      <td>2023-01-14</td>\n",
       "      <td>Rashford</td>\n",
       "      <td>NaN</td>\n",
       "      <td>Jos</td>\n",
       "      <td>NaN</td>\n",
       "      <td>8499.00</td>\n",
       "      <td>good</td>\n",
       "    </tr>\n",
       "    <tr>\n",
       "      <th>o</th>\n",
       "      <td>2023-01-15</td>\n",
       "      <td>NaN</td>\n",
       "      <td>12.0</td>\n",
       "      <td>Kano</td>\n",
       "      <td>NaN</td>\n",
       "      <td>20000.30</td>\n",
       "      <td>good</td>\n",
       "    </tr>\n",
       "    <tr>\n",
       "      <th>p</th>\n",
       "      <td>2023-01-16</td>\n",
       "      <td>Olaitan</td>\n",
       "      <td>34.0</td>\n",
       "      <td>Delta</td>\n",
       "      <td>Banker</td>\n",
       "      <td>3849.00</td>\n",
       "      <td>good</td>\n",
       "    </tr>\n",
       "    <tr>\n",
       "      <th>q</th>\n",
       "      <td>2023-01-01</td>\n",
       "      <td>Jamiu</td>\n",
       "      <td>25.0</td>\n",
       "      <td>Lagos</td>\n",
       "      <td>Engineer</td>\n",
       "      <td>39485.43</td>\n",
       "      <td>good</td>\n",
       "    </tr>\n",
       "  </tbody>\n",
       "</table>\n",
       "</div>"
      ],
      "text/plain": [
       "         Date      Name   Age    State         Job    Salary Review\n",
       "k  2023-01-11    Lukmon  56.0  Adamawa      Artist       NaN   good\n",
       "l  2023-01-12       NaN  78.0    Benue  Footballer   9448.34   good\n",
       "m  2023-01-13     Idris  34.0      Edo       Nurse       NaN   good\n",
       "n  2023-01-14  Rashford   NaN      Jos         NaN   8499.00   good\n",
       "o  2023-01-15       NaN  12.0     Kano         NaN  20000.30   good\n",
       "p  2023-01-16   Olaitan  34.0    Delta      Banker   3849.00   good\n",
       "q  2023-01-01     Jamiu  25.0    Lagos    Engineer  39485.43   good"
      ]
     },
     "execution_count": 48,
     "metadata": {},
     "output_type": "execute_result"
    }
   ],
   "source": [
    "# print the last seven row of the dataframe\n",
    "df.tail(7)\n"
   ]
  },
  {
   "cell_type": "code",
   "execution_count": null,
   "metadata": {},
   "outputs": [],
   "source": []
  },
  {
   "cell_type": "code",
   "execution_count": 49,
   "metadata": {},
   "outputs": [
    {
     "data": {
      "text/html": [
       "<div>\n",
       "<style scoped>\n",
       "    .dataframe tbody tr th:only-of-type {\n",
       "        vertical-align: middle;\n",
       "    }\n",
       "\n",
       "    .dataframe tbody tr th {\n",
       "        vertical-align: top;\n",
       "    }\n",
       "\n",
       "    .dataframe thead th {\n",
       "        text-align: right;\n",
       "    }\n",
       "</style>\n",
       "<table border=\"1\" class=\"dataframe\">\n",
       "  <thead>\n",
       "    <tr style=\"text-align: right;\">\n",
       "      <th></th>\n",
       "      <th>Date</th>\n",
       "      <th>Name</th>\n",
       "      <th>Age</th>\n",
       "      <th>State</th>\n",
       "      <th>Job</th>\n",
       "      <th>Salary</th>\n",
       "      <th>Review</th>\n",
       "    </tr>\n",
       "  </thead>\n",
       "  <tbody>\n",
       "    <tr>\n",
       "      <th>f</th>\n",
       "      <td>2023-01-01</td>\n",
       "      <td>Jamiu</td>\n",
       "      <td>25.0</td>\n",
       "      <td>Lagos</td>\n",
       "      <td>Engineer</td>\n",
       "      <td>39485.43</td>\n",
       "      <td>good</td>\n",
       "    </tr>\n",
       "    <tr>\n",
       "      <th>o</th>\n",
       "      <td>2023-01-15</td>\n",
       "      <td>NaN</td>\n",
       "      <td>12.0</td>\n",
       "      <td>Kano</td>\n",
       "      <td>NaN</td>\n",
       "      <td>20000.30</td>\n",
       "      <td>good</td>\n",
       "    </tr>\n",
       "    <tr>\n",
       "      <th>m</th>\n",
       "      <td>2023-01-13</td>\n",
       "      <td>Idris</td>\n",
       "      <td>34.0</td>\n",
       "      <td>Edo</td>\n",
       "      <td>Nurse</td>\n",
       "      <td>NaN</td>\n",
       "      <td>good</td>\n",
       "    </tr>\n",
       "    <tr>\n",
       "      <th>k</th>\n",
       "      <td>2023-01-11</td>\n",
       "      <td>Lukmon</td>\n",
       "      <td>56.0</td>\n",
       "      <td>Adamawa</td>\n",
       "      <td>Artist</td>\n",
       "      <td>NaN</td>\n",
       "      <td>good</td>\n",
       "    </tr>\n",
       "    <tr>\n",
       "      <th>d</th>\n",
       "      <td>2023-01-04</td>\n",
       "      <td>Pelumi</td>\n",
       "      <td>16.0</td>\n",
       "      <td>NaN</td>\n",
       "      <td>NaN</td>\n",
       "      <td>67362.00</td>\n",
       "      <td>good</td>\n",
       "    </tr>\n",
       "    <tr>\n",
       "      <th>j</th>\n",
       "      <td>2023-01-10</td>\n",
       "      <td>Sanhco</td>\n",
       "      <td>34.0</td>\n",
       "      <td>Kwara</td>\n",
       "      <td>Nurse</td>\n",
       "      <td>NaN</td>\n",
       "      <td>good</td>\n",
       "    </tr>\n",
       "    <tr>\n",
       "      <th>h</th>\n",
       "      <td>2023-01-08</td>\n",
       "      <td>Richard</td>\n",
       "      <td>30.0</td>\n",
       "      <td>Delta</td>\n",
       "      <td>CEO</td>\n",
       "      <td>83663.28</td>\n",
       "      <td>good</td>\n",
       "    </tr>\n",
       "  </tbody>\n",
       "</table>\n",
       "</div>"
      ],
      "text/plain": [
       "         Date     Name   Age    State       Job    Salary Review\n",
       "f  2023-01-01    Jamiu  25.0    Lagos  Engineer  39485.43   good\n",
       "o  2023-01-15      NaN  12.0     Kano       NaN  20000.30   good\n",
       "m  2023-01-13    Idris  34.0      Edo     Nurse       NaN   good\n",
       "k  2023-01-11   Lukmon  56.0  Adamawa    Artist       NaN   good\n",
       "d  2023-01-04   Pelumi  16.0      NaN       NaN  67362.00   good\n",
       "j  2023-01-10   Sanhco  34.0    Kwara     Nurse       NaN   good\n",
       "h  2023-01-08  Richard  30.0    Delta       CEO  83663.28   good"
      ]
     },
     "execution_count": 49,
     "metadata": {},
     "output_type": "execute_result"
    }
   ],
   "source": [
    "# randomly print seven in the dataframe\n",
    "df.sample(7)"
   ]
  },
  {
   "cell_type": "code",
   "execution_count": null,
   "metadata": {},
   "outputs": [],
   "source": []
  },
  {
   "cell_type": "code",
   "execution_count": 50,
   "metadata": {},
   "outputs": [
    {
     "name": "stdout",
     "output_type": "stream",
     "text": [
      "<class 'pandas.core.frame.DataFrame'>\n",
      "Index: 17 entries, a to q\n",
      "Data columns (total 7 columns):\n",
      " #   Column  Non-Null Count  Dtype  \n",
      "---  ------  --------------  -----  \n",
      " 0   Date    17 non-null     object \n",
      " 1   Name    14 non-null     object \n",
      " 2   Age     15 non-null     float64\n",
      " 3   State   15 non-null     object \n",
      " 4   Job     14 non-null     object \n",
      " 5   Salary  13 non-null     float64\n",
      " 6   Review  17 non-null     object \n",
      "dtypes: float64(2), object(5)\n",
      "memory usage: 1.1+ KB\n"
     ]
    }
   ],
   "source": [
    "# print the summary of the dataframe\n",
    "df.info()"
   ]
  },
  {
   "cell_type": "code",
   "execution_count": null,
   "metadata": {},
   "outputs": [],
   "source": []
  },
  {
   "cell_type": "code",
   "execution_count": 51,
   "metadata": {},
   "outputs": [
    {
     "data": {
      "text/plain": [
       "(17, 7)"
      ]
     },
     "execution_count": 51,
     "metadata": {},
     "output_type": "execute_result"
    }
   ],
   "source": [
    " # print the dimension of the dataframe\n",
    "df.shape"
   ]
  },
  {
   "cell_type": "code",
   "execution_count": null,
   "metadata": {},
   "outputs": [],
   "source": []
  },
  {
   "cell_type": "code",
   "execution_count": 52,
   "metadata": {},
   "outputs": [
    {
     "data": {
      "text/plain": [
       "Index(['Date', 'Name', 'Age', 'State', 'Job', 'Salary', 'Review'], dtype='object')"
      ]
     },
     "execution_count": 52,
     "metadata": {},
     "output_type": "execute_result"
    }
   ],
   "source": [
    "# print all the column of the dataframe\n",
    "df.columns"
   ]
  },
  {
   "cell_type": "code",
   "execution_count": null,
   "metadata": {},
   "outputs": [],
   "source": []
  },
  {
   "cell_type": "code",
   "execution_count": null,
   "metadata": {},
   "outputs": [],
   "source": [
    "# gives the statistical summary of the dataframe\n"
   ]
  },
  {
   "cell_type": "markdown",
   "metadata": {},
   "source": [
    "# Row and Column Selection in Dataframe"
   ]
  },
  {
   "cell_type": "code",
   "execution_count": null,
   "metadata": {},
   "outputs": [],
   "source": [
    "# Using tne label name, select the second column of the dataframe and all the rows"
   ]
  },
  {
   "cell_type": "code",
   "execution_count": 1,
   "metadata": {},
   "outputs": [
    {
     "ename": "NameError",
     "evalue": "name 'df' is not defined",
     "output_type": "error",
     "traceback": [
      "\u001b[1;31m---------------------------------------------------------------------------\u001b[0m",
      "\u001b[1;31mNameError\u001b[0m                                 Traceback (most recent call last)",
      "\u001b[1;32m~\\AppData\\Local\\Temp\\ipykernel_11964\\4183337469.py\u001b[0m in \u001b[0;36m<module>\u001b[1;34m\u001b[0m\n\u001b[1;32m----> 1\u001b[1;33m \u001b[0mdf\u001b[0m\u001b[1;33m.\u001b[0m\u001b[0mloc\u001b[0m\u001b[1;33m[\u001b[0m\u001b[1;33m:\u001b[0m\u001b[1;33m,\u001b[0m\u001b[1;33m[\u001b[0m\u001b[1;34m\"Name\"\u001b[0m\u001b[1;33m,\u001b[0m \u001b[1;34m\"State\"\u001b[0m\u001b[1;33m,\u001b[0m \u001b[1;34m\"Salary\"\u001b[0m\u001b[1;33m]\u001b[0m\u001b[1;33m]\u001b[0m\u001b[1;33m\u001b[0m\u001b[1;33m\u001b[0m\u001b[0m\n\u001b[0m",
      "\u001b[1;31mNameError\u001b[0m: name 'df' is not defined"
     ]
    }
   ],
   "source": [
    "df.loc[:,[\"Name\", \"State\", \"Salary\"]]"
   ]
  },
  {
   "cell_type": "code",
   "execution_count": null,
   "metadata": {},
   "outputs": [],
   "source": [
    "# Using tne label name, select the second column of the dataframe and row 5 to 10"
   ]
  },
  {
   "cell_type": "code",
   "execution_count": null,
   "metadata": {},
   "outputs": [],
   "source": []
  },
  {
   "cell_type": "code",
   "execution_count": null,
   "metadata": {},
   "outputs": [],
   "source": [
    "# Using tne label name, select the second, fourth and the sixth columns of the dataframe and all\n",
    "# the rows"
   ]
  },
  {
   "cell_type": "code",
   "execution_count": null,
   "metadata": {},
   "outputs": [],
   "source": []
  },
  {
   "cell_type": "code",
   "execution_count": 37,
   "metadata": {},
   "outputs": [],
   "source": [
    "# Using tne label name, select the second, fourth and the sixth columns of the dataframe and rows from\n",
    "# 7, 10, 12  and  14"
   ]
  },
  {
   "cell_type": "code",
   "execution_count": null,
   "metadata": {},
   "outputs": [],
   "source": []
  },
  {
   "cell_type": "code",
   "execution_count": null,
   "metadata": {},
   "outputs": [],
   "source": []
  },
  {
   "cell_type": "code",
   "execution_count": null,
   "metadata": {},
   "outputs": [],
   "source": [
    "# Using tne index number, select the second column of the dataframe and all the rows"
   ]
  },
  {
   "cell_type": "code",
   "execution_count": null,
   "metadata": {},
   "outputs": [],
   "source": []
  },
  {
   "cell_type": "code",
   "execution_count": null,
   "metadata": {},
   "outputs": [],
   "source": [
    "# Using tne index number, select the second column of the dataframe and row 5 to 10"
   ]
  },
  {
   "cell_type": "code",
   "execution_count": null,
   "metadata": {},
   "outputs": [],
   "source": []
  },
  {
   "cell_type": "code",
   "execution_count": null,
   "metadata": {},
   "outputs": [],
   "source": [
    "# Using tne index number, select the second, fourth and the sixth columns of the dataframe and all\n",
    "# the rows"
   ]
  },
  {
   "cell_type": "code",
   "execution_count": null,
   "metadata": {},
   "outputs": [],
   "source": []
  },
  {
   "cell_type": "code",
   "execution_count": 47,
   "metadata": {},
   "outputs": [],
   "source": [
    "# Using tne index number, select the second, fourth and the sixth columns of the dataframe and rows from\n",
    "# 7, 11 and 14"
   ]
  },
  {
   "cell_type": "code",
   "execution_count": null,
   "metadata": {},
   "outputs": [],
   "source": []
  },
  {
   "cell_type": "code",
   "execution_count": null,
   "metadata": {},
   "outputs": [],
   "source": []
  },
  {
   "cell_type": "markdown",
   "metadata": {},
   "source": [
    "# Modifying Data on the dataframe "
   ]
  },
  {
   "cell_type": "code",
   "execution_count": null,
   "metadata": {},
   "outputs": [],
   "source": []
  },
  {
   "cell_type": "code",
   "execution_count": null,
   "metadata": {},
   "outputs": [],
   "source": [
    "# Mrs Pelumi asked to update her State and job as follow (Abuja and Data science ). perform the task"
   ]
  },
  {
   "cell_type": "code",
   "execution_count": 45,
   "metadata": {},
   "outputs": [],
   "source": [
    "player_dicts={\"Play\":['Kai Harvert', 'Gabriel Jesus',  'Gabriel Jesus', \"Declan Rice\", \"Thomas Patrey\", \n",
    "         \"Bukayo Saka\", \"Bukayo Saka\"], \n",
    "              \"Agekkkkkk\":[24,26, 26,24,30,21, 21],\n",
    "                }\n",
    "\n",
    "arsenal = pd.DataFrame(player_dicts)"
   ]
  },
  {
   "cell_type": "code",
   "execution_count": null,
   "metadata": {},
   "outputs": [],
   "source": [
    "# the list below is the salary of the arsenal player in the above datarame \n",
    "# [280000, 265000, 265000, 240000, 20000,  195000, 195000], add it to the dataframe as a column"
   ]
  },
  {
   "cell_type": "code",
   "execution_count": null,
   "metadata": {},
   "outputs": [],
   "source": []
  },
  {
   "cell_type": "code",
   "execution_count": null,
   "metadata": {},
   "outputs": [],
   "source": [
    "# the columns of the dataframe above is not descriptive. change them appropriately"
   ]
  },
  {
   "cell_type": "code",
   "execution_count": null,
   "metadata": {},
   "outputs": [],
   "source": []
  },
  {
   "cell_type": "code",
   "execution_count": null,
   "metadata": {},
   "outputs": [],
   "source": []
  },
  {
   "cell_type": "code",
   "execution_count": null,
   "metadata": {},
   "outputs": [],
   "source": [
    "# remove row second and fourth rows in the dataframe above"
   ]
  },
  {
   "cell_type": "code",
   "execution_count": null,
   "metadata": {},
   "outputs": [],
   "source": []
  },
  {
   "cell_type": "code",
   "execution_count": null,
   "metadata": {},
   "outputs": [],
   "source": []
  },
  {
   "cell_type": "code",
   "execution_count": null,
   "metadata": {},
   "outputs": [],
   "source": [
    "# remove the age column from the dataframe above"
   ]
  },
  {
   "cell_type": "code",
   "execution_count": null,
   "metadata": {},
   "outputs": [],
   "source": []
  },
  {
   "cell_type": "code",
   "execution_count": null,
   "metadata": {},
   "outputs": [],
   "source": [
    "# remove the second and  the fourth rows from the dataframe above\n"
   ]
  },
  {
   "cell_type": "code",
   "execution_count": null,
   "metadata": {},
   "outputs": [],
   "source": []
  },
  {
   "cell_type": "code",
   "execution_count": null,
   "metadata": {},
   "outputs": [],
   "source": [
    "# check for duplicates and remove them in the dataframe above"
   ]
  },
  {
   "cell_type": "code",
   "execution_count": null,
   "metadata": {},
   "outputs": [],
   "source": []
  },
  {
   "cell_type": "code",
   "execution_count": null,
   "metadata": {},
   "outputs": [],
   "source": []
  },
  {
   "cell_type": "code",
   "execution_count": null,
   "metadata": {},
   "outputs": [],
   "source": []
  }
 ],
 "metadata": {
  "kernelspec": {
   "display_name": "Python 3 (ipykernel)",
   "language": "python",
   "name": "python3"
  },
  "language_info": {
   "codemirror_mode": {
    "name": "ipython",
    "version": 3
   },
   "file_extension": ".py",
   "mimetype": "text/x-python",
   "name": "python",
   "nbconvert_exporter": "python",
   "pygments_lexer": "ipython3",
   "version": "3.9.13"
  }
 },
 "nbformat": 4,
 "nbformat_minor": 4
}
